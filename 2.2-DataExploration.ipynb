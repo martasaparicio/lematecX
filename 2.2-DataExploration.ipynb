{
  "nbformat": 4,
  "nbformat_minor": 0,
  "metadata": {
    "colab": {
      "name": "DataExploration.ipynb",
      "provenance": [],
      "collapsed_sections": [],
      "toc_visible": true,
      "include_colab_link": true
    },
    "kernelspec": {
      "name": "python3",
      "display_name": "Python 3"
    },
    "language_info": {
      "name": "python"
    }
  },
  "cells": [
    {
      "cell_type": "markdown",
      "metadata": {
        "id": "view-in-github",
        "colab_type": "text"
      },
      "source": [
        "<a href=\"https://colab.research.google.com/github/martasaparicio/lematecX/blob/main/2.2-DataExploration.ipynb\" target=\"_parent\"><img src=\"https://colab.research.google.com/assets/colab-badge.svg\" alt=\"Open In Colab\"/></a>"
      ]
    },
    {
      "cell_type": "markdown",
      "metadata": {
        "id": "GMs-hOyw4ogu"
      },
      "source": [
        "# Data Exploration"
      ]
    },
    {
      "cell_type": "markdown",
      "metadata": {
        "id": "_3-aoWcxB6yV"
      },
      "source": [
        "## Introduction\n",
        "\n",
        "On its own, **data** does not tell us much. In order for data to be of any use, we have to look at it and interpret it in order to be able to extract the information that we want.\n",
        "\n",
        "Therefore, the second step of problem solving is to analyse the necessary data. This analysis involves using data **exploration operations**, which allow us to perform tasks such as producing statistical and graphical summaries.\n",
        "\n",
        "Data exploration is essential in machine learning because it helps us **understand the problem** we need to solve and how we can solve it. This knowledge later helps us to model the problem and to choose the appropriate algorithms to solve it. \n",
        "\n",
        "Let us consider the following **analogy**: the data exploration phase is equivalent to wearing glasses when you have poor eyesight. When this is the case, our vision of the world is unfocused. However, when we put on glasses, everything becomes clearer and we are able to make sense of what we see. The same concept applies to machine learning: when we want to analyse data, it is important to put on a pair of glasses that allow us to have a clearer view of reality. \n",
        "\n",
        "In this tutorial we will present the main elements of data visualisation: \n",
        "\n",
        "*   ***Seaborn* library**. The *seaborn* library is used in data exploration, more specifically, it is used to create charts.\n",
        "*   **Data visualisation**. There are several types of charts that can be created using the *seaborn* library.\n",
        "  *   **Relational charts**. These charts illustrate the relationship between continuous variables.\n",
        "  *   **Categorical charts**. These charts illustrate the relationship between variables, when one of the variables is discrete.\n",
        "  *   **Distribution charts**. These charts show the distribution of the values of a variable. \n",
        "  *   **Multicharts**. They combine different chart types.\n",
        "  *   **Matrix charts**. They show the relationship between variables, in a grid format.\n",
        "*   **Error and anomaly detection**. Sometimes data contains errors and anomalies that need to be corrected. \n",
        "\n",
        "This tutorial has several **examples** that demonstrate how code is applied and the effects of its application. What is more, during the tutorial you will encounter various challenges to check whether you understand the material. At the end, all of the content presented will be summarised. \n",
        "\n",
        "Note that this is an **introductory-level** tutorial and for this reason, several important aspects are not covered. For more information, we recommend that you consult the [official *seaborn* library documentation](http://seaborn.pydata.org/)."
      ]
    },
    {
      "cell_type": "markdown",
      "metadata": {
        "id": "Xwg1O9Ds7ltk"
      },
      "source": [
        "## Seaborn Library\n",
        "\n",
        "***Seaborn*** is a Python library that allows you to explore data. As such, *seaborn* has a set of features that facilitate the execution of tasks related to data exploration, specifically, tasks related to data visualisation. \n",
        "\n",
        "To import the *seaborn* library, do the following: "
      ]
    },
    {
      "cell_type": "code",
      "metadata": {
        "id": "ovjniHTU7_Im"
      },
      "source": [
        "import seaborn as sns"
      ],
      "execution_count": null,
      "outputs": []
    },
    {
      "cell_type": "markdown",
      "metadata": {
        "id": "-k7alzQt8Hi0"
      },
      "source": [
        "In the previous instruction:\n",
        "\n",
        "*   The word `import` tells the computer that we want to import a library.\n",
        "*   The word `seaborn` identifies the library that we want to import (*seaborn* library).\n",
        "*   The expression `as sns` means that we want to abbreviate the library access request (instead of having to write *seaborn* every time we want to use the library, the command is shortened to just `sns`).\n",
        "\n",
        "The library’s **features become available** from the moment the library is imported.\n",
        "\n",
        "This tutorial illustrates the *seaborn* library’s various features related to **data visualisation**. More specifically, you will be presented with the instructions necessary to produce the following types of charts:\n",
        "\n",
        "*   Relational charts.\n",
        "*   Categorical charts.\n",
        "*   Distribution charts.\n",
        "*   Multicharts.\n",
        "*   Matrix charts."
      ]
    },
    {
      "cell_type": "markdown",
      "metadata": {
        "id": "PnHLICaT9gBr"
      },
      "source": [
        "## Data Visualisation "
      ]
    },
    {
      "cell_type": "markdown",
      "metadata": {
        "id": "x8B4f79iCJgP"
      },
      "source": [
        "### Relational Charts\n",
        "\n",
        "Relational charts are used when we want to explore the **relationship between two numerical variables**. \n",
        "\n",
        "There are usually two types of relational charts: \n",
        "*   **Scatter plots**.\n",
        "*   **Line plots**.\n",
        "\n",
        "In *seaborn*, we can make relational charts using the `relplot` method, specifying in the method’s parameters whether we want a scatter plot (`scatter`) or a line chart (`line`). \n",
        "\n",
        "Alternatively, we can directly use the `scatterplot` (scatter plot) or `lineplot` (line chart) methods. Throughout the tutorial, preference is given to this method."
      ]
    },
    {
      "cell_type": "markdown",
      "metadata": {
        "id": "him07-2e_JxD"
      },
      "source": [
        "#### Scatterplot\n",
        "\n",
        "A `scatterplot` draws dispersion graphs that demonstrates the relationship between two numerical variables through a series of **dots**. Given that a `scatterplot` is the first type of graph that we will see, we will use it as a basis to understand the general structure of the *seaborn* instructions. \n",
        "\n",
        "With *seaborn*, all it takes is one line of code to draw a scatter plot. To illustrate how to create this type of graph, we will need data. So, let us start by importing a dataset that we can use as an example. \n",
        "\n",
        "Contrary to what we did in the 'Data Preparation' tutorial - where we imported data from the Internet - we will load a **built-in dataset from the *seaborn* library**. This dataset is called `tips` and will have data concerning restaurant tips. For more information about the built-in datasets available in *seaborn*, we recommend that you consult the [official documentation](https://seaborn.pydata.org/generated/seaborn.load_dataset.html)."
      ]
    },
    {
      "cell_type": "code",
      "metadata": {
        "id": "6cbQRODcARf4",
        "colab": {
          "base_uri": "https://localhost:8080/",
          "height": 424
        },
        "outputId": "801a7263-e65a-4123-bdf4-639990e45189"
      },
      "source": [
        "df = sns.load_dataset('tips')\n",
        "df"
      ],
      "execution_count": null,
      "outputs": [
        {
          "output_type": "execute_result",
          "data": {
            "text/html": [
              "<div>\n",
              "<style scoped>\n",
              "    .dataframe tbody tr th:only-of-type {\n",
              "        vertical-align: middle;\n",
              "    }\n",
              "\n",
              "    .dataframe tbody tr th {\n",
              "        vertical-align: top;\n",
              "    }\n",
              "\n",
              "    .dataframe thead th {\n",
              "        text-align: right;\n",
              "    }\n",
              "</style>\n",
              "<table border=\"1\" class=\"dataframe\">\n",
              "  <thead>\n",
              "    <tr style=\"text-align: right;\">\n",
              "      <th></th>\n",
              "      <th>total_bill</th>\n",
              "      <th>tip</th>\n",
              "      <th>sex</th>\n",
              "      <th>smoker</th>\n",
              "      <th>day</th>\n",
              "      <th>time</th>\n",
              "      <th>size</th>\n",
              "    </tr>\n",
              "  </thead>\n",
              "  <tbody>\n",
              "    <tr>\n",
              "      <th>0</th>\n",
              "      <td>16.99</td>\n",
              "      <td>1.01</td>\n",
              "      <td>Female</td>\n",
              "      <td>No</td>\n",
              "      <td>Sun</td>\n",
              "      <td>Dinner</td>\n",
              "      <td>2</td>\n",
              "    </tr>\n",
              "    <tr>\n",
              "      <th>1</th>\n",
              "      <td>10.34</td>\n",
              "      <td>1.66</td>\n",
              "      <td>Male</td>\n",
              "      <td>No</td>\n",
              "      <td>Sun</td>\n",
              "      <td>Dinner</td>\n",
              "      <td>3</td>\n",
              "    </tr>\n",
              "    <tr>\n",
              "      <th>2</th>\n",
              "      <td>21.01</td>\n",
              "      <td>3.50</td>\n",
              "      <td>Male</td>\n",
              "      <td>No</td>\n",
              "      <td>Sun</td>\n",
              "      <td>Dinner</td>\n",
              "      <td>3</td>\n",
              "    </tr>\n",
              "    <tr>\n",
              "      <th>3</th>\n",
              "      <td>23.68</td>\n",
              "      <td>3.31</td>\n",
              "      <td>Male</td>\n",
              "      <td>No</td>\n",
              "      <td>Sun</td>\n",
              "      <td>Dinner</td>\n",
              "      <td>2</td>\n",
              "    </tr>\n",
              "    <tr>\n",
              "      <th>4</th>\n",
              "      <td>24.59</td>\n",
              "      <td>3.61</td>\n",
              "      <td>Female</td>\n",
              "      <td>No</td>\n",
              "      <td>Sun</td>\n",
              "      <td>Dinner</td>\n",
              "      <td>4</td>\n",
              "    </tr>\n",
              "    <tr>\n",
              "      <th>...</th>\n",
              "      <td>...</td>\n",
              "      <td>...</td>\n",
              "      <td>...</td>\n",
              "      <td>...</td>\n",
              "      <td>...</td>\n",
              "      <td>...</td>\n",
              "      <td>...</td>\n",
              "    </tr>\n",
              "    <tr>\n",
              "      <th>239</th>\n",
              "      <td>29.03</td>\n",
              "      <td>5.92</td>\n",
              "      <td>Male</td>\n",
              "      <td>No</td>\n",
              "      <td>Sat</td>\n",
              "      <td>Dinner</td>\n",
              "      <td>3</td>\n",
              "    </tr>\n",
              "    <tr>\n",
              "      <th>240</th>\n",
              "      <td>27.18</td>\n",
              "      <td>2.00</td>\n",
              "      <td>Female</td>\n",
              "      <td>Yes</td>\n",
              "      <td>Sat</td>\n",
              "      <td>Dinner</td>\n",
              "      <td>2</td>\n",
              "    </tr>\n",
              "    <tr>\n",
              "      <th>241</th>\n",
              "      <td>22.67</td>\n",
              "      <td>2.00</td>\n",
              "      <td>Male</td>\n",
              "      <td>Yes</td>\n",
              "      <td>Sat</td>\n",
              "      <td>Dinner</td>\n",
              "      <td>2</td>\n",
              "    </tr>\n",
              "    <tr>\n",
              "      <th>242</th>\n",
              "      <td>17.82</td>\n",
              "      <td>1.75</td>\n",
              "      <td>Male</td>\n",
              "      <td>No</td>\n",
              "      <td>Sat</td>\n",
              "      <td>Dinner</td>\n",
              "      <td>2</td>\n",
              "    </tr>\n",
              "    <tr>\n",
              "      <th>243</th>\n",
              "      <td>18.78</td>\n",
              "      <td>3.00</td>\n",
              "      <td>Female</td>\n",
              "      <td>No</td>\n",
              "      <td>Thur</td>\n",
              "      <td>Dinner</td>\n",
              "      <td>2</td>\n",
              "    </tr>\n",
              "  </tbody>\n",
              "</table>\n",
              "<p>244 rows × 7 columns</p>\n",
              "</div>"
            ],
            "text/plain": [
              "     total_bill   tip     sex smoker   day    time  size\n",
              "0         16.99  1.01  Female     No   Sun  Dinner     2\n",
              "1         10.34  1.66    Male     No   Sun  Dinner     3\n",
              "2         21.01  3.50    Male     No   Sun  Dinner     3\n",
              "3         23.68  3.31    Male     No   Sun  Dinner     2\n",
              "4         24.59  3.61  Female     No   Sun  Dinner     4\n",
              "..          ...   ...     ...    ...   ...     ...   ...\n",
              "239       29.03  5.92    Male     No   Sat  Dinner     3\n",
              "240       27.18  2.00  Female    Yes   Sat  Dinner     2\n",
              "241       22.67  2.00    Male    Yes   Sat  Dinner     2\n",
              "242       17.82  1.75    Male     No   Sat  Dinner     2\n",
              "243       18.78  3.00  Female     No  Thur  Dinner     2\n",
              "\n",
              "[244 rows x 7 columns]"
            ]
          },
          "metadata": {
            "tags": []
          },
          "execution_count": 2
        }
      ]
    },
    {
      "cell_type": "markdown",
      "metadata": {
        "id": "TKkYtiadAYRB"
      },
      "source": [
        "In the previous instruction:\n",
        "\n",
        "*   `df` is the variable where we store the data we are going to import.\n",
        "*   `sns.load_dataset ()` is the statement we use to import the dataset from the *seaborn* library.\n",
        "  *   The use of `sns.` tells the computer that the `load_dataset ()` function is in the *seaborn* library.\n",
        "  *   When importing the library, keep in mind that we used the `as sns` instruction. So now we can write `sns.` to use the library. Otherwise, we would have to use `seaborn.`.\n",
        "*   `tips` is the name of the dataset we want to import.\n",
        "  *   For this reason, it falls within the `()` of the `sns.load_dataset ()` instruction.\n",
        "*   `df` serves to display what is stored in the `df` variable.\n",
        "\n",
        "Now that we have the data, we can draw a scatter plot. For the purposes of this example, let us consider that we want to investigate the **relationship between the variables 'total_bill' and 'tip'**. Building on this example, we will draw the scatter plot using the `relplot` and `scatterplot` methods. The latter will be considered in the rest of the tutorial."
      ]
    },
    {
      "cell_type": "code",
      "metadata": {
        "id": "r1On9FB4ByAX",
        "colab": {
          "base_uri": "https://localhost:8080/",
          "height": 402
        },
        "outputId": "814a7c8b-4bb1-4823-9397-d810288568ff"
      },
      "source": [
        "sns.relplot(x='total_bill', y='tip', data=df, kind='scatter')"
      ],
      "execution_count": null,
      "outputs": [
        {
          "output_type": "execute_result",
          "data": {
            "text/plain": [
              "<seaborn.axisgrid.FacetGrid at 0x7fb49d1080d0>"
            ]
          },
          "metadata": {
            "tags": []
          },
          "execution_count": 3
        },
        {
          "output_type": "display_data",
          "data": {
            "image/png": "[encoded data removed]",
            "text/plain": [
              "<Figure size 360x360 with 1 Axes>"
            ]
          },
          "metadata": {
            "tags": [],
            "needs_background": "light"
          }
        }
      ]
    },
    {
      "cell_type": "code",
      "metadata": {
        "id": "l-uITa6kBz7h",
        "colab": {
          "base_uri": "https://localhost:8080/",
          "height": 298
        },
        "outputId": "b5288495-a236-49e8-906b-05d80c09b4a0"
      },
      "source": [
        "sns.scatterplot(x='total_bill', y='tip', data=df)"
      ],
      "execution_count": null,
      "outputs": [
        {
          "output_type": "execute_result",
          "data": {
            "text/plain": [
              "<matplotlib.axes._subplots.AxesSubplot at 0x7fb493d77e10>"
            ]
          },
          "metadata": {
            "tags": []
          },
          "execution_count": 4
        },
        {
          "output_type": "display_data",
          "data": {
            "image/png": "[encoded data removed]",
            "text/plain": [
              "<Figure size 432x288 with 1 Axes>"
            ]
          },
          "metadata": {
            "tags": [],
            "needs_background": "light"
          }
        }
      ]
    },
    {
      "cell_type": "markdown",
      "metadata": {
        "id": "1XTlYx6RB7ch"
      },
      "source": [
        "In the previous instruction:\n",
        "\n",
        "*   `sns.scatterplot ()` tells the computer that we want to draw a scatter plot.\n",
        "*   `x = 'total_bill', y = 'tip', data = df` specifies the data to be used in the plot.\n",
        "  *   We specified that we wanted the variable 'total_bill' to be on the x-axis.\n",
        "  *   We specified that we wanted the variable 'tip' to be on the y-axis.\n",
        "  *   And we established that the data can be found in the 'df' variable.\n",
        "\n",
        "We can consult the [official documentation](https://seaborn.pydata.org/generated/seaborn.scatterplot.html) regarding the entry of the `scatterplot` function, to see which parameters can be defined when we call this function. The same is true of the other functions and methods in the *seaborn* library.\n",
        "\n",
        "Whenever we want to create charts with *seaborn*, we will follow the same **structure** used in the `scatterplot` function. Typically, the only things that changes are:\n",
        "*   The names of the functions, which vary depending on the type of chart we want to create.\n",
        "*   The values we assign to the function's parameters, which vary depending on what we do throughout the code.\n",
        "\n",
        "A parameter that is not essential, although it is useful in many cases, is the `hue` parameter. This parameter allows us to **highlight information according to a third variable**. To better understand this, let us imagine that we want to investigate the relationship between the variables 'total_bill' and 'tip', distinguishing between male and female customers (whose information is found in the variable 'sex'). \n",
        "\n",
        "Based on this, we would do the following: "
      ]
    },
    {
      "cell_type": "code",
      "metadata": {
        "id": "bHBDoqUEDiFI",
        "colab": {
          "base_uri": "https://localhost:8080/",
          "height": 298
        },
        "outputId": "338cbf33-5852-41ef-ab13-fcd3539185c0"
      },
      "source": [
        "sns.scatterplot(x='total_bill', y='tip', data=df, hue='sex')"
      ],
      "execution_count": null,
      "outputs": [
        {
          "output_type": "execute_result",
          "data": {
            "text/plain": [
              "<matplotlib.axes._subplots.AxesSubplot at 0x7fb4938bc5d0>"
            ]
          },
          "metadata": {
            "tags": []
          },
          "execution_count": 5
        },
        {
          "output_type": "display_data",
          "data": {
            "image/png": "[encoded data removed]",
            "text/plain": [
              "<Figure size 432x288 with 1 Axes>"
            ]
          },
          "metadata": {
            "tags": [],
            "needs_background": "light"
          }
        }
      ]
    },
    {
      "cell_type": "markdown",
      "metadata": {
        "id": "XSSR1E3JDoyL"
      },
      "source": [
        "The same would be valid if we wanted to distinguish by days of the week (whose information can be found in the variable 'day'): "
      ]
    },
    {
      "cell_type": "code",
      "metadata": {
        "id": "WaEwrJbmDrpr",
        "colab": {
          "base_uri": "https://localhost:8080/",
          "height": 298
        },
        "outputId": "8112a110-7d92-4fe3-9ce2-2a3e8476f3d3"
      },
      "source": [
        "sns.scatterplot(x='total_bill',y='tip',data=df, hue='day')"
      ],
      "execution_count": null,
      "outputs": [
        {
          "output_type": "execute_result",
          "data": {
            "text/plain": [
              "<matplotlib.axes._subplots.AxesSubplot at 0x7fb493d70610>"
            ]
          },
          "metadata": {
            "tags": []
          },
          "execution_count": 6
        },
        {
          "output_type": "display_data",
          "data": {
            "image/png": "[encoded data removed]",
            "text/plain": [
              "<Figure size 432x288 with 1 Axes>"
            ]
          },
          "metadata": {
            "tags": [],
            "needs_background": "light"
          }
        }
      ]
    },
    {
      "cell_type": "markdown",
      "metadata": {
        "id": "SmtwCok2D0mR"
      },
      "source": [
        "Data visualisation and the use of these graphs is important to **explore and understand our dataset**. For example, in the graph above, there seems to be a trend towards higher expenditure on Saturdays, something that is unsurprising if we think about how the restaurant business works. This is why the data exploration process is important: it helps us to ground the data in the real world and to understand what it is, exactly, that the data is transmitting. \n",
        "\n",
        "**Challenge:** Import the `iris` dataset directly from the *seaborn* library and draw a scatter plot that demonstrates the relationship between the variables 'petal_width' and 'petal_length', differentiating between different flower species. "
      ]
    },
    {
      "cell_type": "code",
      "metadata": {
        "id": "Pw6a8NbmEf4T"
      },
      "source": [
        "# Solution for the challenge"
      ],
      "execution_count": null,
      "outputs": []
    },
    {
      "cell_type": "markdown",
      "metadata": {
        "id": "uD7Hr4xhE-eb"
      },
      "source": [
        "#### Lineplot\n",
        "\n",
        "A `lineplot` draws line charts that demonstrates the relationship between two numerical variables using **lines**.\n",
        "\n",
        "Let us look at an example where a `lineplot` is used, this time using a different dataset (`flights`) that is built into the *seaborn* library. This dataset contains the number of passengers from an airline over time. "
      ]
    },
    {
      "cell_type": "code",
      "metadata": {
        "id": "2K58GKc5G9EI",
        "colab": {
          "base_uri": "https://localhost:8080/",
          "height": 424
        },
        "outputId": "0a087a99-fbbe-4d69-8a67-88004b96a400"
      },
      "source": [
        "df = sns.load_dataset('flights')\n",
        "df"
      ],
      "execution_count": null,
      "outputs": [
        {
          "output_type": "execute_result",
          "data": {
            "text/html": [
              "<div>\n",
              "<style scoped>\n",
              "    .dataframe tbody tr th:only-of-type {\n",
              "        vertical-align: middle;\n",
              "    }\n",
              "\n",
              "    .dataframe tbody tr th {\n",
              "        vertical-align: top;\n",
              "    }\n",
              "\n",
              "    .dataframe thead th {\n",
              "        text-align: right;\n",
              "    }\n",
              "</style>\n",
              "<table border=\"1\" class=\"dataframe\">\n",
              "  <thead>\n",
              "    <tr style=\"text-align: right;\">\n",
              "      <th></th>\n",
              "      <th>year</th>\n",
              "      <th>month</th>\n",
              "      <th>passengers</th>\n",
              "    </tr>\n",
              "  </thead>\n",
              "  <tbody>\n",
              "    <tr>\n",
              "      <th>0</th>\n",
              "      <td>1949</td>\n",
              "      <td>Jan</td>\n",
              "      <td>112</td>\n",
              "    </tr>\n",
              "    <tr>\n",
              "      <th>1</th>\n",
              "      <td>1949</td>\n",
              "      <td>Feb</td>\n",
              "      <td>118</td>\n",
              "    </tr>\n",
              "    <tr>\n",
              "      <th>2</th>\n",
              "      <td>1949</td>\n",
              "      <td>Mar</td>\n",
              "      <td>132</td>\n",
              "    </tr>\n",
              "    <tr>\n",
              "      <th>3</th>\n",
              "      <td>1949</td>\n",
              "      <td>Apr</td>\n",
              "      <td>129</td>\n",
              "    </tr>\n",
              "    <tr>\n",
              "      <th>4</th>\n",
              "      <td>1949</td>\n",
              "      <td>May</td>\n",
              "      <td>121</td>\n",
              "    </tr>\n",
              "    <tr>\n",
              "      <th>...</th>\n",
              "      <td>...</td>\n",
              "      <td>...</td>\n",
              "      <td>...</td>\n",
              "    </tr>\n",
              "    <tr>\n",
              "      <th>139</th>\n",
              "      <td>1960</td>\n",
              "      <td>Aug</td>\n",
              "      <td>606</td>\n",
              "    </tr>\n",
              "    <tr>\n",
              "      <th>140</th>\n",
              "      <td>1960</td>\n",
              "      <td>Sep</td>\n",
              "      <td>508</td>\n",
              "    </tr>\n",
              "    <tr>\n",
              "      <th>141</th>\n",
              "      <td>1960</td>\n",
              "      <td>Oct</td>\n",
              "      <td>461</td>\n",
              "    </tr>\n",
              "    <tr>\n",
              "      <th>142</th>\n",
              "      <td>1960</td>\n",
              "      <td>Nov</td>\n",
              "      <td>390</td>\n",
              "    </tr>\n",
              "    <tr>\n",
              "      <th>143</th>\n",
              "      <td>1960</td>\n",
              "      <td>Dec</td>\n",
              "      <td>432</td>\n",
              "    </tr>\n",
              "  </tbody>\n",
              "</table>\n",
              "<p>144 rows × 3 columns</p>\n",
              "</div>"
            ],
            "text/plain": [
              "     year month  passengers\n",
              "0    1949   Jan         112\n",
              "1    1949   Feb         118\n",
              "2    1949   Mar         132\n",
              "3    1949   Apr         129\n",
              "4    1949   May         121\n",
              "..    ...   ...         ...\n",
              "139  1960   Aug         606\n",
              "140  1960   Sep         508\n",
              "141  1960   Oct         461\n",
              "142  1960   Nov         390\n",
              "143  1960   Dec         432\n",
              "\n",
              "[144 rows x 3 columns]"
            ]
          },
          "metadata": {
            "tags": []
          },
          "execution_count": 8
        }
      ]
    },
    {
      "cell_type": "markdown",
      "metadata": {
        "id": "oz-kllasHRix"
      },
      "source": [
        "If we want to understand how the number of passengers changes over time, we can draw a `lineplot`.\n",
        "\n",
        "*   Alternatively, we can use `relplot`. The procedure is identical to the one we used in the `scatterplot` chapter, but instead of `kind = 'scatter'`, `kind = 'line'` is used."
      ]
    },
    {
      "cell_type": "code",
      "metadata": {
        "id": "Jsyi5KA8H6dX",
        "colab": {
          "base_uri": "https://localhost:8080/",
          "height": 297
        },
        "outputId": "e0943e09-83e3-4839-f55d-b680525e1a62"
      },
      "source": [
        "sns.lineplot(x='year', y='passengers', data=df)"
      ],
      "execution_count": null,
      "outputs": [
        {
          "output_type": "execute_result",
          "data": {
            "text/plain": [
              "<matplotlib.axes._subplots.AxesSubplot at 0x7fb4937a4bd0>"
            ]
          },
          "metadata": {
            "tags": []
          },
          "execution_count": 9
        },
        {
          "output_type": "display_data",
          "data": {
            "image/png": "[encoded data removed]",
            "text/plain": [
              "<Figure size 432x288 with 1 Axes>"
            ]
          },
          "metadata": {
            "tags": [],
            "needs_background": "light"
          }
        }
      ]
    },
    {
      "cell_type": "markdown",
      "metadata": {
        "id": "2DeiZbJdICR4"
      },
      "source": [
        "Notice how for each year, there is a set of 12 passenger values (one for each month of the year). However, `seaborn` automatically plots the median values (blue line) and calculates the confidence intervals (shaded area).\n",
        "\n",
        "If we want to highlight observations according to a variable, and much like what we have already seen, we need to define the `hue` parameter. If we define `hue = 'month'`, we get: "
      ]
    },
    {
      "cell_type": "code",
      "metadata": {
        "id": "YfW0jOz9KOlS",
        "colab": {
          "base_uri": "https://localhost:8080/",
          "height": 297
        },
        "outputId": "eccd1397-3df1-4db5-e9db-32deef2df7c3"
      },
      "source": [
        "sns.lineplot(x='year', y='passengers', data=df, hue='month')"
      ],
      "execution_count": null,
      "outputs": [
        {
          "output_type": "execute_result",
          "data": {
            "text/plain": [
              "<matplotlib.axes._subplots.AxesSubplot at 0x7fb493727d10>"
            ]
          },
          "metadata": {
            "tags": []
          },
          "execution_count": 10
        },
        {
          "output_type": "display_data",
          "data": {
            "image/png": "[encoded data removed]",
            "text/plain": [
              "<Figure size 432x288 with 1 Axes>"
            ]
          },
          "metadata": {
            "tags": [],
            "needs_background": "light"
          }
        }
      ]
    },
    {
      "cell_type": "markdown",
      "metadata": {
        "id": "NGhmBQKKKTvo"
      },
      "source": [
        "Note that in this case, there is no shading. Since the data is now separated by month, the situation is defined by a single value (e.g., the number of passengers that traveled in May 1954). Therefore, *seaborn* no longer has to calculate medians and uncertainties.\n",
        "\n",
        "**Challenge:** Using the previous dataset, draw a line chart with months on the x-axis and number of passengers on the y-axis."
      ]
    },
    {
      "cell_type": "code",
      "metadata": {
        "id": "SQf5F9FpM6uW"
      },
      "source": [
        "# Solution for the challenge"
      ],
      "execution_count": null,
      "outputs": []
    },
    {
      "cell_type": "markdown",
      "metadata": {
        "id": "28Ba_7chNHIH"
      },
      "source": [
        "### Categorical Charts\n",
        "\n",
        "Categorical charts are used when **one of our variables is categorical** (a variable described by a finite number of different categories or groups). For example, the `month` variable in the previous chapter is a categorical variable because there is a finite number of months to which the data can belong.\n",
        "\n",
        "In this tutorial, we will consider the following types of categorical charts: \n",
        "\n",
        "*   **Barplot**. A bar graph that displays a statistical measure along with confidence intervals for the values of the observations in each category.\n",
        "*   **Countplot**. A bar graph that displays the number of observations in each category.\n",
        "*   **Boxplot**. A box-and-whisker plot that identifies the median, quartiles, and extremes of our data.\n",
        "\n",
        "In **seaborn**, we can draw categorical charts using the `catplot` method. To use this method, we have to specify in the parameters whether we want a *barplot* (`bar`), a *countplot* (`count`), a *boxplot* (`box`) or another type of categorical graph (*seaborn* offers [more categorical graphs](https://seaborn.pydata.org/tutorial/categorical.html) than those defined in this tutorial).\n",
        "\n",
        "Alternatively, we can directly use the `barplot`, `countplot` or `boxplot` methods. Throughout the tutorial, preference is given to this method."
      ]
    },
    {
      "cell_type": "markdown",
      "metadata": {
        "id": "HsxehJShkBOC"
      },
      "source": [
        "#### Barplot\n",
        "\n",
        "A `barplot` is a bar graph that displays **a statistical measure along with confidence intervals** for the values of the observations in each category. This type of graph is quite common. To create this type of chart in *seaborn*, we do the following: "
      ]
    },
    {
      "cell_type": "code",
      "metadata": {
        "id": "DUrfN5G7kYxH",
        "colab": {
          "base_uri": "https://localhost:8080/",
          "height": 297
        },
        "outputId": "b9e32178-a5f9-49c0-deed-e8019fb31bf7"
      },
      "source": [
        "sns.barplot(x='year', y='passengers', data=df)"
      ],
      "execution_count": null,
      "outputs": [
        {
          "output_type": "execute_result",
          "data": {
            "text/plain": [
              "<matplotlib.axes._subplots.AxesSubplot at 0x7fb49372a6d0>"
            ]
          },
          "metadata": {
            "tags": []
          },
          "execution_count": 12
        },
        {
          "output_type": "display_data",
          "data": {
            "image/png": "[encoded data removed]",
            "text/plain": [
              "<Figure size 432x288 with 1 Axes>"
            ]
          },
          "metadata": {
            "tags": [],
            "needs_background": "light"
          }
        }
      ]
    },
    {
      "cell_type": "markdown",
      "metadata": {
        "id": "OQbK-V3zkcs-"
      },
      "source": [
        "By default, the **mean** is the statistical measure of central tendency that *seaborn* uses. Therefore for each year, *seaborn* has plotted the mean number of passengers and the corresponding confidence intervals (remember that each year has 12 values for the number of passengers, one for each month). In the example above, the 'year' variable is the categorical variable.\n",
        "\n",
        "If we wanted to **remove the confidence intervals displayed** on our graph, we would have to do the following: "
      ]
    },
    {
      "cell_type": "code",
      "metadata": {
        "id": "hvUQbACClgE6",
        "colab": {
          "base_uri": "https://localhost:8080/",
          "height": 297
        },
        "outputId": "b9c4d8fb-e363-4d8a-e09b-7707f33942a4"
      },
      "source": [
        "sns.barplot(x='year', y='passengers', data=df, ci=None)"
      ],
      "execution_count": null,
      "outputs": [
        {
          "output_type": "execute_result",
          "data": {
            "text/plain": [
              "<matplotlib.axes._subplots.AxesSubplot at 0x7fb49357d390>"
            ]
          },
          "metadata": {
            "tags": []
          },
          "execution_count": 13
        },
        {
          "output_type": "display_data",
          "data": {
            "image/png": "[encoded data removed]",
            "text/plain": [
              "<Figure size 432x288 with 1 Axes>"
            ]
          },
          "metadata": {
            "tags": [],
            "needs_background": "light"
          }
        }
      ]
    },
    {
      "cell_type": "markdown",
      "metadata": {
        "id": "QCdBJq_mlmC9"
      },
      "source": [
        "Now, if we wanted to **use a different statistical measure** (e.g., maximum values), we could do so by defining the `estimator` parameter: "
      ]
    },
    {
      "cell_type": "code",
      "metadata": {
        "id": "sbI8H4i0mFk7",
        "colab": {
          "base_uri": "https://localhost:8080/",
          "height": 297
        },
        "outputId": "b36ed315-e114-4921-c843-06e3bc44f203"
      },
      "source": [
        "sns.barplot(x='year', y='passengers', data=df, ci=None, estimator=max)"
      ],
      "execution_count": null,
      "outputs": [
        {
          "output_type": "execute_result",
          "data": {
            "text/plain": [
              "<matplotlib.axes._subplots.AxesSubplot at 0x7fb4935063d0>"
            ]
          },
          "metadata": {
            "tags": []
          },
          "execution_count": 14
        },
        {
          "output_type": "display_data",
          "data": {
            "image/png": "[encoded data removed]",
            "text/plain": [
              "<Figure size 432x288 with 1 Axes>"
            ]
          },
          "metadata": {
            "tags": [],
            "needs_background": "light"
          }
        }
      ]
    },
    {
      "cell_type": "markdown",
      "metadata": {
        "id": "mreB59NYmrV1"
      },
      "source": [
        "**Challenge**: Draw a graph identical to the previous one, but this graph must display the minimum values (`min`) instead of the maximum values."
      ]
    },
    {
      "cell_type": "code",
      "metadata": {
        "id": "hsJ4CL6wm9dM"
      },
      "source": [
        "# Solution for the challenge"
      ],
      "execution_count": null,
      "outputs": []
    },
    {
      "cell_type": "markdown",
      "metadata": {
        "id": "4R1Z-x0wnDh2"
      },
      "source": [
        "#### Countplot\n",
        "\n",
        "A `countplot` resembles the previous graph, but instead of representing statistical measures, it represents the **number of observations per category**.\n",
        "\n",
        "We will illustrate how `countplot` is used with the `tips` dataset: "
      ]
    },
    {
      "cell_type": "code",
      "metadata": {
        "id": "yrXzRvtbnkvG",
        "colab": {
          "base_uri": "https://localhost:8080/",
          "height": 424
        },
        "outputId": "76f8ede2-68da-4806-e19e-1370fd762869"
      },
      "source": [
        "df = sns.load_dataset('tips')\n",
        "df"
      ],
      "execution_count": null,
      "outputs": [
        {
          "output_type": "execute_result",
          "data": {
            "text/html": [
              "<div>\n",
              "<style scoped>\n",
              "    .dataframe tbody tr th:only-of-type {\n",
              "        vertical-align: middle;\n",
              "    }\n",
              "\n",
              "    .dataframe tbody tr th {\n",
              "        vertical-align: top;\n",
              "    }\n",
              "\n",
              "    .dataframe thead th {\n",
              "        text-align: right;\n",
              "    }\n",
              "</style>\n",
              "<table border=\"1\" class=\"dataframe\">\n",
              "  <thead>\n",
              "    <tr style=\"text-align: right;\">\n",
              "      <th></th>\n",
              "      <th>total_bill</th>\n",
              "      <th>tip</th>\n",
              "      <th>sex</th>\n",
              "      <th>smoker</th>\n",
              "      <th>day</th>\n",
              "      <th>time</th>\n",
              "      <th>size</th>\n",
              "    </tr>\n",
              "  </thead>\n",
              "  <tbody>\n",
              "    <tr>\n",
              "      <th>0</th>\n",
              "      <td>16.99</td>\n",
              "      <td>1.01</td>\n",
              "      <td>Female</td>\n",
              "      <td>No</td>\n",
              "      <td>Sun</td>\n",
              "      <td>Dinner</td>\n",
              "      <td>2</td>\n",
              "    </tr>\n",
              "    <tr>\n",
              "      <th>1</th>\n",
              "      <td>10.34</td>\n",
              "      <td>1.66</td>\n",
              "      <td>Male</td>\n",
              "      <td>No</td>\n",
              "      <td>Sun</td>\n",
              "      <td>Dinner</td>\n",
              "      <td>3</td>\n",
              "    </tr>\n",
              "    <tr>\n",
              "      <th>2</th>\n",
              "      <td>21.01</td>\n",
              "      <td>3.50</td>\n",
              "      <td>Male</td>\n",
              "      <td>No</td>\n",
              "      <td>Sun</td>\n",
              "      <td>Dinner</td>\n",
              "      <td>3</td>\n",
              "    </tr>\n",
              "    <tr>\n",
              "      <th>3</th>\n",
              "      <td>23.68</td>\n",
              "      <td>3.31</td>\n",
              "      <td>Male</td>\n",
              "      <td>No</td>\n",
              "      <td>Sun</td>\n",
              "      <td>Dinner</td>\n",
              "      <td>2</td>\n",
              "    </tr>\n",
              "    <tr>\n",
              "      <th>4</th>\n",
              "      <td>24.59</td>\n",
              "      <td>3.61</td>\n",
              "      <td>Female</td>\n",
              "      <td>No</td>\n",
              "      <td>Sun</td>\n",
              "      <td>Dinner</td>\n",
              "      <td>4</td>\n",
              "    </tr>\n",
              "    <tr>\n",
              "      <th>...</th>\n",
              "      <td>...</td>\n",
              "      <td>...</td>\n",
              "      <td>...</td>\n",
              "      <td>...</td>\n",
              "      <td>...</td>\n",
              "      <td>...</td>\n",
              "      <td>...</td>\n",
              "    </tr>\n",
              "    <tr>\n",
              "      <th>239</th>\n",
              "      <td>29.03</td>\n",
              "      <td>5.92</td>\n",
              "      <td>Male</td>\n",
              "      <td>No</td>\n",
              "      <td>Sat</td>\n",
              "      <td>Dinner</td>\n",
              "      <td>3</td>\n",
              "    </tr>\n",
              "    <tr>\n",
              "      <th>240</th>\n",
              "      <td>27.18</td>\n",
              "      <td>2.00</td>\n",
              "      <td>Female</td>\n",
              "      <td>Yes</td>\n",
              "      <td>Sat</td>\n",
              "      <td>Dinner</td>\n",
              "      <td>2</td>\n",
              "    </tr>\n",
              "    <tr>\n",
              "      <th>241</th>\n",
              "      <td>22.67</td>\n",
              "      <td>2.00</td>\n",
              "      <td>Male</td>\n",
              "      <td>Yes</td>\n",
              "      <td>Sat</td>\n",
              "      <td>Dinner</td>\n",
              "      <td>2</td>\n",
              "    </tr>\n",
              "    <tr>\n",
              "      <th>242</th>\n",
              "      <td>17.82</td>\n",
              "      <td>1.75</td>\n",
              "      <td>Male</td>\n",
              "      <td>No</td>\n",
              "      <td>Sat</td>\n",
              "      <td>Dinner</td>\n",
              "      <td>2</td>\n",
              "    </tr>\n",
              "    <tr>\n",
              "      <th>243</th>\n",
              "      <td>18.78</td>\n",
              "      <td>3.00</td>\n",
              "      <td>Female</td>\n",
              "      <td>No</td>\n",
              "      <td>Thur</td>\n",
              "      <td>Dinner</td>\n",
              "      <td>2</td>\n",
              "    </tr>\n",
              "  </tbody>\n",
              "</table>\n",
              "<p>244 rows × 7 columns</p>\n",
              "</div>"
            ],
            "text/plain": [
              "     total_bill   tip     sex smoker   day    time  size\n",
              "0         16.99  1.01  Female     No   Sun  Dinner     2\n",
              "1         10.34  1.66    Male     No   Sun  Dinner     3\n",
              "2         21.01  3.50    Male     No   Sun  Dinner     3\n",
              "3         23.68  3.31    Male     No   Sun  Dinner     2\n",
              "4         24.59  3.61  Female     No   Sun  Dinner     4\n",
              "..          ...   ...     ...    ...   ...     ...   ...\n",
              "239       29.03  5.92    Male     No   Sat  Dinner     3\n",
              "240       27.18  2.00  Female    Yes   Sat  Dinner     2\n",
              "241       22.67  2.00    Male    Yes   Sat  Dinner     2\n",
              "242       17.82  1.75    Male     No   Sat  Dinner     2\n",
              "243       18.78  3.00  Female     No  Thur  Dinner     2\n",
              "\n",
              "[244 rows x 7 columns]"
            ]
          },
          "metadata": {
            "tags": []
          },
          "execution_count": 16
        }
      ]
    },
    {
      "cell_type": "code",
      "metadata": {
        "id": "yxwX-MsnnmX1",
        "colab": {
          "base_uri": "https://localhost:8080/",
          "height": 354
        },
        "outputId": "027da824-0bc8-47f3-c88c-66d78af6c936"
      },
      "source": [
        "sns.countplot(df['time'])"
      ],
      "execution_count": null,
      "outputs": [
        {
          "output_type": "stream",
          "text": [
            "/usr/local/lib/python3.7/dist-packages/seaborn/_decorators.py:43: FutureWarning: Pass the following variable as a keyword arg: x. From version 0.12, the only valid positional argument will be `data`, and passing other arguments without an explicit keyword will result in an error or misinterpretation.\n",
            "  FutureWarning\n"
          ],
          "name": "stderr"
        },
        {
          "output_type": "execute_result",
          "data": {
            "text/plain": [
              "<matplotlib.axes._subplots.AxesSubplot at 0x7fb49342b490>"
            ]
          },
          "metadata": {
            "tags": []
          },
          "execution_count": 17
        },
        {
          "output_type": "display_data",
          "data": {
            "image/png": "[encoded data removed]",
            "text/plain": [
              "<Figure size 432x288 with 1 Axes>"
            ]
          },
          "metadata": {
            "tags": [],
            "needs_background": "light"
          }
        }
      ]
    },
    {
      "cell_type": "markdown",
      "metadata": {
        "id": "jllz5q1invt9"
      },
      "source": [
        "As we can see, this graph tells us how many people had lunch and how many had dinner.\n",
        "\n",
        "**Challenge:** Draw a `countplot` that allows you to count the number of smokers and non-smokers (`smoker`) who visited the restaurant. "
      ]
    },
    {
      "cell_type": "code",
      "metadata": {
        "id": "7tOaQgaeoQ2D"
      },
      "source": [
        "# Solution for the challenge"
      ],
      "execution_count": null,
      "outputs": []
    },
    {
      "cell_type": "markdown",
      "metadata": {
        "id": "utCos0ByoUwO"
      },
      "source": [
        "#### Boxplot\n",
        "\n",
        "A `boxplot` is a **[diagram that identifies the median, quartiles, and extremes of a dataset](https://pt-pt.khanacademy.org/math/statistics-probability/summarizing-quantitative-data/box-whisker-plots/a/box-plot-review)**. This type of graph is commonly used when we want to view statistical information about a numerical variable. This visualisation is able to take into account whether or not there is a relationship between this numerical variable and a categorical variable - that is why the `boxplot` appears in the categorical graphics section.\n",
        "\n",
        "Let us look at a `boxplot` that shows the **relationship between a numerical variable and a categorical variable**: "
      ]
    },
    {
      "cell_type": "code",
      "metadata": {
        "id": "dw9TT_IRqyr0",
        "colab": {
          "base_uri": "https://localhost:8080/",
          "height": 297
        },
        "outputId": "4f10121f-f64e-4a7d-a162-e76b309ba8ac"
      },
      "source": [
        "sns.boxplot(x='tip', y='day', data=df)"
      ],
      "execution_count": null,
      "outputs": [
        {
          "output_type": "execute_result",
          "data": {
            "text/plain": [
              "<matplotlib.axes._subplots.AxesSubplot at 0x7fb493394050>"
            ]
          },
          "metadata": {
            "tags": []
          },
          "execution_count": 19
        },
        {
          "output_type": "display_data",
          "data": {
            "image/png": "[encoded data removed]",
            "text/plain": [
              "<Figure size 432x288 with 1 Axes>"
            ]
          },
          "metadata": {
            "tags": [],
            "needs_background": "light"
          }
        }
      ]
    },
    {
      "cell_type": "markdown",
      "metadata": {
        "id": "Iv6Xck4jq-WM"
      },
      "source": [
        "In the example above, 'day' is the categorical variable and 'tip' is the numerical variable.\n",
        "\n",
        "Now let us examine a situation where we **only consider the numerical variable**: "
      ]
    },
    {
      "cell_type": "code",
      "metadata": {
        "id": "5klhThHQrUzN",
        "colab": {
          "base_uri": "https://localhost:8080/",
          "height": 297
        },
        "outputId": "3037fae6-9fd5-43c3-b805-bab2c852a2b4"
      },
      "source": [
        "# Create a boxplot (without associating categories)\n",
        "sns.boxplot(x='tip',data=df)"
      ],
      "execution_count": null,
      "outputs": [
        {
          "output_type": "execute_result",
          "data": {
            "text/plain": [
              "<matplotlib.axes._subplots.AxesSubplot at 0x7fb49333bc50>"
            ]
          },
          "metadata": {
            "tags": []
          },
          "execution_count": 20
        },
        {
          "output_type": "display_data",
          "data": {
            "image/png": "[encoded data removed]",
            "text/plain": [
              "<Figure size 432x288 with 1 Axes>"
            ]
          },
          "metadata": {
            "tags": [],
            "needs_background": "light"
          }
        }
      ]
    },
    {
      "cell_type": "markdown",
      "metadata": {
        "id": "nULzSdhPrmyE"
      },
      "source": [
        "**Challenge:** Create a box plot that demonstrates the relationship between the value of the total bill and at what time of the day the meal takes place (lunch or dinner). "
      ]
    },
    {
      "cell_type": "code",
      "metadata": {
        "id": "REgcER_Trh_l"
      },
      "source": [
        "# Solution for the challenge"
      ],
      "execution_count": null,
      "outputs": []
    },
    {
      "cell_type": "markdown",
      "metadata": {
        "id": "MLyzorksr0rd"
      },
      "source": [
        "### Distribution Charts\n",
        "\n",
        "Distribution charts are used when we want to **view the distribution of a variable's values**.\n",
        "\n",
        "In this tutorial, we will consider the following distribution charts: \n",
        "\n",
        "*   **Distplot**. Probability distribution of a variable.\n",
        "*   **Histogram**. Count of observed values. "
      ]
    },
    {
      "cell_type": "markdown",
      "metadata": {
        "id": "4KB5W7hvuW-T"
      },
      "source": [
        "#### Distplot\n",
        "\n",
        "`distplot` allows you to draw the **probability distribution of a variable**. To draw this graph, do the following: "
      ]
    },
    {
      "cell_type": "code",
      "metadata": {
        "id": "Mv5gQ5XGu01F",
        "colab": {
          "base_uri": "https://localhost:8080/",
          "height": 357
        },
        "outputId": "46823c35-6bb6-4ba6-8cc7-84b07f566356"
      },
      "source": [
        "sns.distplot(a=df['total_bill'])"
      ],
      "execution_count": null,
      "outputs": [
        {
          "output_type": "stream",
          "text": [
            "/usr/local/lib/python3.7/dist-packages/seaborn/distributions.py:2557: FutureWarning: `distplot` is a deprecated function and will be removed in a future version. Please adapt your code to use either `displot` (a figure-level function with similar flexibility) or `histplot` (an axes-level function for histograms).\n",
            "  warnings.warn(msg, FutureWarning)\n"
          ],
          "name": "stderr"
        },
        {
          "output_type": "execute_result",
          "data": {
            "text/plain": [
              "<matplotlib.axes._subplots.AxesSubplot at 0x7fb49325d8d0>"
            ]
          },
          "metadata": {
            "tags": []
          },
          "execution_count": 21
        },
        {
          "output_type": "display_data",
          "data": {
            "image/png": "[encoded data removed]",
            "text/plain": [
              "<Figure size 432x288 with 1 Axes>"
            ]
          },
          "metadata": {
            "tags": [],
            "needs_background": "light"
          }
        }
      ]
    },
    {
      "cell_type": "markdown",
      "metadata": {
        "id": "nkf1HZtJu7_j"
      },
      "source": [
        "Note that, in this case, the structure of the code is quite different from what we have seen until now. We still have an initial part which consists of the name of the library and the function we want to use (`sns.distplot`), however the section of code concerning the parameter now has the structure `a = df ['total_bill']`, where `a =` is the parameter where we will indicate the data we want to use in the graph (in this case, it is the data from the 'total_bill' variable ).\n",
        "\n",
        "**Challenge:** Draw a graph to show the distribution of the 'tip' variable. "
      ]
    },
    {
      "cell_type": "code",
      "metadata": {
        "id": "NwXRI4G-w6dP"
      },
      "source": [
        "# Solution for the challenge"
      ],
      "execution_count": null,
      "outputs": []
    },
    {
      "cell_type": "markdown",
      "metadata": {
        "id": "T6JaSlmXw9H3"
      },
      "source": [
        "#### Histogram\n",
        "\n",
        "A **histogram** is a graph that represents a dataset using bars. A bar's width represents a class interval and its height represents the frequency with which a value from the class occurs in the dataset.\n",
        "\n",
        "In *seaborn*, a histogram can be drawn by using `distplot` and setting the `kde` parameter to false:"
      ]
    },
    {
      "cell_type": "code",
      "metadata": {
        "id": "ihxMHgDUzezl",
        "colab": {
          "base_uri": "https://localhost:8080/",
          "height": 354
        },
        "outputId": "42710697-048e-4342-c5e0-d6c5f219b32f"
      },
      "source": [
        "sns.distplot(a=df['tip'], kde=False)"
      ],
      "execution_count": null,
      "outputs": [
        {
          "output_type": "stream",
          "text": [
            "/usr/local/lib/python3.7/dist-packages/seaborn/distributions.py:2557: FutureWarning: `distplot` is a deprecated function and will be removed in a future version. Please adapt your code to use either `displot` (a figure-level function with similar flexibility) or `histplot` (an axes-level function for histograms).\n",
            "  warnings.warn(msg, FutureWarning)\n"
          ],
          "name": "stderr"
        },
        {
          "output_type": "execute_result",
          "data": {
            "text/plain": [
              "<matplotlib.axes._subplots.AxesSubplot at 0x7fb4934ec190>"
            ]
          },
          "metadata": {
            "tags": []
          },
          "execution_count": 22
        },
        {
          "output_type": "display_data",
          "data": {
            "image/png": "[encoded data removed]",
            "text/plain": [
              "<Figure size 432x288 with 1 Axes>"
            ]
          },
          "metadata": {
            "tags": [],
            "needs_background": "light"
          }
        }
      ]
    },
    {
      "cell_type": "markdown",
      "metadata": {
        "id": "rsZCqnWuzhFS"
      },
      "source": [
        "**Challenge:** Draw a histogram for the 'total_bill' variable. "
      ]
    },
    {
      "cell_type": "code",
      "metadata": {
        "id": "9ZUPH5qOzpR-"
      },
      "source": [
        "# Solution for the challenge"
      ],
      "execution_count": null,
      "outputs": []
    },
    {
      "cell_type": "markdown",
      "metadata": {
        "id": "9w0_AokzzrKS"
      },
      "source": [
        "### Multicharts\n",
        "\n",
        "We have a multichart when a single chart is **made up of several charts**. There are two types of multicharts that will be presented in this tutorial:\n",
        "\n",
        "*   **Jointplot**. A chart that displays the relationship between two variables, presenting graphs with individual information about each variable and information on the relationship between these variables.\n",
        "*   **Pairplot**. A chart with several graphs that display the relationship between pairs of variables. "
      ]
    },
    {
      "cell_type": "markdown",
      "metadata": {
        "id": "b3HYpWKu1iBq"
      },
      "source": [
        "#### Jointplot\n",
        "\n",
        "`jointplot` combines **graphs relating to one variable with graphs relating to two variables** (the relationship between them).\n",
        "\n",
        "By definition, `jointplot` draws a graph that is a combination between a `distplot` (individual information for each variable) and a `scatterplot` (information about the relationship between the variables). However, by changing the parameters of the `jointplot` function, it is possible to change the chart types. As usual, these parameters are described in the [official documentation](https://seaborn.pydata.org/generated/seaborn.jointplot.html?highlight=jointplot#seaborn.jointplot).\n",
        "\n",
        "We will illustrate how to use `jointplot` by demonstrating the relationship between the variables 'total_bill' and 'tip': "
      ]
    },
    {
      "cell_type": "code",
      "metadata": {
        "id": "3zWWkZNA2a0q",
        "colab": {
          "base_uri": "https://localhost:8080/",
          "height": 459
        },
        "outputId": "fc11def3-a3be-4355-cdf0-8ebf4be5d423"
      },
      "source": [
        "sns.jointplot(x='total_bill', y='tip', data=df)"
      ],
      "execution_count": null,
      "outputs": [
        {
          "output_type": "execute_result",
          "data": {
            "text/plain": [
              "<seaborn.axisgrid.JointGrid at 0x7fb4911aa550>"
            ]
          },
          "metadata": {
            "tags": []
          },
          "execution_count": 24
        },
        {
          "output_type": "display_data",
          "data": {
            "image/png": "[encoded data removed]",
            "text/plain": [
              "<Figure size 432x432 with 3 Axes>"
            ]
          },
          "metadata": {
            "tags": [],
            "needs_background": "light"
          }
        }
      ]
    },
    {
      "cell_type": "markdown",
      "metadata": {
        "id": "IdlrNxJn2dH4"
      },
      "source": [
        "**Challenge:** Import this [data](https://raw.githubusercontent.com/pmarcelino/datasets/master/iris.csv) and create a `jointplot` using the variables 'petal_width' and 'petal_length'. "
      ]
    },
    {
      "cell_type": "code",
      "metadata": {
        "id": "jvGUYYfT2oZv"
      },
      "source": [
        "# Solution for the challenge"
      ],
      "execution_count": null,
      "outputs": []
    },
    {
      "cell_type": "markdown",
      "metadata": {
        "id": "XfNbzKAS2tFp"
      },
      "source": [
        "#### Pairplot\n",
        "\n",
        "`pairplot` draws graphs that allow us to see the **pairwise relationship between all the variables in a dataset**.\n",
        "\n",
        "By defintion, `pairplot` draws scatter plots (`scatterplot`) to demonstrate the relationship between pairs of variables and draws histograms (`distplot`) when the variable pairs with itself (diagonal bar). However, by changing the parameters of the `pairplot` function, it is possible to change the chart types. As usual, these parameters are described in the [official documentation](http://seaborn.pydata.org/generated/seaborn.pairplot.html?highlight=pairplot#seaborn.pairplot).\n",
        "\n",
        "All of this will be easier to understand with an example: "
      ]
    },
    {
      "cell_type": "code",
      "metadata": {
        "id": "wVHLwmBU4ANP",
        "colab": {
          "base_uri": "https://localhost:8080/",
          "height": 568
        },
        "outputId": "2bdd8fdf-393e-4fb3-80b5-e4c14514f300"
      },
      "source": [
        "sns.pairplot(df)"
      ],
      "execution_count": null,
      "outputs": [
        {
          "output_type": "execute_result",
          "data": {
            "text/plain": [
              "<seaborn.axisgrid.PairGrid at 0x7fb491035210>"
            ]
          },
          "metadata": {
            "tags": []
          },
          "execution_count": 25
        },
        {
          "output_type": "display_data",
          "data": {
            "image/png": "[encoded data removed]",
            "text/plain": [
              "<Figure size 540x540 with 12 Axes>"
            ]
          },
          "metadata": {
            "tags": [],
            "needs_background": "light"
          }
        }
      ]
    },
    {
      "cell_type": "markdown",
      "metadata": {
        "id": "aKIUBZMc4lPc"
      },
      "source": [
        "**Challenge**: Import this [data](https://raw.githubusercontent.com/pmarcelino/datasets/master/iris.csv) and create a `pairplot`."
      ]
    },
    {
      "cell_type": "code",
      "metadata": {
        "id": "uMzRbSxT4yUx"
      },
      "source": [
        "# Solution for the challenge"
      ],
      "execution_count": null,
      "outputs": []
    },
    {
      "cell_type": "markdown",
      "metadata": {
        "id": "kjnyFgFV40S7"
      },
      "source": [
        "### Matrix Charts\n",
        "\n",
        "Matrix charts aggregate **information related to the relationship between variables** (e.g., correlation) in a matrix.\n",
        "\n",
        "One of the most common types of matrix chart is `heatmap`. Let us take a closer look at this type of graph to better understand matrix charts."
      ]
    },
    {
      "cell_type": "markdown",
      "metadata": {
        "id": "uijIa6gj68Hq"
      },
      "source": [
        "#### Heatmap\n",
        "\n",
        "`heatmap` is a graph that uses colour to display the **relationships between variables**. The most common type of relationship that can be displayed is correlation, which expresses one variable's tendency to vary in a certain direction (increase or decrease), depending on the variation of another variable.\n",
        "\n",
        "To create a `heatmap` that displays correlations between variables, two steps are required. Firstly, you need to calculate the correlations (using the `corr ()` method from *pandas*): "
      ]
    },
    {
      "cell_type": "code",
      "metadata": {
        "id": "SAphVqsJ8hJh",
        "colab": {
          "base_uri": "https://localhost:8080/",
          "height": 143
        },
        "outputId": "88d77a25-2afa-4798-9b75-0876d0aed387"
      },
      "source": [
        "corr = df.corr()\n",
        "corr"
      ],
      "execution_count": null,
      "outputs": [
        {
          "output_type": "execute_result",
          "data": {
            "text/html": [
              "<div>\n",
              "<style scoped>\n",
              "    .dataframe tbody tr th:only-of-type {\n",
              "        vertical-align: middle;\n",
              "    }\n",
              "\n",
              "    .dataframe tbody tr th {\n",
              "        vertical-align: top;\n",
              "    }\n",
              "\n",
              "    .dataframe thead th {\n",
              "        text-align: right;\n",
              "    }\n",
              "</style>\n",
              "<table border=\"1\" class=\"dataframe\">\n",
              "  <thead>\n",
              "    <tr style=\"text-align: right;\">\n",
              "      <th></th>\n",
              "      <th>total_bill</th>\n",
              "      <th>tip</th>\n",
              "      <th>size</th>\n",
              "    </tr>\n",
              "  </thead>\n",
              "  <tbody>\n",
              "    <tr>\n",
              "      <th>total_bill</th>\n",
              "      <td>1.000000</td>\n",
              "      <td>0.675734</td>\n",
              "      <td>0.598315</td>\n",
              "    </tr>\n",
              "    <tr>\n",
              "      <th>tip</th>\n",
              "      <td>0.675734</td>\n",
              "      <td>1.000000</td>\n",
              "      <td>0.489299</td>\n",
              "    </tr>\n",
              "    <tr>\n",
              "      <th>size</th>\n",
              "      <td>0.598315</td>\n",
              "      <td>0.489299</td>\n",
              "      <td>1.000000</td>\n",
              "    </tr>\n",
              "  </tbody>\n",
              "</table>\n",
              "</div>"
            ],
            "text/plain": [
              "            total_bill       tip      size\n",
              "total_bill    1.000000  0.675734  0.598315\n",
              "tip           0.675734  1.000000  0.489299\n",
              "size          0.598315  0.489299  1.000000"
            ]
          },
          "metadata": {
            "tags": []
          },
          "execution_count": 27
        }
      ]
    },
    {
      "cell_type": "markdown",
      "metadata": {
        "id": "kpL_UVQ18jFp"
      },
      "source": [
        "Afterwards, you can draw the `heatmap`: "
      ]
    },
    {
      "cell_type": "code",
      "metadata": {
        "id": "ehCvWViN8smy",
        "colab": {
          "base_uri": "https://localhost:8080/",
          "height": 288
        },
        "outputId": "42c4439b-d264-400f-f98f-5f8abd477d10"
      },
      "source": [
        "sns.heatmap(corr)"
      ],
      "execution_count": null,
      "outputs": [
        {
          "output_type": "execute_result",
          "data": {
            "text/plain": [
              "<matplotlib.axes._subplots.AxesSubplot at 0x7fb490b3d590>"
            ]
          },
          "metadata": {
            "tags": []
          },
          "execution_count": 28
        },
        {
          "output_type": "display_data",
          "data": {
            "image/png": "[encoded data removed]",
            "text/plain": [
              "<Figure size 432x288 with 2 Axes>"
            ]
          },
          "metadata": {
            "tags": [],
            "needs_background": "light"
          }
        }
      ]
    },
    {
      "cell_type": "markdown",
      "metadata": {
        "id": "szesCMeM8v93"
      },
      "source": [
        "The `heatmap` comes with a colour scale that helps us to interpret the correlations. However, we can ask *seaborn* to **also display the correlations' values** to make it easier to understand what is going on: "
      ]
    },
    {
      "cell_type": "code",
      "metadata": {
        "id": "fgE4Wr6R9UAz",
        "colab": {
          "base_uri": "https://localhost:8080/",
          "height": 288
        },
        "outputId": "3a7f6522-d634-4d8d-cb34-98cf2703a99e"
      },
      "source": [
        "sns.heatmap(corr, annot=True)"
      ],
      "execution_count": null,
      "outputs": [
        {
          "output_type": "execute_result",
          "data": {
            "text/plain": [
              "<matplotlib.axes._subplots.AxesSubplot at 0x7fb490acc2d0>"
            ]
          },
          "metadata": {
            "tags": []
          },
          "execution_count": 29
        },
        {
          "output_type": "display_data",
          "data": {
            "image/png": "[encoded data removed]",
            "text/plain": [
              "<Figure size 432x288 with 2 Axes>"
            ]
          },
          "metadata": {
            "tags": [],
            "needs_background": "light"
          }
        }
      ]
    },
    {
      "cell_type": "markdown",
      "metadata": {
        "id": "8AitEOUQ9V54"
      },
      "source": [
        "**Challenge:** Import this [data](https://raw.githubusercontent.com/pmarcelino/datasets/master/iris.csv) and create a `heatmap`. "
      ]
    },
    {
      "cell_type": "code",
      "metadata": {
        "id": "O7Tu0z6D9evA"
      },
      "source": [
        "# Solution for the challenge"
      ],
      "execution_count": null,
      "outputs": []
    },
    {
      "cell_type": "markdown",
      "metadata": {
        "id": "8r4UoLSG9hIL"
      },
      "source": [
        "## Error and Anomaly Detection\n",
        "\n",
        "Another common task in data exploration is **detecting errors and anomalies**. Error and anomaly detection seeks to identify: \n",
        "\n",
        "*   **Error**. Observations with erroneous values. For example, if we have a variable with age-related information and we come across an observation with a negative age, this observation contains an error because negative age does not exist.\n",
        "*   **Anomaly**. Observations with strange or extreme values. For example, if we have a set of variables with information regarding daily temperatures in Olhão and we find an observation with a value of 60ºC, this observation is an anomaly because those temperatures are not usual in the city of Olhão. \n",
        "\n",
        "One way to detect errors and anomalies is by using the function `df.describe ()` from the *pandas* library. This function gives us a statistical summary of the data set, which allows us to see if there are values that could potentially be errors or anomalies.\n",
        "\n",
        "For example:"
      ]
    },
    {
      "cell_type": "code",
      "metadata": {
        "id": "fnJeTXJ2AAJQ",
        "colab": {
          "base_uri": "https://localhost:8080/",
          "height": 300
        },
        "outputId": "c0303743-0ec1-4449-b229-b9f96fcbe5e3"
      },
      "source": [
        "import pandas as pd\n",
        "\n",
        "url = \"https://raw.githubusercontent.com/pmarcelino/datasets/master/diabetes.csv\"\n",
        "df = pd.read_csv(url)\n",
        "\n",
        "df.describe()"
      ],
      "execution_count": null,
      "outputs": [
        {
          "output_type": "execute_result",
          "data": {
            "text/html": [
              "<div>\n",
              "<style scoped>\n",
              "    .dataframe tbody tr th:only-of-type {\n",
              "        vertical-align: middle;\n",
              "    }\n",
              "\n",
              "    .dataframe tbody tr th {\n",
              "        vertical-align: top;\n",
              "    }\n",
              "\n",
              "    .dataframe thead th {\n",
              "        text-align: right;\n",
              "    }\n",
              "</style>\n",
              "<table border=\"1\" class=\"dataframe\">\n",
              "  <thead>\n",
              "    <tr style=\"text-align: right;\">\n",
              "      <th></th>\n",
              "      <th>Pregnancies</th>\n",
              "      <th>Glucose</th>\n",
              "      <th>BloodPressure</th>\n",
              "      <th>SkinThickness</th>\n",
              "      <th>Insulin</th>\n",
              "      <th>BMI</th>\n",
              "      <th>DiabetesPedigreeFunction</th>\n",
              "      <th>Age</th>\n",
              "      <th>Outcome</th>\n",
              "    </tr>\n",
              "  </thead>\n",
              "  <tbody>\n",
              "    <tr>\n",
              "      <th>count</th>\n",
              "      <td>768.000000</td>\n",
              "      <td>768.000000</td>\n",
              "      <td>768.000000</td>\n",
              "      <td>768.000000</td>\n",
              "      <td>768.000000</td>\n",
              "      <td>768.000000</td>\n",
              "      <td>768.000000</td>\n",
              "      <td>768.000000</td>\n",
              "      <td>768.000000</td>\n",
              "    </tr>\n",
              "    <tr>\n",
              "      <th>mean</th>\n",
              "      <td>3.845052</td>\n",
              "      <td>120.894531</td>\n",
              "      <td>69.105469</td>\n",
              "      <td>20.536458</td>\n",
              "      <td>79.799479</td>\n",
              "      <td>31.992578</td>\n",
              "      <td>0.471876</td>\n",
              "      <td>33.240885</td>\n",
              "      <td>0.348958</td>\n",
              "    </tr>\n",
              "    <tr>\n",
              "      <th>std</th>\n",
              "      <td>3.369578</td>\n",
              "      <td>31.972618</td>\n",
              "      <td>19.355807</td>\n",
              "      <td>15.952218</td>\n",
              "      <td>115.244002</td>\n",
              "      <td>7.884160</td>\n",
              "      <td>0.331329</td>\n",
              "      <td>11.760232</td>\n",
              "      <td>0.476951</td>\n",
              "    </tr>\n",
              "    <tr>\n",
              "      <th>min</th>\n",
              "      <td>0.000000</td>\n",
              "      <td>0.000000</td>\n",
              "      <td>0.000000</td>\n",
              "      <td>0.000000</td>\n",
              "      <td>0.000000</td>\n",
              "      <td>0.000000</td>\n",
              "      <td>0.078000</td>\n",
              "      <td>21.000000</td>\n",
              "      <td>0.000000</td>\n",
              "    </tr>\n",
              "    <tr>\n",
              "      <th>25%</th>\n",
              "      <td>1.000000</td>\n",
              "      <td>99.000000</td>\n",
              "      <td>62.000000</td>\n",
              "      <td>0.000000</td>\n",
              "      <td>0.000000</td>\n",
              "      <td>27.300000</td>\n",
              "      <td>0.243750</td>\n",
              "      <td>24.000000</td>\n",
              "      <td>0.000000</td>\n",
              "    </tr>\n",
              "    <tr>\n",
              "      <th>50%</th>\n",
              "      <td>3.000000</td>\n",
              "      <td>117.000000</td>\n",
              "      <td>72.000000</td>\n",
              "      <td>23.000000</td>\n",
              "      <td>30.500000</td>\n",
              "      <td>32.000000</td>\n",
              "      <td>0.372500</td>\n",
              "      <td>29.000000</td>\n",
              "      <td>0.000000</td>\n",
              "    </tr>\n",
              "    <tr>\n",
              "      <th>75%</th>\n",
              "      <td>6.000000</td>\n",
              "      <td>140.250000</td>\n",
              "      <td>80.000000</td>\n",
              "      <td>32.000000</td>\n",
              "      <td>127.250000</td>\n",
              "      <td>36.600000</td>\n",
              "      <td>0.626250</td>\n",
              "      <td>41.000000</td>\n",
              "      <td>1.000000</td>\n",
              "    </tr>\n",
              "    <tr>\n",
              "      <th>max</th>\n",
              "      <td>17.000000</td>\n",
              "      <td>199.000000</td>\n",
              "      <td>122.000000</td>\n",
              "      <td>99.000000</td>\n",
              "      <td>846.000000</td>\n",
              "      <td>67.100000</td>\n",
              "      <td>2.420000</td>\n",
              "      <td>81.000000</td>\n",
              "      <td>1.000000</td>\n",
              "    </tr>\n",
              "  </tbody>\n",
              "</table>\n",
              "</div>"
            ],
            "text/plain": [
              "       Pregnancies     Glucose  ...         Age     Outcome\n",
              "count   768.000000  768.000000  ...  768.000000  768.000000\n",
              "mean      3.845052  120.894531  ...   33.240885    0.348958\n",
              "std       3.369578   31.972618  ...   11.760232    0.476951\n",
              "min       0.000000    0.000000  ...   21.000000    0.000000\n",
              "25%       1.000000   99.000000  ...   24.000000    0.000000\n",
              "50%       3.000000  117.000000  ...   29.000000    0.000000\n",
              "75%       6.000000  140.250000  ...   41.000000    1.000000\n",
              "max      17.000000  199.000000  ...   81.000000    1.000000\n",
              "\n",
              "[8 rows x 9 columns]"
            ]
          },
          "metadata": {
            "tags": []
          },
          "execution_count": 30
        }
      ]
    },
    {
      "cell_type": "markdown",
      "metadata": {
        "id": "riFCKOfrACsG"
      },
      "source": [
        "The dataset presented above corresponds to a database with patient clinical information.\n",
        "\n",
        "In this dataset, we can see that, for example, the variable 'BloodPressure' contains **errors** because its minimum value is 0. This means that there are observations in the dataset with a value of 0, something that is not possible because a patient cannot have a blood pressure of 0 (it would be a very bad sign if they did).\n",
        "\n",
        "An **alternative way** of detecting errors and anomalies would be graphically. Let us see, for example, how to use a box plot to carry out the same analysis of our dataset: "
      ]
    },
    {
      "cell_type": "code",
      "metadata": {
        "id": "TD4HRnotAydv",
        "colab": {
          "base_uri": "https://localhost:8080/",
          "height": 297
        },
        "outputId": "11a7fc5e-b5fb-401a-9b37-cb8485f6b97b"
      },
      "source": [
        "sns.boxplot(x='BloodPressure', data=df)"
      ],
      "execution_count": null,
      "outputs": [
        {
          "output_type": "execute_result",
          "data": {
            "text/plain": [
              "<matplotlib.axes._subplots.AxesSubplot at 0x7fb491004c90>"
            ]
          },
          "metadata": {
            "tags": []
          },
          "execution_count": 31
        },
        {
          "output_type": "display_data",
          "data": {
            "image/png": "[encoded data removed]",
            "text/plain": [
              "<Figure size 432x288 with 1 Axes>"
            ]
          },
          "metadata": {
            "tags": [],
            "needs_background": "light"
          }
        }
      ]
    },
    {
      "cell_type": "markdown",
      "metadata": {
        "id": "T8m4eGwKA1HO"
      },
      "source": [
        "We can see that there is an extreme point on the left side of the box plot that indicates that there are observations with a value of 0. Upon further analysis of this box plot, we can find that there are still potentially **other anomalies**. Namely, the observations between the values 20 and 40 correspond to blood pressure values that are strangely low .\n",
        "\n",
        "**Challenge:** Draw a box plot for the variable 'SkinThickness' and see if you detect any errors or anomalies. "
      ]
    },
    {
      "cell_type": "code",
      "metadata": {
        "id": "vkQuIJr9B4iz"
      },
      "source": [
        "# Solution for the challenge"
      ],
      "execution_count": null,
      "outputs": []
    },
    {
      "cell_type": "markdown",
      "metadata": {
        "id": "6DZyb0B6B6jZ"
      },
      "source": [
        "### Error and Anomaly Resolution\n",
        "\n",
        "There are several ways to resolve errors and anomalies. One of these ways is to use the **data preparation** operations from the *pandas* library.\n",
        "\n",
        "Let us see how we could solve the errors involving observations containg blood pressure values of 0: \n"
      ]
    },
    {
      "cell_type": "code",
      "metadata": {
        "id": "080mK__RCyDb",
        "colab": {
          "base_uri": "https://localhost:8080/",
          "height": 424
        },
        "outputId": "317cd3cb-cea8-42bb-d158-935cb42085dc"
      },
      "source": [
        "df.drop(df[df['BloodPressure']==0].index)"
      ],
      "execution_count": null,
      "outputs": [
        {
          "output_type": "execute_result",
          "data": {
            "text/html": [
              "<div>\n",
              "<style scoped>\n",
              "    .dataframe tbody tr th:only-of-type {\n",
              "        vertical-align: middle;\n",
              "    }\n",
              "\n",
              "    .dataframe tbody tr th {\n",
              "        vertical-align: top;\n",
              "    }\n",
              "\n",
              "    .dataframe thead th {\n",
              "        text-align: right;\n",
              "    }\n",
              "</style>\n",
              "<table border=\"1\" class=\"dataframe\">\n",
              "  <thead>\n",
              "    <tr style=\"text-align: right;\">\n",
              "      <th></th>\n",
              "      <th>Pregnancies</th>\n",
              "      <th>Glucose</th>\n",
              "      <th>BloodPressure</th>\n",
              "      <th>SkinThickness</th>\n",
              "      <th>Insulin</th>\n",
              "      <th>BMI</th>\n",
              "      <th>DiabetesPedigreeFunction</th>\n",
              "      <th>Age</th>\n",
              "      <th>Outcome</th>\n",
              "    </tr>\n",
              "  </thead>\n",
              "  <tbody>\n",
              "    <tr>\n",
              "      <th>0</th>\n",
              "      <td>6</td>\n",
              "      <td>148</td>\n",
              "      <td>72</td>\n",
              "      <td>35</td>\n",
              "      <td>0</td>\n",
              "      <td>33.6</td>\n",
              "      <td>0.627</td>\n",
              "      <td>50</td>\n",
              "      <td>1</td>\n",
              "    </tr>\n",
              "    <tr>\n",
              "      <th>1</th>\n",
              "      <td>1</td>\n",
              "      <td>85</td>\n",
              "      <td>66</td>\n",
              "      <td>29</td>\n",
              "      <td>0</td>\n",
              "      <td>26.6</td>\n",
              "      <td>0.351</td>\n",
              "      <td>31</td>\n",
              "      <td>0</td>\n",
              "    </tr>\n",
              "    <tr>\n",
              "      <th>2</th>\n",
              "      <td>8</td>\n",
              "      <td>183</td>\n",
              "      <td>64</td>\n",
              "      <td>0</td>\n",
              "      <td>0</td>\n",
              "      <td>23.3</td>\n",
              "      <td>0.672</td>\n",
              "      <td>32</td>\n",
              "      <td>1</td>\n",
              "    </tr>\n",
              "    <tr>\n",
              "      <th>3</th>\n",
              "      <td>1</td>\n",
              "      <td>89</td>\n",
              "      <td>66</td>\n",
              "      <td>23</td>\n",
              "      <td>94</td>\n",
              "      <td>28.1</td>\n",
              "      <td>0.167</td>\n",
              "      <td>21</td>\n",
              "      <td>0</td>\n",
              "    </tr>\n",
              "    <tr>\n",
              "      <th>4</th>\n",
              "      <td>0</td>\n",
              "      <td>137</td>\n",
              "      <td>40</td>\n",
              "      <td>35</td>\n",
              "      <td>168</td>\n",
              "      <td>43.1</td>\n",
              "      <td>2.288</td>\n",
              "      <td>33</td>\n",
              "      <td>1</td>\n",
              "    </tr>\n",
              "    <tr>\n",
              "      <th>...</th>\n",
              "      <td>...</td>\n",
              "      <td>...</td>\n",
              "      <td>...</td>\n",
              "      <td>...</td>\n",
              "      <td>...</td>\n",
              "      <td>...</td>\n",
              "      <td>...</td>\n",
              "      <td>...</td>\n",
              "      <td>...</td>\n",
              "    </tr>\n",
              "    <tr>\n",
              "      <th>763</th>\n",
              "      <td>10</td>\n",
              "      <td>101</td>\n",
              "      <td>76</td>\n",
              "      <td>48</td>\n",
              "      <td>180</td>\n",
              "      <td>32.9</td>\n",
              "      <td>0.171</td>\n",
              "      <td>63</td>\n",
              "      <td>0</td>\n",
              "    </tr>\n",
              "    <tr>\n",
              "      <th>764</th>\n",
              "      <td>2</td>\n",
              "      <td>122</td>\n",
              "      <td>70</td>\n",
              "      <td>27</td>\n",
              "      <td>0</td>\n",
              "      <td>36.8</td>\n",
              "      <td>0.340</td>\n",
              "      <td>27</td>\n",
              "      <td>0</td>\n",
              "    </tr>\n",
              "    <tr>\n",
              "      <th>765</th>\n",
              "      <td>5</td>\n",
              "      <td>121</td>\n",
              "      <td>72</td>\n",
              "      <td>23</td>\n",
              "      <td>112</td>\n",
              "      <td>26.2</td>\n",
              "      <td>0.245</td>\n",
              "      <td>30</td>\n",
              "      <td>0</td>\n",
              "    </tr>\n",
              "    <tr>\n",
              "      <th>766</th>\n",
              "      <td>1</td>\n",
              "      <td>126</td>\n",
              "      <td>60</td>\n",
              "      <td>0</td>\n",
              "      <td>0</td>\n",
              "      <td>30.1</td>\n",
              "      <td>0.349</td>\n",
              "      <td>47</td>\n",
              "      <td>1</td>\n",
              "    </tr>\n",
              "    <tr>\n",
              "      <th>767</th>\n",
              "      <td>1</td>\n",
              "      <td>93</td>\n",
              "      <td>70</td>\n",
              "      <td>31</td>\n",
              "      <td>0</td>\n",
              "      <td>30.4</td>\n",
              "      <td>0.315</td>\n",
              "      <td>23</td>\n",
              "      <td>0</td>\n",
              "    </tr>\n",
              "  </tbody>\n",
              "</table>\n",
              "<p>733 rows × 9 columns</p>\n",
              "</div>"
            ],
            "text/plain": [
              "     Pregnancies  Glucose  ...  Age  Outcome\n",
              "0              6      148  ...   50        1\n",
              "1              1       85  ...   31        0\n",
              "2              8      183  ...   32        1\n",
              "3              1       89  ...   21        0\n",
              "4              0      137  ...   33        1\n",
              "..           ...      ...  ...  ...      ...\n",
              "763           10      101  ...   63        0\n",
              "764            2      122  ...   27        0\n",
              "765            5      121  ...   30        0\n",
              "766            1      126  ...   47        1\n",
              "767            1       93  ...   23        0\n",
              "\n",
              "[733 rows x 9 columns]"
            ]
          },
          "metadata": {
            "tags": []
          },
          "execution_count": 32
        }
      ]
    },
    {
      "cell_type": "markdown",
      "metadata": {
        "id": "FmsUac5eC3Kh"
      },
      "source": [
        "In the previous instruction:\n",
        "\n",
        "*    `df.drop ()` is the instruction that tells us that we want to delete something from the *DataFrame* `df`.\n",
        "*   `df [df ['BloodPressure'] == 0] .index` is the instruction that defines the conditions of the elimination.\n",
        "  *   `df [...]` indicates that we will want a subset of data from *DataFrame* `df`.\n",
        "  *   `df ['BloodPressure'] == 0` provides the condition that defines the subset we want, which in this case includes all observations whose value in the variable 'BloodPressure' is 0.\n",
        "  *   `.index` extracts the indices from the observations that respect the defined condition. Indices are necessary because the information function `df.drop ()` needs to know what you want to delete.\n",
        "\n",
        "Based on what we have demonstrated, it is possible to correct the errors and anomalies present in a dataset.\n",
        "\n",
        "**Challenge:** Eliminate any errors in the 'SkinThickness' variable."
      ]
    },
    {
      "cell_type": "code",
      "metadata": {
        "id": "SRjIjKYwE_5Y"
      },
      "source": [
        "# Solution for the challenge"
      ],
      "execution_count": null,
      "outputs": []
    },
    {
      "cell_type": "markdown",
      "metadata": {
        "id": "wS0jUIS8FGXS"
      },
      "source": [
        "## Summary\n",
        "\n",
        "In this tutorial, we looked at:\n",
        "\n",
        "*     ***Seaborn* library**. The *seaborn* library has a set of features that allow us to visualise data.\n",
        "*    **Data visualisation**. There are several types of graphs and for different problems we need different types of graphs. In this tutorial, we looked at `scatterplot`, `lineplot`, `barplot`, `countplot`, `boxplot`, `distplot`, `jointplot`, `pairplot` and `heatmap`. *Seaborn* has [more](https://seaborn.pydata.org/index.html) charts in addition to these.\n",
        "*   **Error and anomaly detection**. Sometimes datasets have observations with erroneous ​​or strange / extreme values. When we have a dataset, we need to verify this situation and correct any errors or anomalies that may exist. For this, we can use operations that are common in data preparation.\n",
        "\n",
        "This tutorial introduced several instructions and you are not expected to know them by heart. Above all, this tutorial intends to illustrate the **potential of the *seaborn* library** and to **serve as a document for future reference**. Later, with practice, you will begin to retain the instructions that you use most often and the logic behind each instruction becomes more intuitive. "
      ]
    },
    {
      "cell_type": "code",
      "metadata": {
        "id": "WKi1tH5KC_wN"
      },
      "source": [
        ""
      ],
      "execution_count": null,
      "outputs": []
    }
  ]
}