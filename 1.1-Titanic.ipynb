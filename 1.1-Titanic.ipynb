{
  "nbformat": 4,
  "nbformat_minor": 0,
  "metadata": {
    "colab": {
      "name": "Titanic.ipynb",
      "provenance": [],
      "collapsed_sections": [],
      "include_colab_link": true
    },
    "kernelspec": {
      "name": "python3",
      "display_name": "Python 3"
    },
    "language_info": {
      "name": "python"
    }
  },
  "cells": [
    {
      "cell_type": "markdown",
      "metadata": {
        "id": "view-in-github",
        "colab_type": "text"
      },
      "source": [
        "<a href=\"https://colab.research.google.com/github/martasaparicio/lematecX/blob/main/01-Titanic.ipynb\" target=\"_parent\"><img src=\"https://colab.research.google.com/assets/colab-badge.svg\" alt=\"Open In Colab\"/></a>"
      ]
    },
    {
      "cell_type": "markdown",
      "metadata": {
        "id": "yhfSz2nZE9xe"
      },
      "source": [
        "# Solved Exercise\n",
        "\n",
        "## Introduction\n",
        "\n",
        "In this exercise, we aim to predict whether or not a given Titanic passenger survived. To do this, we will examine various characteristics of these passengers, such as the class they were traveling in, their age and their sex. \n",
        "\n",
        "## Data\n",
        "\n",
        "*   Number of observations = 756\n",
        "*   Number of independent variables = 4\n",
        "  1.  Name = passenger name\n",
        "  2.  PClass = class in which the passenger was traveling\n",
        "  3.  Age = age of passenger (years)\n",
        "  4.  Sex = passenger sex (1 if female, 0 if male)\n",
        "*   Number of dependent variables = 1\n",
        "  1.  Survived = tells us whether a passenger survived (1) or not (0)\n",
        "\n",
        "Data avaliable at: https://raw.githubusercontent.com/pmarcelino/datasets/master/titanic-00.csv \n",
        "\n",
        "**Note**: The dependent and independent variables are defined specifically using the information in the exercise's introduction. If in the introduction we were asked, for example, to predict a passenger's age based on the remaining variables, the dependent variable would be 'Age' and not 'Survived'. \n",
        "\n",
        "## Example\n",
        "\n",
        "The first observation in the dataset that we will see in the Solution - the first row in the table that appears after doing `df` - refers to a passenger who:\n",
        "\n",
        "*   Was called 'Allen, Miss Elisabeth Walton'\n",
        "*   Was traveling in first class\n",
        "*   Was 29 years old\n",
        "*   Was female\n",
        "*   Survived the accident"
      ]
    },
    {
      "cell_type": "code",
      "metadata": {
        "id": "JfvM0nWsLxqI"
      },
      "source": [
        "# Import libraries\n",
        "import pandas as pd  \n",
        "import seaborn as sns\n",
        "\n",
        "from sklearn.model_selection import train_test_split  \n",
        "from sklearn.ensemble import RandomForestClassifier\n",
        "from sklearn.metrics import accuracy_score"
      ],
      "execution_count": null,
      "outputs": []
    },
    {
      "cell_type": "markdown",
      "metadata": {
        "id": "clPeAiDBjRDU"
      },
      "source": [
        "**Note**: If `FutureWarning` appears while you are importing the libraries, do not worry. This message appears associated with a library and serves only to inform you that some changes are ocurring in that library."
      ]
    },
    {
      "cell_type": "markdown",
      "metadata": {
        "id": "9M3xWqHSlbMf"
      },
      "source": [
        "# Solution\n",
        "\n",
        "1.   Prepare data\n",
        "1.   Explore data\n",
        "1.   Train the model\n",
        "2.   Evaluate the model"
      ]
    },
    {
      "cell_type": "markdown",
      "metadata": {
        "id": "gHeOtoBPNzMr"
      },
      "source": [
        "## 1. Prepare data\n",
        "\n",
        "1. Import data"
      ]
    },
    {
      "cell_type": "code",
      "metadata": {
        "colab": {
          "base_uri": "https://localhost:8080/",
          "height": 424
        },
        "id": "jEG398esmnId",
        "outputId": "edc2102b-3f0f-4834-bb74-0875dce87f67"
      },
      "source": [
        "# Import data\n",
        "url = \"https://raw.githubusercontent.com/pmarcelino/datasets/master/titanic-00.csv\"\n",
        "df = pd.read_csv(url)\n",
        "df"
      ],
      "execution_count": null,
      "outputs": [
        {
          "output_type": "execute_result",
          "data": {
            "text/html": [
              "<div>\n",
              "<style scoped>\n",
              "    .dataframe tbody tr th:only-of-type {\n",
              "        vertical-align: middle;\n",
              "    }\n",
              "\n",
              "    .dataframe tbody tr th {\n",
              "        vertical-align: top;\n",
              "    }\n",
              "\n",
              "    .dataframe thead th {\n",
              "        text-align: right;\n",
              "    }\n",
              "</style>\n",
              "<table border=\"1\" class=\"dataframe\">\n",
              "  <thead>\n",
              "    <tr style=\"text-align: right;\">\n",
              "      <th></th>\n",
              "      <th>Name</th>\n",
              "      <th>PClass</th>\n",
              "      <th>Age</th>\n",
              "      <th>Sex</th>\n",
              "      <th>Survived</th>\n",
              "    </tr>\n",
              "  </thead>\n",
              "  <tbody>\n",
              "    <tr>\n",
              "      <th>0</th>\n",
              "      <td>Allen, Miss Elisabeth Walton</td>\n",
              "      <td>1</td>\n",
              "      <td>29.00</td>\n",
              "      <td>1</td>\n",
              "      <td>1</td>\n",
              "    </tr>\n",
              "    <tr>\n",
              "      <th>1</th>\n",
              "      <td>Allison, Miss Helen Loraine</td>\n",
              "      <td>1</td>\n",
              "      <td>2.00</td>\n",
              "      <td>1</td>\n",
              "      <td>0</td>\n",
              "    </tr>\n",
              "    <tr>\n",
              "      <th>2</th>\n",
              "      <td>Allison, Mr Hudson Joshua Creighton</td>\n",
              "      <td>1</td>\n",
              "      <td>30.00</td>\n",
              "      <td>0</td>\n",
              "      <td>0</td>\n",
              "    </tr>\n",
              "    <tr>\n",
              "      <th>3</th>\n",
              "      <td>Allison, Mrs Hudson JC (Bessie Waldo Daniels)</td>\n",
              "      <td>1</td>\n",
              "      <td>25.00</td>\n",
              "      <td>1</td>\n",
              "      <td>0</td>\n",
              "    </tr>\n",
              "    <tr>\n",
              "      <th>4</th>\n",
              "      <td>Allison, Master Hudson Trevor</td>\n",
              "      <td>1</td>\n",
              "      <td>0.92</td>\n",
              "      <td>0</td>\n",
              "      <td>1</td>\n",
              "    </tr>\n",
              "    <tr>\n",
              "      <th>...</th>\n",
              "      <td>...</td>\n",
              "      <td>...</td>\n",
              "      <td>...</td>\n",
              "      <td>...</td>\n",
              "      <td>...</td>\n",
              "    </tr>\n",
              "    <tr>\n",
              "      <th>751</th>\n",
              "      <td>Zakarian, Mr Artun</td>\n",
              "      <td>3</td>\n",
              "      <td>27.00</td>\n",
              "      <td>0</td>\n",
              "      <td>0</td>\n",
              "    </tr>\n",
              "    <tr>\n",
              "      <th>752</th>\n",
              "      <td>Zakarian, Mr Maprieder</td>\n",
              "      <td>3</td>\n",
              "      <td>26.00</td>\n",
              "      <td>0</td>\n",
              "      <td>0</td>\n",
              "    </tr>\n",
              "    <tr>\n",
              "      <th>753</th>\n",
              "      <td>Zenni, Mr Philip</td>\n",
              "      <td>3</td>\n",
              "      <td>22.00</td>\n",
              "      <td>0</td>\n",
              "      <td>0</td>\n",
              "    </tr>\n",
              "    <tr>\n",
              "      <th>754</th>\n",
              "      <td>Lievens, Mr Rene</td>\n",
              "      <td>3</td>\n",
              "      <td>24.00</td>\n",
              "      <td>0</td>\n",
              "      <td>0</td>\n",
              "    </tr>\n",
              "    <tr>\n",
              "      <th>755</th>\n",
              "      <td>Zimmerman, Leo</td>\n",
              "      <td>3</td>\n",
              "      <td>29.00</td>\n",
              "      <td>0</td>\n",
              "      <td>0</td>\n",
              "    </tr>\n",
              "  </tbody>\n",
              "</table>\n",
              "<p>756 rows × 5 columns</p>\n",
              "</div>"
            ],
            "text/plain": [
              "                                              Name  PClass  ...  Sex  Survived\n",
              "0                     Allen, Miss Elisabeth Walton       1  ...    1         1\n",
              "1                      Allison, Miss Helen Loraine       1  ...    1         0\n",
              "2              Allison, Mr Hudson Joshua Creighton       1  ...    0         0\n",
              "3    Allison, Mrs Hudson JC (Bessie Waldo Daniels)       1  ...    1         0\n",
              "4                    Allison, Master Hudson Trevor       1  ...    0         1\n",
              "..                                             ...     ...  ...  ...       ...\n",
              "751                             Zakarian, Mr Artun       3  ...    0         0\n",
              "752                         Zakarian, Mr Maprieder       3  ...    0         0\n",
              "753                               Zenni, Mr Philip       3  ...    0         0\n",
              "754                               Lievens, Mr Rene       3  ...    0         0\n",
              "755                                 Zimmerman, Leo       3  ...    0         0\n",
              "\n",
              "[756 rows x 5 columns]"
            ]
          },
          "metadata": {
            "tags": []
          },
          "execution_count": 2
        }
      ]
    },
    {
      "cell_type": "markdown",
      "metadata": {
        "id": "hRVGUofjN5Yw"
      },
      "source": [
        "*   The import was successful"
      ]
    },
    {
      "cell_type": "markdown",
      "metadata": {
        "id": "gidci8BKmtW3"
      },
      "source": [
        "## 2. Explore data\n",
        "\n",
        "1. View the relationship between the class in which passengers were traveling and their age"
      ]
    },
    {
      "cell_type": "code",
      "metadata": {
        "colab": {
          "base_uri": "https://localhost:8080/",
          "height": 297
        },
        "id": "QZMsmvAznRoz",
        "outputId": "25ce048e-2e8a-47ef-8a17-d9eb03b1cb90"
      },
      "source": [
        "# View the relationship between the class in which passengers were traveling and their age\n",
        "sns.boxplot(x='PClass', y='Age', data=df)"
      ],
      "execution_count": null,
      "outputs": [
        {
          "output_type": "execute_result",
          "data": {
            "text/plain": [
              "<matplotlib.axes._subplots.AxesSubplot at 0x7ffa554e0110>"
            ]
          },
          "metadata": {
            "tags": []
          },
          "execution_count": 3
        },
        {
          "output_type": "display_data",
          "data": {
            "image/png": "[encoded data removed]",
            "text/plain": [
              "<Figure size 432x288 with 1 Axes>"
            ]
          },
          "metadata": {
            "tags": [],
            "needs_background": "light"
          }
        }
      ]
    },
    {
      "cell_type": "markdown",
      "metadata": {
        "id": "4eLpt-GrndqW"
      },
      "source": [
        "*   The analysis of the graph suggests that first class passengers are older than second and third class passengers \n",
        "*   This most likely happens because people in their 40s have a greater purchasing power than people in their 20s/30s\n",
        "*   This information is important because it gives us an idea about the relationships between variables, which helps us to understand the data"
      ]
    },
    {
      "cell_type": "markdown",
      "metadata": {
        "id": "AfpZu64KOApo"
      },
      "source": [
        "## 3. Train the model\n",
        "\n",
        "1.   Prepare the data in order to apply the algorithm\n",
        "  *   Define the independent and dependent variables\n",
        "  *   Split the data into training and testing datasets \n",
        "2.   Define the algorithm to be used to train the model \n",
        "2.   Train the model with the defined algorithm\n"
      ]
    },
    {
      "cell_type": "code",
      "metadata": {
        "id": "R9ddgI6JpDkm"
      },
      "source": [
        "# Define the independent and dependent variables\n",
        "X = df[['PClass', 'Age', 'Sex']]\n",
        "y = df['Survived']"
      ],
      "execution_count": null,
      "outputs": []
    },
    {
      "cell_type": "markdown",
      "metadata": {
        "id": "-4zX5rKJpHxP"
      },
      "source": [
        "*   In this case, we used the class in which passengers were traveling, their age and  their sex to predict whether or not the passenger survived the accident\n",
        "*   Independent variables used (X): 'PClass', 'Age', 'Sex' \n",
        "*   Dependent variable (y): 'Survived'"
      ]
    },
    {
      "cell_type": "code",
      "metadata": {
        "id": "8sSb_wJqpn-x"
      },
      "source": [
        "# Split the data into training and testing datasets\n",
        "X_train, X_test, y_train, y_test = train_test_split(X, y, random_state=1)"
      ],
      "execution_count": null,
      "outputs": []
    },
    {
      "cell_type": "code",
      "metadata": {
        "id": "nRKJqO2ZppcH"
      },
      "source": [
        "# Define the algorithm of the model\n",
        "model = RandomForestClassifier(random_state=9)"
      ],
      "execution_count": null,
      "outputs": []
    },
    {
      "cell_type": "code",
      "metadata": {
        "colab": {
          "base_uri": "https://localhost:8080/"
        },
        "id": "ElvSR3jvprEq",
        "outputId": "369a707f-0e18-45bc-c697-fac92216912a"
      },
      "source": [
        "# Train the model\n",
        "model.fit(X_train, y_train)"
      ],
      "execution_count": null,
      "outputs": [
        {
          "output_type": "execute_result",
          "data": {
            "text/plain": [
              "RandomForestClassifier(bootstrap=True, ccp_alpha=0.0, class_weight=None,\n",
              "                       criterion='gini', max_depth=None, max_features='auto',\n",
              "                       max_leaf_nodes=None, max_samples=None,\n",
              "                       min_impurity_decrease=0.0, min_impurity_split=None,\n",
              "                       min_samples_leaf=1, min_samples_split=2,\n",
              "                       min_weight_fraction_leaf=0.0, n_estimators=100,\n",
              "                       n_jobs=None, oob_score=False, random_state=9, verbose=0,\n",
              "                       warm_start=False)"
            ]
          },
          "metadata": {
            "tags": []
          },
          "execution_count": 7
        }
      ]
    },
    {
      "cell_type": "markdown",
      "metadata": {
        "id": "KVzdEXBZpupH"
      },
      "source": [
        "## 4. Evaluate the model\n",
        "\n",
        "1.   Make predictions\n",
        "2.   Evaluate the model based on the predictions made\n"
      ]
    },
    {
      "cell_type": "code",
      "metadata": {
        "id": "cKvusFEpp7h_"
      },
      "source": [
        "# Make predictions\n",
        "y_pred = model.predict(X_test)"
      ],
      "execution_count": null,
      "outputs": []
    },
    {
      "cell_type": "code",
      "metadata": {
        "colab": {
          "base_uri": "https://localhost:8080/"
        },
        "id": "Oce1B2Sup9NE",
        "outputId": "3980b8e3-9990-492a-f779-d3ee165e7f20"
      },
      "source": [
        "# Evaluate the model using success rate \n",
        "accuracy_score(y_test, y_pred)"
      ],
      "execution_count": null,
      "outputs": [
        {
          "output_type": "execute_result",
          "data": {
            "text/plain": [
              "0.7883597883597884"
            ]
          },
          "metadata": {
            "tags": []
          },
          "execution_count": 9
        }
      ]
    },
    {
      "cell_type": "markdown",
      "metadata": {
        "id": "NpKFSxlxp_nn"
      },
      "source": [
        "*   Our model has a success rate (`accuracy_score`) of approximately 80% "
      ]
    }
  ]
}
