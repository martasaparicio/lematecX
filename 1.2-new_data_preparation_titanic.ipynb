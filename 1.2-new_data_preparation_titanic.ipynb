{
  "nbformat": 4,
  "nbformat_minor": 0,
  "metadata": {
    "colab": {
      "name": "new_data_preparation_titanic.ipynb",
      "provenance": [],
      "collapsed_sections": [],
      "include_colab_link": true
    },
    "kernelspec": {
      "name": "python3",
      "display_name": "Python 3"
    },
    "language_info": {
      "name": "python"
    }
  },
  "cells": [
    {
      "cell_type": "markdown",
      "metadata": {
        "id": "view-in-github",
        "colab_type": "text"
      },
      "source": [
        "<a href=\"https://colab.research.google.com/github/martasaparicio/lematecX/blob/main/02-new_data_preparation_titanic.ipynb\" target=\"_parent\"><img src=\"https://colab.research.google.com/assets/colab-badge.svg\" alt=\"Open In Colab\"/></a>"
      ]
    },
    {
      "cell_type": "markdown",
      "metadata": {
        "id": "m1AqiVXQxrTq"
      },
      "source": [
        "# Solved Exercise\n",
        "\n",
        "## Introduction\n",
        "\n",
        "In this exercise, we intend to predict whether a given passenger from the Titanic survived or not. To do this, we will take into account several characteristics of these passengers, such as the class they were travelling in, their age and their gender.\n",
        "\n",
        "## Data\n",
        "\n",
        "* Number of observations = 756\n",
        "* Number of independent variables = 3\n",
        " 1. PClass = class in which the passenger traveled\n",
        " 1. Age = age of the passenger (years)\n",
        " 1. Sex = gender of the passenger (1 if female, 0 if male) \n",
        "* Number of dependent variables = 1\n",
        " 1. Survived = tells us if a passenger survived (1) or not (0)\n",
        "\n",
        "\n",
        "Data available at: https://raw.githubusercontent.com/pmarcelino/datasets/master/titanic_fostwom.csv\n",
        "\n",
        "**Note:** The dependent and independent variables are defined specifically using the information in the exercise's introduction. If in the introduction we were asked, for example, to predict the age using the other variables, the dependent variable would be 'Age' and not 'Survived'.\n",
        "\n",
        "## Example\n",
        "\n",
        "The first observation in the dataset that we will see in the Solution - the first row in the table that appears after doing `df` - refers to a passenger that:\n",
        "\n",
        "* Was travelling in first class\n",
        "* Was 29 years old\n",
        "* Was female\n",
        "* Survived the accident"
      ]
    },
    {
      "cell_type": "code",
      "metadata": {
        "id": "pJmd_DLVWp-T"
      },
      "source": [
        "# Import libraries\n",
        "import pandas as pd  \n",
        "import seaborn as sns\n",
        "\n",
        "from sklearn.model_selection import train_test_split  \n",
        "from sklearn.ensemble import RandomForestClassifier\n",
        "from sklearn.metrics import accuracy_score"
      ],
      "execution_count": null,
      "outputs": []
    },
    {
      "cell_type": "markdown",
      "metadata": {
        "id": "ijd-n87vpXa3"
      },
      "source": [
        "**Note:** If `FutureWarning` appears while you are importing the libraries, do not worry. This message appears associated with a library and serves only to inform you that some changes are ocurring in that library."
      ]
    },
    {
      "cell_type": "markdown",
      "metadata": {
        "id": "fMRTQpZOxvzC"
      },
      "source": [
        "# Solution\n",
        "\n",
        "1. Prepare data\n",
        "2. Explore data\n",
        "3. Train the model\n",
        "4. Evaluate the model"
      ]
    },
    {
      "cell_type": "markdown",
      "metadata": {
        "id": "FMM7R8Q5x8W9"
      },
      "source": [
        "## 1. Prepare Data\n",
        "\n",
        "1. Import data\n",
        "2. Remove observations with missing data"
      ]
    },
    {
      "cell_type": "code",
      "metadata": {
        "id": "IUYuiQSiwyk7",
        "colab": {
          "base_uri": "https://localhost:8080/",
          "height": 424
        },
        "outputId": "7583c1bb-09fc-4f6b-f782-0547b698ff8c"
      },
      "source": [
        "# Import data\n",
        "url = 'https://raw.githubusercontent.com/pmarcelino/datasets/master/titanic_fostwom.csv'\n",
        "df = pd.read_csv(url)\n",
        "df"
      ],
      "execution_count": null,
      "outputs": [
        {
          "output_type": "execute_result",
          "data": {
            "text/html": [
              "<div>\n",
              "<style scoped>\n",
              "    .dataframe tbody tr th:only-of-type {\n",
              "        vertical-align: middle;\n",
              "    }\n",
              "\n",
              "    .dataframe tbody tr th {\n",
              "        vertical-align: top;\n",
              "    }\n",
              "\n",
              "    .dataframe thead th {\n",
              "        text-align: right;\n",
              "    }\n",
              "</style>\n",
              "<table border=\"1\" class=\"dataframe\">\n",
              "  <thead>\n",
              "    <tr style=\"text-align: right;\">\n",
              "      <th></th>\n",
              "      <th>PClass</th>\n",
              "      <th>Age</th>\n",
              "      <th>Sex</th>\n",
              "      <th>Survived</th>\n",
              "    </tr>\n",
              "  </thead>\n",
              "  <tbody>\n",
              "    <tr>\n",
              "      <th>0</th>\n",
              "      <td>1.0</td>\n",
              "      <td>29.0</td>\n",
              "      <td>1.0</td>\n",
              "      <td>1</td>\n",
              "    </tr>\n",
              "    <tr>\n",
              "      <th>1</th>\n",
              "      <td>1.0</td>\n",
              "      <td>2.0</td>\n",
              "      <td>0.0</td>\n",
              "      <td>0</td>\n",
              "    </tr>\n",
              "    <tr>\n",
              "      <th>2</th>\n",
              "      <td>1.0</td>\n",
              "      <td>NaN</td>\n",
              "      <td>0.0</td>\n",
              "      <td>0</td>\n",
              "    </tr>\n",
              "    <tr>\n",
              "      <th>3</th>\n",
              "      <td>NaN</td>\n",
              "      <td>25.0</td>\n",
              "      <td>1.0</td>\n",
              "      <td>0</td>\n",
              "    </tr>\n",
              "    <tr>\n",
              "      <th>4</th>\n",
              "      <td>1.0</td>\n",
              "      <td>1.0</td>\n",
              "      <td>0.0</td>\n",
              "      <td>1</td>\n",
              "    </tr>\n",
              "    <tr>\n",
              "      <th>...</th>\n",
              "      <td>...</td>\n",
              "      <td>...</td>\n",
              "      <td>...</td>\n",
              "      <td>...</td>\n",
              "    </tr>\n",
              "    <tr>\n",
              "      <th>751</th>\n",
              "      <td>3.0</td>\n",
              "      <td>27.0</td>\n",
              "      <td>0.0</td>\n",
              "      <td>0</td>\n",
              "    </tr>\n",
              "    <tr>\n",
              "      <th>752</th>\n",
              "      <td>3.0</td>\n",
              "      <td>26.0</td>\n",
              "      <td>0.0</td>\n",
              "      <td>0</td>\n",
              "    </tr>\n",
              "    <tr>\n",
              "      <th>753</th>\n",
              "      <td>NaN</td>\n",
              "      <td>22.0</td>\n",
              "      <td>0.0</td>\n",
              "      <td>0</td>\n",
              "    </tr>\n",
              "    <tr>\n",
              "      <th>754</th>\n",
              "      <td>3.0</td>\n",
              "      <td>24.0</td>\n",
              "      <td>0.0</td>\n",
              "      <td>0</td>\n",
              "    </tr>\n",
              "    <tr>\n",
              "      <th>755</th>\n",
              "      <td>3.0</td>\n",
              "      <td>29.0</td>\n",
              "      <td>0.0</td>\n",
              "      <td>0</td>\n",
              "    </tr>\n",
              "  </tbody>\n",
              "</table>\n",
              "<p>756 rows × 4 columns</p>\n",
              "</div>"
            ],
            "text/plain": [
              "     PClass   Age  Sex  Survived\n",
              "0       1.0  29.0  1.0         1\n",
              "1       1.0   2.0  0.0         0\n",
              "2       1.0   NaN  0.0         0\n",
              "3       NaN  25.0  1.0         0\n",
              "4       1.0   1.0  0.0         1\n",
              "..      ...   ...  ...       ...\n",
              "751     3.0  27.0  0.0         0\n",
              "752     3.0  26.0  0.0         0\n",
              "753     NaN  22.0  0.0         0\n",
              "754     3.0  24.0  0.0         0\n",
              "755     3.0  29.0  0.0         0\n",
              "\n",
              "[756 rows x 4 columns]"
            ]
          },
          "metadata": {},
          "execution_count": 5
        }
      ]
    },
    {
      "cell_type": "markdown",
      "metadata": {
        "id": "KMcw59GPyLKh"
      },
      "source": [
        "* The import was successful\n",
        "* We can confirm that there are 756 observations (`756 rows`)\n",
        "* We can confirm that there are 3 + 1 variables (`4 columns`)\n",
        "* There is missing data in some of the observations (NaN)"
      ]
    },
    {
      "cell_type": "code",
      "metadata": {
        "id": "UYILjZskscv3",
        "colab": {
          "base_uri": "https://localhost:8080/",
          "height": 424
        },
        "outputId": "5da74fa1-de0e-43f5-9383-bbaccf82a666"
      },
      "source": [
        "# Remove observations with missing data\n",
        "df = df.dropna()\n",
        "df"
      ],
      "execution_count": null,
      "outputs": [
        {
          "output_type": "execute_result",
          "data": {
            "text/html": [
              "<div>\n",
              "<style scoped>\n",
              "    .dataframe tbody tr th:only-of-type {\n",
              "        vertical-align: middle;\n",
              "    }\n",
              "\n",
              "    .dataframe tbody tr th {\n",
              "        vertical-align: top;\n",
              "    }\n",
              "\n",
              "    .dataframe thead th {\n",
              "        text-align: right;\n",
              "    }\n",
              "</style>\n",
              "<table border=\"1\" class=\"dataframe\">\n",
              "  <thead>\n",
              "    <tr style=\"text-align: right;\">\n",
              "      <th></th>\n",
              "      <th>PClass</th>\n",
              "      <th>Age</th>\n",
              "      <th>Sex</th>\n",
              "      <th>Survived</th>\n",
              "    </tr>\n",
              "  </thead>\n",
              "  <tbody>\n",
              "    <tr>\n",
              "      <th>0</th>\n",
              "      <td>1.0</td>\n",
              "      <td>29.0</td>\n",
              "      <td>1.0</td>\n",
              "      <td>1</td>\n",
              "    </tr>\n",
              "    <tr>\n",
              "      <th>1</th>\n",
              "      <td>1.0</td>\n",
              "      <td>2.0</td>\n",
              "      <td>0.0</td>\n",
              "      <td>0</td>\n",
              "    </tr>\n",
              "    <tr>\n",
              "      <th>4</th>\n",
              "      <td>1.0</td>\n",
              "      <td>1.0</td>\n",
              "      <td>0.0</td>\n",
              "      <td>1</td>\n",
              "    </tr>\n",
              "    <tr>\n",
              "      <th>5</th>\n",
              "      <td>1.0</td>\n",
              "      <td>47.0</td>\n",
              "      <td>0.0</td>\n",
              "      <td>1</td>\n",
              "    </tr>\n",
              "    <tr>\n",
              "      <th>6</th>\n",
              "      <td>1.0</td>\n",
              "      <td>63.0</td>\n",
              "      <td>1.0</td>\n",
              "      <td>1</td>\n",
              "    </tr>\n",
              "    <tr>\n",
              "      <th>...</th>\n",
              "      <td>...</td>\n",
              "      <td>...</td>\n",
              "      <td>...</td>\n",
              "      <td>...</td>\n",
              "    </tr>\n",
              "    <tr>\n",
              "      <th>749</th>\n",
              "      <td>3.0</td>\n",
              "      <td>27.0</td>\n",
              "      <td>0.0</td>\n",
              "      <td>0</td>\n",
              "    </tr>\n",
              "    <tr>\n",
              "      <th>751</th>\n",
              "      <td>3.0</td>\n",
              "      <td>27.0</td>\n",
              "      <td>0.0</td>\n",
              "      <td>0</td>\n",
              "    </tr>\n",
              "    <tr>\n",
              "      <th>752</th>\n",
              "      <td>3.0</td>\n",
              "      <td>26.0</td>\n",
              "      <td>0.0</td>\n",
              "      <td>0</td>\n",
              "    </tr>\n",
              "    <tr>\n",
              "      <th>754</th>\n",
              "      <td>3.0</td>\n",
              "      <td>24.0</td>\n",
              "      <td>0.0</td>\n",
              "      <td>0</td>\n",
              "    </tr>\n",
              "    <tr>\n",
              "      <th>755</th>\n",
              "      <td>3.0</td>\n",
              "      <td>29.0</td>\n",
              "      <td>0.0</td>\n",
              "      <td>0</td>\n",
              "    </tr>\n",
              "  </tbody>\n",
              "</table>\n",
              "<p>728 rows × 4 columns</p>\n",
              "</div>"
            ],
            "text/plain": [
              "     PClass   Age  Sex  Survived\n",
              "0       1.0  29.0  1.0         1\n",
              "1       1.0   2.0  0.0         0\n",
              "4       1.0   1.0  0.0         1\n",
              "5       1.0  47.0  0.0         1\n",
              "6       1.0  63.0  1.0         1\n",
              "..      ...   ...  ...       ...\n",
              "749     3.0  27.0  0.0         0\n",
              "751     3.0  27.0  0.0         0\n",
              "752     3.0  26.0  0.0         0\n",
              "754     3.0  24.0  0.0         0\n",
              "755     3.0  29.0  0.0         0\n",
              "\n",
              "[728 rows x 4 columns]"
            ]
          },
          "metadata": {},
          "execution_count": 6
        }
      ]
    },
    {
      "cell_type": "markdown",
      "metadata": {
        "id": "YEcdudfoyJk8"
      },
      "source": [
        "* Number of available observations is reduced to 728 (`728 rows`)\n",
        "* If the operation was performed well, we would now solely be left with complete observations (no missing data)\n",
        "\n",
        "**Note:** Even though we have `728 rows`, the index goes up to 755. This is because the row indices do not change when the observations are eliminated. For this reason, the row with index 755 remained (it had no missing data) and, for example, the row with index 2 disappeared (it had missing data)."
      ]
    },
    {
      "cell_type": "code",
      "metadata": {
        "id": "1wAIeyHhmEfB",
        "colab": {
          "base_uri": "https://localhost:8080/"
        },
        "outputId": "065729d2-3a1b-45d8-908d-c4f0c85e6798"
      },
      "source": [
        "# Check for missing data\n",
        "df.isnull().sum()"
      ],
      "execution_count": null,
      "outputs": [
        {
          "output_type": "execute_result",
          "data": {
            "text/plain": [
              "PClass      0\n",
              "Age         0\n",
              "Sex         0\n",
              "Survived    0\n",
              "dtype: int64"
            ]
          },
          "metadata": {},
          "execution_count": 7
        }
      ]
    },
    {
      "cell_type": "markdown",
      "metadata": {
        "id": "dRjUv-xim8RY"
      },
      "source": [
        "* There are no variables with observations that have missing data\n",
        "* We can confirm that we only have complete observations (full dataset)"
      ]
    },
    {
      "cell_type": "markdown",
      "metadata": {
        "id": "MXpTS2IIyMf_"
      },
      "source": [
        "## 2. Explore data\n",
        "\n",
        "1. Visualize the relationship between the age of passengers and whether they survived or not, using a boxplot diagram"
      ]
    },
    {
      "cell_type": "code",
      "metadata": {
        "id": "0NjImSC-yOxL",
        "colab": {
          "base_uri": "https://localhost:8080/",
          "height": 297
        },
        "outputId": "001707b9-c192-446b-f488-145d0f96bb20"
      },
      "source": [
        "# View the relationship between the age of passengers and whether or not they survived\n",
        "sns.boxplot(x='Survived', y='Age', data=df)"
      ],
      "execution_count": null,
      "outputs": [
        {
          "output_type": "execute_result",
          "data": {
            "text/plain": [
              "<matplotlib.axes._subplots.AxesSubplot at 0x7f46a57d0510>"
            ]
          },
          "metadata": {},
          "execution_count": 8
        },
        {
          "output_type": "display_data",
          "data": {
            "image/png": "[encoded data removed]",
            "text/plain": [
              "<Figure size 432x288 with 1 Axes>"
            ]
          },
          "metadata": {
            "needs_background": "light"
          }
        }
      ]
    },
    {
      "cell_type": "markdown",
      "metadata": {
        "id": "OyKDgRvEyRt4"
      },
      "source": [
        "* Age does not seem to influence survival\n",
        "* This information is important because it gives us clues about the relationships between variables, helping us to understand the data "
      ]
    },
    {
      "cell_type": "markdown",
      "metadata": {
        "id": "GkUTD0p_yURa"
      },
      "source": [
        "## 3. Train the model\n",
        "\n",
        "1. Prepare the data to apply the algorithm\n",
        "  * Define independent and dependent variables\n",
        "  * Split data into training and testing datasets\n",
        "1. Define the algorithm to use to train the model\n",
        "1. Train the model with the defined algorithm"
      ]
    },
    {
      "cell_type": "code",
      "metadata": {
        "id": "5ZPsVXxgyWV-"
      },
      "source": [
        "# Define independent and dependent variables\n",
        "X = df.drop('Survived', axis=1)\n",
        "y = df['Survived']"
      ],
      "execution_count": null,
      "outputs": []
    },
    {
      "cell_type": "markdown",
      "metadata": {
        "id": "7PayJM6NyYSM"
      },
      "source": [
        "* To train the model, all independent variables must be numerical\n",
        "* In this case, as all independent variables are numeric, we can just store the entire table in `X`, except for the column 'Survived' (which is why the `drop` function was used)\n"
      ]
    },
    {
      "cell_type": "code",
      "metadata": {
        "id": "wGNiIlh_yagJ"
      },
      "source": [
        "# Split data into training and testing datasets\n",
        "X_train, X_test, y_train, y_test = train_test_split(X, y, random_state=42)"
      ],
      "execution_count": null,
      "outputs": []
    },
    {
      "cell_type": "markdown",
      "metadata": {
        "id": "sRMMl2sHqFCb"
      },
      "source": [
        "* This function randomly splits the data between the training and testing datasets. By default, the `train_test_split` function places 75% of the data from the original dataset into the training dataset and the remaining 25% of the data into the test dataset.\n",
        "* So that this division of data is always the same, we define the argument `random_state`.\n",
        "* This way, if your code is run exactly like ours, you will get the same results.\n",
        "* We used the number 42, but we could have used any other number."
      ]
    },
    {
      "cell_type": "code",
      "metadata": {
        "id": "yfbW_1X9ycHV"
      },
      "source": [
        "# Define the model's algorithm\n",
        "model = RandomForestClassifier(random_state=7)"
      ],
      "execution_count": null,
      "outputs": []
    },
    {
      "cell_type": "markdown",
      "metadata": {
        "id": "lBAQH253rB8a"
      },
      "source": [
        "* We defined `random_state` for the above reasons"
      ]
    },
    {
      "cell_type": "code",
      "metadata": {
        "id": "U5PFmRq8ydne",
        "colab": {
          "base_uri": "https://localhost:8080/"
        },
        "outputId": "9959567b-1e0a-4106-e4cf-35d2535f2f6e"
      },
      "source": [
        "# Train the model\n",
        "model.fit(X_train, y_train)"
      ],
      "execution_count": null,
      "outputs": [
        {
          "output_type": "execute_result",
          "data": {
            "text/plain": [
              "RandomForestClassifier(bootstrap=True, ccp_alpha=0.0, class_weight=None,\n",
              "                       criterion='gini', max_depth=None, max_features='auto',\n",
              "                       max_leaf_nodes=None, max_samples=None,\n",
              "                       min_impurity_decrease=0.0, min_impurity_split=None,\n",
              "                       min_samples_leaf=1, min_samples_split=2,\n",
              "                       min_weight_fraction_leaf=0.0, n_estimators=100,\n",
              "                       n_jobs=None, oob_score=False, random_state=7, verbose=0,\n",
              "                       warm_start=False)"
            ]
          },
          "metadata": {},
          "execution_count": 12
        }
      ]
    },
    {
      "cell_type": "markdown",
      "metadata": {
        "id": "b5s2gEsDyfO6"
      },
      "source": [
        "## 4. Evaluate model\n",
        "\n",
        "1. Make predictions\n",
        "2. Evaluate the model based on the predictions made "
      ]
    },
    {
      "cell_type": "code",
      "metadata": {
        "id": "pb5aK_01yhAT"
      },
      "source": [
        "# Make predictions\n",
        "y_pred = model.predict(X_test)"
      ],
      "execution_count": null,
      "outputs": []
    },
    {
      "cell_type": "code",
      "metadata": {
        "id": "-UUvYta0yihZ",
        "colab": {
          "base_uri": "https://localhost:8080/"
        },
        "outputId": "6e8100eb-46a9-403e-d5ad-dcbeda246084"
      },
      "source": [
        "# Evaluate model using the success rate\n",
        "accuracy_score(y_test, y_pred)"
      ],
      "execution_count": null,
      "outputs": [
        {
          "output_type": "execute_result",
          "data": {
            "text/plain": [
              "0.7802197802197802"
            ]
          },
          "metadata": {},
          "execution_count": 14
        }
      ]
    },
    {
      "cell_type": "markdown",
      "metadata": {
        "id": "oTGLeorNykCT"
      },
      "source": [
        "* Our model has an success rate (`accuracy_score`) of approximately 78% "
      ]
    }
  ]
}
