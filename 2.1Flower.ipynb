{
  "nbformat": 4,
  "nbformat_minor": 0,
  "metadata": {
    "colab": {
      "name": "Flower.ipynb",
      "provenance": [],
      "collapsed_sections": [],
      "toc_visible": true,
      "include_colab_link": true
    },
    "kernelspec": {
      "name": "python3",
      "display_name": "Python 3"
    },
    "language_info": {
      "name": "python"
    }
  },
  "cells": [
    {
      "cell_type": "markdown",
      "metadata": {
        "id": "view-in-github",
        "colab_type": "text"
      },
      "source": [
        "<a href=\"https://colab.research.google.com/github/martasaparicio/lematecX/blob/main/2.1Flower.ipynb\" target=\"_parent\"><img src=\"https://colab.research.google.com/assets/colab-badge.svg\" alt=\"Open In Colab\"/></a>"
      ]
    },
    {
      "cell_type": "markdown",
      "metadata": {
        "id": "hHwSlkuPLwFI"
      },
      "source": [
        "# Solved Exercise\n",
        "\n",
        "## Introduction\n",
        "\n",
        "In this exercise, we want to predict which species a flower belongs to. To do this, we will examine various physical characteristics of flowers, such as petal length and width.\n",
        "\n",
        "## Data \n",
        "\n",
        "*   Number of observations = 150\n",
        "*   Number of independent variables = 4\n",
        "  1.   sepal_length = sepal length (cm)\n",
        "  2.   sepal_width = sepal width (cm)\n",
        "  1.   petal_length = petal length (cm)\n",
        "  2.   petal_width = petal width (cm)\n",
        "*   Number of dependent variables = 1\n",
        "  1.   species = species (the flower may belong to one of three species, 'setosa', 'versicolor' and 'virginica')\n",
        "\n",
        "Data available at: [seaborn library](https://seaborn.pydata.org/generated/seaborn.load_dataset.html)\n",
        "\n",
        "**Note**: The dependent and independent variables are defined specifically using the information in the exercise's introduction. If in the introduction we were asked, for example, to predict petal lengths using the other variables, the dependent variable would be 'petal_length' and not 'species'. \n",
        "\n",
        "## Example\n",
        "\n",
        "The first observation in the dataset that we will see in the Solution - the first row in the table that appears after doing `df` - refers to a flower that:\n",
        "\n",
        "*   Has sepals with a length of `5.1` cm \n",
        "*   Has sepals with a width of `3.5` cm\n",
        "*   Has petals with a length of `1.4` cm\n",
        "*   Has petals with a length of `0.2` cm\n",
        "*   Belongs to the `setosa` species"
      ]
    },
    {
      "cell_type": "markdown",
      "metadata": {
        "id": "wvAkMyWaMY58"
      },
      "source": [
        "# Solution\n",
        "\n",
        "1.   Prepare data\n",
        "1.   Explore data\n",
        "2.   Train the model\n",
        "2.   Evaluate the model"
      ]
    },
    {
      "cell_type": "code",
      "metadata": {
        "id": "jR2QoowHWIcx"
      },
      "source": [
        "# Import libraries\n",
        "import pandas as pd  \n",
        "import seaborn as sns\n",
        "\n",
        "from sklearn.model_selection import train_test_split \n",
        "from sklearn.ensemble import RandomForestClassifier  \n",
        "from sklearn.metrics import accuracy_score"
      ],
      "execution_count": null,
      "outputs": []
    },
    {
      "cell_type": "markdown",
      "metadata": {
        "id": "O09GlmTbL47z"
      },
      "source": [
        "**Note**: If `FutureWarning` appears while you are importing the libraries, do not worry. This message appears associated with a library and serves only to inform you that some changes are ocurring in that library."
      ]
    },
    {
      "cell_type": "markdown",
      "metadata": {
        "id": "cKg_i3PrWR2T"
      },
      "source": [
        "## 1. Prepare data\n",
        "\n",
        "1.   Import data\n",
        "2.   Remove observations with missing data"
      ]
    },
    {
      "cell_type": "code",
      "metadata": {
        "id": "drX8TxlVWrAi"
      },
      "source": [
        "# Import data\n",
        "df = sns.load_dataset('iris')\n",
        "df"
      ],
      "execution_count": null,
      "outputs": []
    },
    {
      "cell_type": "markdown",
      "metadata": {
        "id": "-0VgbSZzWwml"
      },
      "source": [
        "*   The import was successful"
      ]
    },
    {
      "cell_type": "code",
      "metadata": {
        "colab": {
          "base_uri": "https://localhost:8080/"
        },
        "id": "wskmk2TIW-fR",
        "outputId": "adb85c71-02ae-4d1b-9882-3f216f9d07c4"
      },
      "source": [
        "# Check for missing data\n",
        "df.isnull().sum()"
      ],
      "execution_count": null,
      "outputs": [
        {
          "output_type": "execute_result",
          "data": {
            "text/plain": [
              "sepal_length    0\n",
              "sepal_width     0\n",
              "petal_length    0\n",
              "petal_width     0\n",
              "species         0\n",
              "dtype: int64"
            ]
          },
          "metadata": {
            "tags": []
          },
          "execution_count": 3
        }
      ]
    },
    {
      "cell_type": "markdown",
      "metadata": {
        "id": "58JUSa8PXP2c"
      },
      "source": [
        "## 2. Explore data\n",
        "\n",
        "1.   Detect errors and anomalies\n",
        "2.   View relationships between variables\n",
        "  *   **Hypothesis**: `if the species are different, then their physical characteristics are different`. If the hypothesis is true, detecting patterns in the physical characteristics of flowers can be a good way to predict which species a flower belongs to. "
      ]
    },
    {
      "cell_type": "code",
      "metadata": {
        "id": "1jubzFaXaRNH"
      },
      "source": [
        "# Check for errors or anomalies\n",
        "df.describe()"
      ],
      "execution_count": null,
      "outputs": []
    },
    {
      "cell_type": "markdown",
      "metadata": {
        "id": "k8bNRKTiaZct"
      },
      "source": [
        "*   There do not seem to be any obvious errors or anomalies "
      ]
    },
    {
      "cell_type": "code",
      "metadata": {
        "id": "RI1iY8UTapVg"
      },
      "source": [
        "# View relationship between species and sepal length\n",
        "sns.boxplot(x='species', y='sepal_length', data=df)"
      ],
      "execution_count": null,
      "outputs": []
    },
    {
      "cell_type": "markdown",
      "metadata": {
        "id": "m6bbAXI_a8vl"
      },
      "source": [
        "*   There seem to be differences in the sepal lengths for each of the species.\n",
        "*   The 'virginica' species is the one with the greatest sepal length (average length of around 2 cm).\n",
        "*   The 'setosa' species is the one with the smallest sepal length (average length of around 0.25 cm)."
      ]
    },
    {
      "cell_type": "code",
      "metadata": {
        "id": "ThdlThGgeBzs"
      },
      "source": [
        "# View relationship between species and sepal width\n",
        "sns.boxplot(x='species', y='sepal_width', data=df)"
      ],
      "execution_count": null,
      "outputs": []
    },
    {
      "cell_type": "markdown",
      "metadata": {
        "id": "R5qjU0zdeXWI"
      },
      "source": [
        "*   The differences are not as evident as in the previous case \n",
        "*   On average, the 'versicolor' and 'virginica' species have similar values \n",
        "*   The 'setosa' species stands out because it has a greater average width than the other species\n",
        "*   Using sepal length to predict which species a flower belongs to seems to be more effective because there are greater differences between the flower species within this variable. "
      ]
    },
    {
      "cell_type": "code",
      "metadata": {
        "id": "5LqwtRk6gTfi"
      },
      "source": [
        "# View relationship between species and petal length\n",
        "sns.boxplot(x='species', y='petal_length', data=df)"
      ],
      "execution_count": null,
      "outputs": []
    },
    {
      "cell_type": "markdown",
      "metadata": {
        "id": "PC1Cz2Zcgdj4"
      },
      "source": [
        "*   The species seem to differ in terms of petal length\n",
        "*   The 'setosa' species has a smaller petal length than the other species. In fact, no other species has petals with a similar length to the 'setosa' species (whose values lie approximately between 0.5 and 2 cm).\n",
        "*   The 'virginica' species has a greater petal length than the 'versicolor' species.\n",
        "*   Petal length appears to be a useful variable for distinguishing between flower species"
      ]
    },
    {
      "cell_type": "code",
      "metadata": {
        "colab": {
          "base_uri": "https://localhost:8080/",
          "height": 297
        },
        "id": "ZMFrRJC2h2p7",
        "outputId": "6400bf18-ecf0-4136-88a2-8e13592f4b8e"
      },
      "source": [
        "# View relationship between species and petal width\n",
        "sns.boxplot(x='species', y='petal_width', data=df)"
      ],
      "execution_count": null,
      "outputs": [
        {
          "output_type": "execute_result",
          "data": {
            "text/plain": [
              "<matplotlib.axes._subplots.AxesSubplot at 0x7f73ef1c1710>"
            ]
          },
          "metadata": {
            "tags": []
          },
          "execution_count": 8
        },
        {
          "output_type": "display_data",
          "data": {
            "image/png": "[encoded data removed]",
            "text/plain": [
              "<Figure size 432x288 with 1 Axes>"
            ]
          },
          "metadata": {
            "tags": [],
            "needs_background": "light"
          }
        }
      ]
    },
    {
      "cell_type": "markdown",
      "metadata": {
        "id": "vnZO6CEGiGih"
      },
      "source": [
        "*   Same situation as before\n",
        "*   The 'setosa' species has the smallest petal width of all the species \n",
        "*   The 'virginica' species has the greatest average petal width \n",
        "*   Knowing the width of the flowers seems to be important to predict which species a flower belongs to.\n",
        "\n",
        "**Conclusions drawn from the data exploration**\n",
        "\n",
        "*   There do not seem to be any obvious errors or anomalies\n",
        "*   The initial hypothesis seems to hold and it is possible to use these variables to predict which species a flower belongs to."
      ]
    },
    {
      "cell_type": "markdown",
      "metadata": {
        "id": "d_wfdazVndDa"
      },
      "source": [
        "## 3. Training the model\n",
        "\n",
        "1.   Prepare the data in order to apply the algorithm\n",
        "  *   Define the independent and dependent variables\n",
        "  *   Split the data into training and testing datasets\n",
        "2.   Define the algorithm to be used to train the model\n",
        "1.   Train the model with the defined algorithm\n"
      ]
    },
    {
      "cell_type": "code",
      "metadata": {
        "id": "Vo3cddGOoAIB"
      },
      "source": [
        "# Define the independent and dependent variables\n",
        "X = df.drop('species', axis=1)\n",
        "y = df['species']"
      ],
      "execution_count": null,
      "outputs": []
    },
    {
      "cell_type": "markdown",
      "metadata": {
        "id": "5WZe3YHsoFrb"
      },
      "source": [
        "*   To train the model, all the independent variables must be numerical \n",
        "*   In this case, since all the independent variables are numerical, all you have to do is save the entire table in `X`, except the 'species' column (this is why we used the `drop` function)"
      ]
    },
    {
      "cell_type": "code",
      "metadata": {
        "id": "K3D_gwUxordz"
      },
      "source": [
        "# Split the data into training and testing datasets\n",
        "X_train, X_test, y_train, y_test = train_test_split(X, y, random_state=0)"
      ],
      "execution_count": null,
      "outputs": []
    },
    {
      "cell_type": "markdown",
      "metadata": {
        "id": "9IvH7vYco1Ms"
      },
      "source": [
        "*   This function randomly splits the data between the training and testing datasets\n",
        "*   In order for this division to always be equal, we define the `random_state` argument \n",
        "*   That way, if anyone were to run code that is exactly the same as ours, they would get the same results \n",
        "*   We used the number 0, but we could have used any other number"
      ]
    },
    {
      "cell_type": "code",
      "metadata": {
        "id": "86o31MpspyIw"
      },
      "source": [
        "# Define the algorithm of the model\n",
        "model = RandomForestClassifier(random_state=33)"
      ],
      "execution_count": null,
      "outputs": []
    },
    {
      "cell_type": "markdown",
      "metadata": {
        "id": "BW_Bh6k1p3aW"
      },
      "source": [
        "*   We defined `random_state` for the reasons mentioned above "
      ]
    },
    {
      "cell_type": "code",
      "metadata": {
        "colab": {
          "base_uri": "https://localhost:8080/"
        },
        "id": "08HKhlwbqBhr",
        "outputId": "28f8184a-4fc7-46db-d1c8-16a85ad876b4"
      },
      "source": [
        "# Train the model\n",
        "model.fit(X_train, y_train)"
      ],
      "execution_count": null,
      "outputs": [
        {
          "output_type": "execute_result",
          "data": {
            "text/plain": [
              "RandomForestClassifier(bootstrap=True, ccp_alpha=0.0, class_weight=None,\n",
              "                       criterion='gini', max_depth=None, max_features='auto',\n",
              "                       max_leaf_nodes=None, max_samples=None,\n",
              "                       min_impurity_decrease=0.0, min_impurity_split=None,\n",
              "                       min_samples_leaf=1, min_samples_split=2,\n",
              "                       min_weight_fraction_leaf=0.0, n_estimators=100,\n",
              "                       n_jobs=None, oob_score=False, random_state=33, verbose=0,\n",
              "                       warm_start=False)"
            ]
          },
          "metadata": {
            "tags": []
          },
          "execution_count": 14
        }
      ]
    },
    {
      "cell_type": "markdown",
      "metadata": {
        "id": "ZQR-OqfjqHB8"
      },
      "source": [
        "## Evaluate the model\n",
        "\n",
        "1.   Make predictions\n",
        "2.   Evaluate the model based on the predictions made"
      ]
    },
    {
      "cell_type": "code",
      "metadata": {
        "id": "D_HgQ4r5qSqG"
      },
      "source": [
        "# Make predictions\n",
        "y_pred = model.predict(X_test)"
      ],
      "execution_count": null,
      "outputs": []
    },
    {
      "cell_type": "code",
      "metadata": {
        "colab": {
          "base_uri": "https://localhost:8080/"
        },
        "id": "TwogDfZGqUHS",
        "outputId": "b324c5a4-89ec-4c35-86c3-276b547f1ae7"
      },
      "source": [
        "# Evaluate the model using success rate\n",
        "accuracy_score(y_test, y_pred)"
      ],
      "execution_count": null,
      "outputs": [
        {
          "output_type": "execute_result",
          "data": {
            "text/plain": [
              "0.9736842105263158"
            ]
          },
          "metadata": {
            "tags": []
          },
          "execution_count": 16
        }
      ]
    },
    {
      "cell_type": "markdown",
      "metadata": {
        "id": "Q7u25GteqXV8"
      },
      "source": [
        "*   Our model has a success rate (`accuracy_score`) of approximately 97% \n",
        "*   As we have already seen, our selection of variables allows us to distinguish the species from each other\n",
        "*   As such, it would be expected that our model would have a good predictive capacity"
      ]
    }
  ]
}