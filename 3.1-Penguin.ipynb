{
  "nbformat": 4,
  "nbformat_minor": 0,
  "metadata": {
    "colab": {
      "name": "Penguin.ipynb",
      "provenance": [],
      "collapsed_sections": [],
      "toc_visible": true,
      "include_colab_link": true
    },
    "kernelspec": {
      "name": "python3",
      "display_name": "Python 3"
    },
    "language_info": {
      "name": "python"
    }
  },
  "cells": [
    {
      "cell_type": "markdown",
      "metadata": {
        "id": "view-in-github",
        "colab_type": "text"
      },
      "source": [
        "<a href=\"https://colab.research.google.com/github/martasaparicio/lematecX/blob/main/3.1-Penguin.ipynb\" target=\"_parent\"><img src=\"https://colab.research.google.com/assets/colab-badge.svg\" alt=\"Open In Colab\"/></a>"
      ]
    },
    {
      "cell_type": "markdown",
      "metadata": {
        "id": "6lh1koFTtvyB"
      },
      "source": [
        "# Solved Exercise\n",
        "\n",
        "## Introduction\n",
        "\n",
        "In this exercise, we intend to predict the body mass of penguins. To do this, we will consider several characteristics of the penguins, such as the culmen (beak) depth, flipper length and sex. \n",
        "\n",
        "## Data\n",
        "\n",
        "*   Number of observations = 344\n",
        "*   Number of independent variables = 6\n",
        "  1.   species = the species to which the penguin belongs\n",
        "  1.   island = island where the penguin lives\n",
        "  1.   culmen_length_mm = culmen (beak) length (mm)\n",
        "  2.   culmen_depth_mm = culmen depth (mm)\n",
        "  2.   flipper_length_mm = flipper length (mm)\n",
        "  2.   sex = sex (*male* for male and *female* for female)\n",
        "*   Number of dependent variables = 1\n",
        "  1.   body_mass_g = body mass (gr)\n",
        "\n",
        "Data availabe at:  https://raw.githubusercontent.com/pmarcelino/datasets/master/penguins.csv\n",
        "\n",
        "**Note**: The dependent and independent variables are defined specifically using the information in the exercise's introduction. If in the introduction we were asked, for example, to predict the flipper length using the other variables, the dependent variable would be 'flipper_length' and not 'body_mass_g'.\n",
        "\n",
        "## Example\n",
        "\n",
        "The first observation in the dataset that we will see in the Solution - the first row in the table that appears after doing `df` - refers to a penguin that:\n",
        "\n",
        "*   Is of the `Adelie` species \n",
        "*   Lives on the `Torgersen` island\n",
        "*   Has a beak with a length of `39.1` mm\n",
        "*   Has a beak with a depth of `18.7` mm\n",
        "*   Has flippers with a length of `181` mm\n",
        "*   Has a body mass of `3750` grams\n",
        "*   Is `MALE` (male)\n",
        "\n"
      ]
    },
    {
      "cell_type": "markdown",
      "metadata": {
        "id": "vicA_Z6UOdQ4"
      },
      "source": [
        "# Solution\n",
        "\n",
        "1.   Prepare data\n",
        "2.   Explore data\n",
        "1.   Train the model\n",
        "2.   Evaluate the model"
      ]
    },
    {
      "cell_type": "code",
      "metadata": {
        "id": "D-_JnUZSzBrR"
      },
      "source": [
        "# Import libraries\n",
        "import pandas as pd\n",
        "import seaborn as sns\n",
        "\n",
        "from sklearn.model_selection import train_test_split\n",
        "from sklearn.ensemble import RandomForestRegressor  \n",
        "from sklearn.metrics import r2_score"
      ],
      "execution_count": null,
      "outputs": []
    },
    {
      "cell_type": "markdown",
      "metadata": {
        "id": "UegEHNMqzJhZ"
      },
      "source": [
        "**Note**:  If `FutureWarning` appears while you are importing the libraries, do not worry. This message appears associated with a library and serves only to inform you that some changes are ocurring in that library."
      ]
    },
    {
      "cell_type": "markdown",
      "metadata": {
        "id": "VIWHxkAYOiIz"
      },
      "source": [
        "## Prepare data\n",
        "\n",
        "1.   Import data\n",
        "2.   Remove observations with missing data"
      ]
    },
    {
      "cell_type": "code",
      "metadata": {
        "colab": {
          "base_uri": "https://localhost:8080/",
          "height": 443
        },
        "id": "L1KJoLdHzqSl",
        "outputId": "de6fffd7-0a54-40cf-85e2-99ef6fb50ce2"
      },
      "source": [
        "# Import data\n",
        "url = 'https://raw.githubusercontent.com/pmarcelino/datasets/master/penguins.csv'\n",
        "df = pd.read_csv(url)\n",
        "df"
      ],
      "execution_count": null,
      "outputs": [
        {
          "output_type": "execute_result",
          "data": {
            "text/html": [
              "<div>\n",
              "<style scoped>\n",
              "    .dataframe tbody tr th:only-of-type {\n",
              "        vertical-align: middle;\n",
              "    }\n",
              "\n",
              "    .dataframe tbody tr th {\n",
              "        vertical-align: top;\n",
              "    }\n",
              "\n",
              "    .dataframe thead th {\n",
              "        text-align: right;\n",
              "    }\n",
              "</style>\n",
              "<table border=\"1\" class=\"dataframe\">\n",
              "  <thead>\n",
              "    <tr style=\"text-align: right;\">\n",
              "      <th></th>\n",
              "      <th>species</th>\n",
              "      <th>island</th>\n",
              "      <th>culmen_length_mm</th>\n",
              "      <th>culmen_depth_mm</th>\n",
              "      <th>flipper_length_mm</th>\n",
              "      <th>body_mass_g</th>\n",
              "      <th>sex</th>\n",
              "    </tr>\n",
              "  </thead>\n",
              "  <tbody>\n",
              "    <tr>\n",
              "      <th>0</th>\n",
              "      <td>Adelie</td>\n",
              "      <td>Torgersen</td>\n",
              "      <td>39.1</td>\n",
              "      <td>18.7</td>\n",
              "      <td>181.0</td>\n",
              "      <td>3750.0</td>\n",
              "      <td>MALE</td>\n",
              "    </tr>\n",
              "    <tr>\n",
              "      <th>1</th>\n",
              "      <td>Adelie</td>\n",
              "      <td>Torgersen</td>\n",
              "      <td>39.5</td>\n",
              "      <td>17.4</td>\n",
              "      <td>186.0</td>\n",
              "      <td>3800.0</td>\n",
              "      <td>FEMALE</td>\n",
              "    </tr>\n",
              "    <tr>\n",
              "      <th>2</th>\n",
              "      <td>Adelie</td>\n",
              "      <td>Torgersen</td>\n",
              "      <td>40.3</td>\n",
              "      <td>18.0</td>\n",
              "      <td>195.0</td>\n",
              "      <td>3250.0</td>\n",
              "      <td>FEMALE</td>\n",
              "    </tr>\n",
              "    <tr>\n",
              "      <th>3</th>\n",
              "      <td>Adelie</td>\n",
              "      <td>Torgersen</td>\n",
              "      <td>NaN</td>\n",
              "      <td>NaN</td>\n",
              "      <td>NaN</td>\n",
              "      <td>NaN</td>\n",
              "      <td>NaN</td>\n",
              "    </tr>\n",
              "    <tr>\n",
              "      <th>4</th>\n",
              "      <td>Adelie</td>\n",
              "      <td>Torgersen</td>\n",
              "      <td>36.7</td>\n",
              "      <td>19.3</td>\n",
              "      <td>193.0</td>\n",
              "      <td>3450.0</td>\n",
              "      <td>FEMALE</td>\n",
              "    </tr>\n",
              "    <tr>\n",
              "      <th>...</th>\n",
              "      <td>...</td>\n",
              "      <td>...</td>\n",
              "      <td>...</td>\n",
              "      <td>...</td>\n",
              "      <td>...</td>\n",
              "      <td>...</td>\n",
              "      <td>...</td>\n",
              "    </tr>\n",
              "    <tr>\n",
              "      <th>339</th>\n",
              "      <td>Gentoo</td>\n",
              "      <td>Biscoe</td>\n",
              "      <td>NaN</td>\n",
              "      <td>NaN</td>\n",
              "      <td>NaN</td>\n",
              "      <td>NaN</td>\n",
              "      <td>NaN</td>\n",
              "    </tr>\n",
              "    <tr>\n",
              "      <th>340</th>\n",
              "      <td>Gentoo</td>\n",
              "      <td>Biscoe</td>\n",
              "      <td>46.8</td>\n",
              "      <td>14.3</td>\n",
              "      <td>215.0</td>\n",
              "      <td>4850.0</td>\n",
              "      <td>FEMALE</td>\n",
              "    </tr>\n",
              "    <tr>\n",
              "      <th>341</th>\n",
              "      <td>Gentoo</td>\n",
              "      <td>Biscoe</td>\n",
              "      <td>50.4</td>\n",
              "      <td>15.7</td>\n",
              "      <td>222.0</td>\n",
              "      <td>5750.0</td>\n",
              "      <td>MALE</td>\n",
              "    </tr>\n",
              "    <tr>\n",
              "      <th>342</th>\n",
              "      <td>Gentoo</td>\n",
              "      <td>Biscoe</td>\n",
              "      <td>45.2</td>\n",
              "      <td>14.8</td>\n",
              "      <td>212.0</td>\n",
              "      <td>5200.0</td>\n",
              "      <td>FEMALE</td>\n",
              "    </tr>\n",
              "    <tr>\n",
              "      <th>343</th>\n",
              "      <td>Gentoo</td>\n",
              "      <td>Biscoe</td>\n",
              "      <td>49.9</td>\n",
              "      <td>16.1</td>\n",
              "      <td>213.0</td>\n",
              "      <td>5400.0</td>\n",
              "      <td>MALE</td>\n",
              "    </tr>\n",
              "  </tbody>\n",
              "</table>\n",
              "<p>344 rows × 7 columns</p>\n",
              "</div>"
            ],
            "text/plain": [
              "    species     island  ...  body_mass_g     sex\n",
              "0    Adelie  Torgersen  ...       3750.0    MALE\n",
              "1    Adelie  Torgersen  ...       3800.0  FEMALE\n",
              "2    Adelie  Torgersen  ...       3250.0  FEMALE\n",
              "3    Adelie  Torgersen  ...          NaN     NaN\n",
              "4    Adelie  Torgersen  ...       3450.0  FEMALE\n",
              "..      ...        ...  ...          ...     ...\n",
              "339  Gentoo     Biscoe  ...          NaN     NaN\n",
              "340  Gentoo     Biscoe  ...       4850.0  FEMALE\n",
              "341  Gentoo     Biscoe  ...       5750.0    MALE\n",
              "342  Gentoo     Biscoe  ...       5200.0  FEMALE\n",
              "343  Gentoo     Biscoe  ...       5400.0    MALE\n",
              "\n",
              "[344 rows x 7 columns]"
            ]
          },
          "metadata": {},
          "execution_count": 3
        }
      ]
    },
    {
      "cell_type": "markdown",
      "metadata": {
        "id": "IJOfMUD1zvGb"
      },
      "source": [
        "*   The import was successful\n",
        "*   There is data missing in some of the observations (NaN) \n"
      ]
    },
    {
      "cell_type": "code",
      "metadata": {
        "colab": {
          "base_uri": "https://localhost:8080/",
          "height": 443
        },
        "id": "qZaSNfPU0jQG",
        "outputId": "17663614-327b-44ee-ecb6-6317cd414932"
      },
      "source": [
        "# Remove observations with missing data\n",
        "df = df.dropna()\n",
        "df"
      ],
      "execution_count": null,
      "outputs": [
        {
          "output_type": "execute_result",
          "data": {
            "text/html": [
              "<div>\n",
              "<style scoped>\n",
              "    .dataframe tbody tr th:only-of-type {\n",
              "        vertical-align: middle;\n",
              "    }\n",
              "\n",
              "    .dataframe tbody tr th {\n",
              "        vertical-align: top;\n",
              "    }\n",
              "\n",
              "    .dataframe thead th {\n",
              "        text-align: right;\n",
              "    }\n",
              "</style>\n",
              "<table border=\"1\" class=\"dataframe\">\n",
              "  <thead>\n",
              "    <tr style=\"text-align: right;\">\n",
              "      <th></th>\n",
              "      <th>species</th>\n",
              "      <th>island</th>\n",
              "      <th>culmen_length_mm</th>\n",
              "      <th>culmen_depth_mm</th>\n",
              "      <th>flipper_length_mm</th>\n",
              "      <th>body_mass_g</th>\n",
              "      <th>sex</th>\n",
              "    </tr>\n",
              "  </thead>\n",
              "  <tbody>\n",
              "    <tr>\n",
              "      <th>0</th>\n",
              "      <td>Adelie</td>\n",
              "      <td>Torgersen</td>\n",
              "      <td>39.1</td>\n",
              "      <td>18.7</td>\n",
              "      <td>181.0</td>\n",
              "      <td>3750.0</td>\n",
              "      <td>MALE</td>\n",
              "    </tr>\n",
              "    <tr>\n",
              "      <th>1</th>\n",
              "      <td>Adelie</td>\n",
              "      <td>Torgersen</td>\n",
              "      <td>39.5</td>\n",
              "      <td>17.4</td>\n",
              "      <td>186.0</td>\n",
              "      <td>3800.0</td>\n",
              "      <td>FEMALE</td>\n",
              "    </tr>\n",
              "    <tr>\n",
              "      <th>2</th>\n",
              "      <td>Adelie</td>\n",
              "      <td>Torgersen</td>\n",
              "      <td>40.3</td>\n",
              "      <td>18.0</td>\n",
              "      <td>195.0</td>\n",
              "      <td>3250.0</td>\n",
              "      <td>FEMALE</td>\n",
              "    </tr>\n",
              "    <tr>\n",
              "      <th>4</th>\n",
              "      <td>Adelie</td>\n",
              "      <td>Torgersen</td>\n",
              "      <td>36.7</td>\n",
              "      <td>19.3</td>\n",
              "      <td>193.0</td>\n",
              "      <td>3450.0</td>\n",
              "      <td>FEMALE</td>\n",
              "    </tr>\n",
              "    <tr>\n",
              "      <th>5</th>\n",
              "      <td>Adelie</td>\n",
              "      <td>Torgersen</td>\n",
              "      <td>39.3</td>\n",
              "      <td>20.6</td>\n",
              "      <td>190.0</td>\n",
              "      <td>3650.0</td>\n",
              "      <td>MALE</td>\n",
              "    </tr>\n",
              "    <tr>\n",
              "      <th>...</th>\n",
              "      <td>...</td>\n",
              "      <td>...</td>\n",
              "      <td>...</td>\n",
              "      <td>...</td>\n",
              "      <td>...</td>\n",
              "      <td>...</td>\n",
              "      <td>...</td>\n",
              "    </tr>\n",
              "    <tr>\n",
              "      <th>338</th>\n",
              "      <td>Gentoo</td>\n",
              "      <td>Biscoe</td>\n",
              "      <td>47.2</td>\n",
              "      <td>13.7</td>\n",
              "      <td>214.0</td>\n",
              "      <td>4925.0</td>\n",
              "      <td>FEMALE</td>\n",
              "    </tr>\n",
              "    <tr>\n",
              "      <th>340</th>\n",
              "      <td>Gentoo</td>\n",
              "      <td>Biscoe</td>\n",
              "      <td>46.8</td>\n",
              "      <td>14.3</td>\n",
              "      <td>215.0</td>\n",
              "      <td>4850.0</td>\n",
              "      <td>FEMALE</td>\n",
              "    </tr>\n",
              "    <tr>\n",
              "      <th>341</th>\n",
              "      <td>Gentoo</td>\n",
              "      <td>Biscoe</td>\n",
              "      <td>50.4</td>\n",
              "      <td>15.7</td>\n",
              "      <td>222.0</td>\n",
              "      <td>5750.0</td>\n",
              "      <td>MALE</td>\n",
              "    </tr>\n",
              "    <tr>\n",
              "      <th>342</th>\n",
              "      <td>Gentoo</td>\n",
              "      <td>Biscoe</td>\n",
              "      <td>45.2</td>\n",
              "      <td>14.8</td>\n",
              "      <td>212.0</td>\n",
              "      <td>5200.0</td>\n",
              "      <td>FEMALE</td>\n",
              "    </tr>\n",
              "    <tr>\n",
              "      <th>343</th>\n",
              "      <td>Gentoo</td>\n",
              "      <td>Biscoe</td>\n",
              "      <td>49.9</td>\n",
              "      <td>16.1</td>\n",
              "      <td>213.0</td>\n",
              "      <td>5400.0</td>\n",
              "      <td>MALE</td>\n",
              "    </tr>\n",
              "  </tbody>\n",
              "</table>\n",
              "<p>333 rows × 7 columns</p>\n",
              "</div>"
            ],
            "text/plain": [
              "    species     island  ...  body_mass_g     sex\n",
              "0    Adelie  Torgersen  ...       3750.0    MALE\n",
              "1    Adelie  Torgersen  ...       3800.0  FEMALE\n",
              "2    Adelie  Torgersen  ...       3250.0  FEMALE\n",
              "4    Adelie  Torgersen  ...       3450.0  FEMALE\n",
              "5    Adelie  Torgersen  ...       3650.0    MALE\n",
              "..      ...        ...  ...          ...     ...\n",
              "338  Gentoo     Biscoe  ...       4925.0  FEMALE\n",
              "340  Gentoo     Biscoe  ...       4850.0  FEMALE\n",
              "341  Gentoo     Biscoe  ...       5750.0    MALE\n",
              "342  Gentoo     Biscoe  ...       5200.0  FEMALE\n",
              "343  Gentoo     Biscoe  ...       5400.0    MALE\n",
              "\n",
              "[333 rows x 7 columns]"
            ]
          },
          "metadata": {},
          "execution_count": 4
        }
      ]
    },
    {
      "cell_type": "markdown",
      "metadata": {
        "id": "Gk5YkkCf0xgb"
      },
      "source": [
        "*   The number of available observations has reduced to 333 (`333 rows`)\n",
        "*   If the operation was performed well, we would only have complete observations (no missing data) \n",
        "\n"
      ]
    },
    {
      "cell_type": "code",
      "metadata": {
        "colab": {
          "base_uri": "https://localhost:8080/"
        },
        "id": "seY90dAI2mot",
        "outputId": "05e8905a-cac8-43d6-a566-dcdc8bcf907e"
      },
      "source": [
        "# Check for missing data\n",
        "df.isnull().sum()"
      ],
      "execution_count": null,
      "outputs": [
        {
          "output_type": "execute_result",
          "data": {
            "text/plain": [
              "species              0\n",
              "island               0\n",
              "culmen_length_mm     0\n",
              "culmen_depth_mm      0\n",
              "flipper_length_mm    0\n",
              "body_mass_g          0\n",
              "sex                  0\n",
              "dtype: int64"
            ]
          },
          "metadata": {},
          "execution_count": 5
        }
      ]
    },
    {
      "cell_type": "markdown",
      "metadata": {
        "id": "Pm1xsVYo2r66"
      },
      "source": [
        "*   There are no variables with observations that have missing data\n",
        "*   It is confirmed that we now only have complete observations (complete dataset)\n"
      ]
    },
    {
      "cell_type": "markdown",
      "metadata": {
        "id": "KkHmjXRlOrW8"
      },
      "source": [
        "## 2. Explore data\n",
        "\n",
        "1.   Detect errors and anomalies\n",
        "2.   View relationships between variables\n",
        "  *   **Hypothesis**: `if a penguin has larger physical characteristics, then it will be of a larger size (and, consequently, its body mass will also be larger)`. If the hypothesis is true, detecting patterns in the physical characteristics of penguins can be a good way to predict their body mass."
      ]
    },
    {
      "cell_type": "code",
      "metadata": {
        "colab": {
          "base_uri": "https://localhost:8080/",
          "height": 300
        },
        "id": "kZOIpUXR7qal",
        "outputId": "88911a5f-b407-42f5-f8d2-b9deb52ae874"
      },
      "source": [
        "# Check for errors or anomalies\n",
        "df.describe()"
      ],
      "execution_count": null,
      "outputs": [
        {
          "output_type": "execute_result",
          "data": {
            "text/html": [
              "<div>\n",
              "<style scoped>\n",
              "    .dataframe tbody tr th:only-of-type {\n",
              "        vertical-align: middle;\n",
              "    }\n",
              "\n",
              "    .dataframe tbody tr th {\n",
              "        vertical-align: top;\n",
              "    }\n",
              "\n",
              "    .dataframe thead th {\n",
              "        text-align: right;\n",
              "    }\n",
              "</style>\n",
              "<table border=\"1\" class=\"dataframe\">\n",
              "  <thead>\n",
              "    <tr style=\"text-align: right;\">\n",
              "      <th></th>\n",
              "      <th>culmen_length_mm</th>\n",
              "      <th>culmen_depth_mm</th>\n",
              "      <th>flipper_length_mm</th>\n",
              "      <th>body_mass_g</th>\n",
              "    </tr>\n",
              "  </thead>\n",
              "  <tbody>\n",
              "    <tr>\n",
              "      <th>count</th>\n",
              "      <td>333.000000</td>\n",
              "      <td>333.000000</td>\n",
              "      <td>333.000000</td>\n",
              "      <td>333.000000</td>\n",
              "    </tr>\n",
              "    <tr>\n",
              "      <th>mean</th>\n",
              "      <td>43.992793</td>\n",
              "      <td>17.164865</td>\n",
              "      <td>200.966967</td>\n",
              "      <td>4207.057057</td>\n",
              "    </tr>\n",
              "    <tr>\n",
              "      <th>std</th>\n",
              "      <td>5.468668</td>\n",
              "      <td>1.969235</td>\n",
              "      <td>14.015765</td>\n",
              "      <td>805.215802</td>\n",
              "    </tr>\n",
              "    <tr>\n",
              "      <th>min</th>\n",
              "      <td>32.100000</td>\n",
              "      <td>13.100000</td>\n",
              "      <td>172.000000</td>\n",
              "      <td>2700.000000</td>\n",
              "    </tr>\n",
              "    <tr>\n",
              "      <th>25%</th>\n",
              "      <td>39.500000</td>\n",
              "      <td>15.600000</td>\n",
              "      <td>190.000000</td>\n",
              "      <td>3550.000000</td>\n",
              "    </tr>\n",
              "    <tr>\n",
              "      <th>50%</th>\n",
              "      <td>44.500000</td>\n",
              "      <td>17.300000</td>\n",
              "      <td>197.000000</td>\n",
              "      <td>4050.000000</td>\n",
              "    </tr>\n",
              "    <tr>\n",
              "      <th>75%</th>\n",
              "      <td>48.600000</td>\n",
              "      <td>18.700000</td>\n",
              "      <td>213.000000</td>\n",
              "      <td>4775.000000</td>\n",
              "    </tr>\n",
              "    <tr>\n",
              "      <th>max</th>\n",
              "      <td>59.600000</td>\n",
              "      <td>21.500000</td>\n",
              "      <td>231.000000</td>\n",
              "      <td>6300.000000</td>\n",
              "    </tr>\n",
              "  </tbody>\n",
              "</table>\n",
              "</div>"
            ],
            "text/plain": [
              "       culmen_length_mm  culmen_depth_mm  flipper_length_mm  body_mass_g\n",
              "count        333.000000       333.000000         333.000000   333.000000\n",
              "mean          43.992793        17.164865         200.966967  4207.057057\n",
              "std            5.468668         1.969235          14.015765   805.215802\n",
              "min           32.100000        13.100000         172.000000  2700.000000\n",
              "25%           39.500000        15.600000         190.000000  3550.000000\n",
              "50%           44.500000        17.300000         197.000000  4050.000000\n",
              "75%           48.600000        18.700000         213.000000  4775.000000\n",
              "max           59.600000        21.500000         231.000000  6300.000000"
            ]
          },
          "metadata": {},
          "execution_count": 6
        }
      ]
    },
    {
      "cell_type": "markdown",
      "metadata": {
        "id": "aclXSv7qXujb"
      },
      "source": [
        "*   There do not seem to be any obvious errors or anomalies"
      ]
    },
    {
      "cell_type": "code",
      "metadata": {
        "colab": {
          "base_uri": "https://localhost:8080/",
          "height": 298
        },
        "id": "OwpW83_0XzPe",
        "outputId": "7c96d993-3043-4509-8553-2b6452b4174b"
      },
      "source": [
        "# View relationship between flipper length and body mass\n",
        "sns.scatterplot(x='flipper_length_mm', y='body_mass_g', data=df)"
      ],
      "execution_count": null,
      "outputs": [
        {
          "output_type": "execute_result",
          "data": {
            "text/plain": [
              "<matplotlib.axes._subplots.AxesSubplot at 0x7f3fe11cb090>"
            ]
          },
          "metadata": {
            "tags": []
          },
          "execution_count": 7
        },
        {
          "output_type": "display_data",
          "data": {
            "image/png": "[encoded data removed]",
            "text/plain": [
              "<Figure size 432x288 with 1 Axes>"
            ]
          },
          "metadata": {
            "tags": [],
            "needs_background": "light"
          }
        }
      ]
    },
    {
      "cell_type": "markdown",
      "metadata": {
        "id": "rlbtGJXrYBth"
      },
      "source": [
        "*   There seems to be a relationship between the two variables \n",
        "*   This relationship is linear because it appears to be possible to draw a straight line that relates both variables  \n",
        "*   This relationship is positive because as one variable increases, the other also increases (penguins with larger flippers have a larger body mass)\n",
        "\n"
      ]
    },
    {
      "cell_type": "code",
      "metadata": {
        "colab": {
          "base_uri": "https://localhost:8080/",
          "height": 298
        },
        "id": "ZAQuZqL7Y307",
        "outputId": "4b7634e0-f025-4e4b-a480-3c243a89ff1e"
      },
      "source": [
        "# View relationship between beak length and body mass\n",
        "sns.scatterplot(x='culmen_length_mm', y='body_mass_g', data=df)"
      ],
      "execution_count": null,
      "outputs": [
        {
          "output_type": "execute_result",
          "data": {
            "text/plain": [
              "<matplotlib.axes._subplots.AxesSubplot at 0x7f3fe061d1d0>"
            ]
          },
          "metadata": {
            "tags": []
          },
          "execution_count": 8
        },
        {
          "output_type": "display_data",
          "data": {
            "image/png": "[encoded data removed]",
            "text/plain": [
              "<Figure size 432x288 with 1 Axes>"
            ]
          },
          "metadata": {
            "tags": [],
            "needs_background": "light"
          }
        }
      ]
    },
    {
      "cell_type": "markdown",
      "metadata": {
        "id": "CNpnOsvqZFlK"
      },
      "source": [
        "*   There seems to be a relationship between the two variables \n",
        "*   It is not entirely clear that the relationship is linear\n",
        "*   The relationship appears to be positive, as there is a tendency for penguins with a longer beak to have a larger body mass"
      ]
    },
    {
      "cell_type": "code",
      "metadata": {
        "colab": {
          "base_uri": "https://localhost:8080/",
          "height": 298
        },
        "id": "wBrLShKzZlDL",
        "outputId": "007d76a9-7c28-4322-b50f-d37cb8fe7701"
      },
      "source": [
        "# View relationship between beak depth and body mass\n",
        "sns.scatterplot(x='culmen_depth_mm', y='body_mass_g', data=df)"
      ],
      "execution_count": null,
      "outputs": [
        {
          "output_type": "execute_result",
          "data": {
            "text/plain": [
              "<matplotlib.axes._subplots.AxesSubplot at 0x7f3fe0171e50>"
            ]
          },
          "metadata": {
            "tags": []
          },
          "execution_count": 9
        },
        {
          "output_type": "display_data",
          "data": {
            "image/png": "[encoded data removed]",
            "text/plain": [
              "<Figure size 432x288 with 1 Axes>"
            ]
          },
          "metadata": {
            "tags": [],
            "needs_background": "light"
          }
        }
      ]
    },
    {
      "cell_type": "markdown",
      "metadata": {
        "id": "2mKQtza0Z2KS"
      },
      "source": [
        "*   The data appears to be divided into two groups\n",
        "*   Both groups tend to have a linear and positive relationship\n",
        "*   Challenge: draw the last scatter plot, identifying the species\n",
        "\n",
        "**Conclusions drawn from the data exploration**\n",
        "\n",
        "*   There do not seem to be any obvious errors or anomalies\n",
        "*   The initial hypothesis seems to hold and it is possible to use the penguins' physical characteristics to predict their body mass.\n"
      ]
    },
    {
      "cell_type": "markdown",
      "metadata": {
        "id": "bNY6CXzTav8k"
      },
      "source": [
        "## 3. Train the model\n",
        "\n",
        "1.   Prepare the data in order to apply the algorithm\n",
        "  *   Define the independent and dependent variables\n",
        "  *   Split the data into training and testing datasets\n",
        "1.   Define the algorithm to be used to train the model\n",
        "  *   Use a model that is suitable for a **regression** problem \n",
        "2.   Train the model with the defined algorithm\n",
        "\n",
        "\n",
        "\n",
        "\n"
      ]
    },
    {
      "cell_type": "code",
      "metadata": {
        "id": "ZB0poOCHbj5J"
      },
      "source": [
        "# Define the independent and dependent variables\n",
        "X = df[['culmen_length_mm','culmen_depth_mm','flipper_length_mm']]\n",
        "y = df['body_mass_g']"
      ],
      "execution_count": null,
      "outputs": []
    },
    {
      "cell_type": "markdown",
      "metadata": {
        "id": "Ia887Na2bpyL"
      },
      "source": [
        "*   We will only be using the variables that we have already observed to be related to body mass\n",
        "*   To train the model, all the independent variables must be numerical "
      ]
    },
    {
      "cell_type": "code",
      "metadata": {
        "id": "OypjU1NJd3f5"
      },
      "source": [
        "# Split the data into training and testing datasets\n",
        "X_train, X_test, y_train, y_test = train_test_split(X, y, random_state=37)"
      ],
      "execution_count": null,
      "outputs": []
    },
    {
      "cell_type": "markdown",
      "metadata": {
        "id": "Jr6qT8uOd9kL"
      },
      "source": [
        "*   This function randomly splits the data between the training and testing datasets\n",
        "*   In order for this division to always be equal, we define the `random_state` argument\n",
        "*   That way, if anyone were to run code that is exactly the same as ours, they would get the same results\n",
        "*   We used the number 37, but we could have used any other number."
      ]
    },
    {
      "cell_type": "code",
      "metadata": {
        "id": "NkcddP5fedqY"
      },
      "source": [
        "# Define the algorithm of the model\n",
        "model = RandomForestRegressor(random_state=37)"
      ],
      "execution_count": null,
      "outputs": []
    },
    {
      "cell_type": "markdown",
      "metadata": {
        "id": "cmskmKoretNe"
      },
      "source": [
        "*   We defined `random_state` for the reasons mentioned above\n",
        "*   Since this is a regression problem, the Random Forest algorithm version we will be using must be suitable for regressions (`RandomForestRegressor` instead of `RandomForestClassifier`)"
      ]
    },
    {
      "cell_type": "code",
      "metadata": {
        "colab": {
          "base_uri": "https://localhost:8080/"
        },
        "id": "2l7VJsggfRbp",
        "outputId": "63a63a02-30cc-4109-f274-447f25303125"
      },
      "source": [
        "# Train the model\n",
        "model.fit(X_train, y_train)"
      ],
      "execution_count": null,
      "outputs": [
        {
          "output_type": "execute_result",
          "data": {
            "text/plain": [
              "RandomForestRegressor(bootstrap=True, ccp_alpha=0.0, criterion='mse',\n",
              "                      max_depth=None, max_features='auto', max_leaf_nodes=None,\n",
              "                      max_samples=None, min_impurity_decrease=0.0,\n",
              "                      min_impurity_split=None, min_samples_leaf=1,\n",
              "                      min_samples_split=2, min_weight_fraction_leaf=0.0,\n",
              "                      n_estimators=100, n_jobs=None, oob_score=False,\n",
              "                      random_state=37, verbose=0, warm_start=False)"
            ]
          },
          "metadata": {
            "tags": []
          },
          "execution_count": 13
        }
      ]
    },
    {
      "cell_type": "markdown",
      "metadata": {
        "id": "TixJcp9ofZF0"
      },
      "source": [
        "## 4. Evaluate the model\n",
        "\n",
        "1.   Make predictions\n",
        "2.   Evaluate the model based on the predictions made\n",
        "  *   Use an evaluation metric that is suitable for a **regression** problem\n",
        "  *   The coefficient of determination (R2) is a suitable metric for most regression problems"
      ]
    },
    {
      "cell_type": "code",
      "metadata": {
        "id": "_YToHctUf73k"
      },
      "source": [
        "# Make predictions\n",
        "y_pred = model.predict(X_test)"
      ],
      "execution_count": null,
      "outputs": []
    },
    {
      "cell_type": "code",
      "metadata": {
        "colab": {
          "base_uri": "https://localhost:8080/"
        },
        "id": "jJafZ-Kof_Tc",
        "outputId": "a0ca264f-750f-4ed9-d7ac-c88617a2dfe2"
      },
      "source": [
        "# Evaluate the model using the coefficient of determination\n",
        "r2_score(y_test, y_pred)"
      ],
      "execution_count": null,
      "outputs": [
        {
          "output_type": "execute_result",
          "data": {
            "text/plain": [
              "0.8568411326046628"
            ]
          },
          "metadata": {
            "tags": []
          },
          "execution_count": 15
        }
      ]
    },
    {
      "cell_type": "markdown",
      "metadata": {
        "id": "8_g98I8OgMO8"
      },
      "source": [
        "*   The coefficient of determination value (`r2_score`) is approximately 0.86. \n",
        "*   As the value is close to 1, we can say that the model has a good predictive capacity"
      ]
    }
  ]
}