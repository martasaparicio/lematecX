{
  "nbformat": 4,
  "nbformat_minor": 0,
  "metadata": {
    "colab": {
      "name": "ModelTraining.ipynb",
      "provenance": [],
      "collapsed_sections": [],
      "toc_visible": true,
      "include_colab_link": true
    },
    "kernelspec": {
      "name": "python3",
      "display_name": "Python 3"
    },
    "language_info": {
      "name": "python"
    }
  },
  "cells": [
    {
      "cell_type": "markdown",
      "metadata": {
        "id": "view-in-github",
        "colab_type": "text"
      },
      "source": [
        "<a href=\"https://colab.research.google.com/github/martasaparicio/lematecX/blob/main/3.2-ModelTraining.ipynb\" target=\"_parent\"><img src=\"https://colab.research.google.com/assets/colab-badge.svg\" alt=\"Open In Colab\"/></a>"
      ]
    },
    {
      "cell_type": "markdown",
      "metadata": {
        "id": "a38UOYS8VNSU"
      },
      "source": [
        "# Model Training"
      ]
    },
    {
      "cell_type": "markdown",
      "metadata": {
        "id": "8yifC8PjHP_3"
      },
      "source": [
        "## Introduction\n",
        "\n",
        "In supervised learning, machine learning techniques are commonly used to create **prediction models**. These models are the end product of the machine learning application process.\n",
        "\n",
        "Prediction models are built based on data that, ideally, is related to the problem we want to solve. The use of this data in the construction of models implies a model **training process**, where machine learning algorithms search for patterns that make it possible to make predictions in future situations with similar characteristics.\n",
        "\n",
        "Let us consider the following **analogy** where the model training phase is the equivalent of learning a subject based on examples. Sometimes, the best way to learn a particular subject (e.g., solving quadratic equations) is to see several solved exercises in order to detect the pattern used in the solution. It is the same for machine learning: algorithms use data to determine existing patterns and build prediction models. \n",
        "\n",
        "In this tutorial, we will present the main elements of model training:\n",
        "\n",
        "*   ***Scikit-learn*** **library**. The *scikit-learn* library has various machine learning functions and algorithms. \n",
        "*   **Pre-processing.** Sometimes, before training models, it is necessary to carry out specific data preparation procedures.\n",
        "*   **Application of algorithms.** Model training is carried out using machine learning algorithms.\n",
        "\n",
        "This tutorial has several **examples** that illustrate how code is applied and the effects of its application. In addition to this, along the course of the tutorial you will be faced with various challenges which serve to check whether you understand the material. At the end, all of the content presented will be summarised.\n",
        "\n",
        "Note that this is an **introductory-level** tutorial and for this reason, several important aspects are not covered. For more information, we recommend that you consult the [official *scikit-learn* library documentation](https://scikit-learn.org/stable/index.html)."
      ]
    },
    {
      "cell_type": "markdown",
      "metadata": {
        "id": "8jDpbg8LBMMJ"
      },
      "source": [
        "## Scikit-learn Library\n",
        "\n",
        "***Scikit-learn*** is a Python library that facilitates the creation of machine learning programs. As such, *scikit-learn* has a set of methods and functions that make it easy to apply machine learning algorithms and perform additional related tasks. \n",
        "\n",
        "Since the *scikit-learn* library has several modules, we will opt for a **different** importation process than what is usually done when importing the *seaborn* library, for example.\n",
        "\n",
        "Therefore, for the purposes of training models, the typical import from the *scikit-learn* library is as follows:"
      ]
    },
    {
      "cell_type": "code",
      "metadata": {
        "id": "2x8onV3nFv8n"
      },
      "source": [
        "from sklearn.model_selection import train_test_split"
      ],
      "execution_count": null,
      "outputs": []
    },
    {
      "cell_type": "markdown",
      "metadata": {
        "id": "ifED5PX7HdhT"
      },
      "source": [
        "In the previous instruction:\n",
        "\n",
        "*   The word `from` tells the computer that we want to import a specific module from a library (and not an entire library).\n",
        "*   In the expression `sklearn.model_selection`,\n",
        "  *   `sklearn` refers to the library where the modules we want to import are located (in this case, it is the *scikit-learn* library, denominated `sklearn` for import purposes). \n",
        "  *   `model_selection` refers to the module that we want to import from the *scikit-learn* library.\n",
        "*   The word `import` tells the computer that we want to import something from this module.\n",
        "*   The word `train_test_split` identifies what we want to import.\n",
        "\n",
        "From the moment the import is carried out, we **are able to use** the imported functions.\n",
        "\n",
        "This tutorial uses **different modules and functions** from the *scikit-learn* library and they will be presented as they are used. Although there are many modules and functions, only a few of them are currently used. With this in mind, the rest of the tutorial will focus on the modules and functions that are used in the following operations:\n",
        "\n",
        "*   Pre-processing.\n",
        "*   Model training with machine learning.\n",
        "\n"
      ]
    },
    {
      "cell_type": "markdown",
      "metadata": {
        "id": "h5kH3JLN2erh"
      },
      "source": [
        "## Pre-processing\n",
        "\n",
        "In order for the algorithms to be applied, it is necessary to guarantee some data formatting assumptions. As such, pre-processing corresponds to **specific data preparation operations** that permit us to apply machine learning algorithms.\n",
        "\n",
        "There are **various pre-processing operations**. Some of the most frequent are:\n",
        "\n",
        "*   Variable encoding.\n",
        "*   Independent and dependent variables.\n",
        "*   Training and testing datasets."
      ]
    },
    {
      "cell_type": "markdown",
      "metadata": {
        "id": "FTvrqTgmHe2P"
      },
      "source": [
        "### Variable encoding\n",
        "\n",
        "Until now, our focus has been on numerical variables. However, it is common to find datasets that have categorical variables. In these cases, it is necessary to **transform the categorical variables into numerical variables** because the algorithms we want to work with require that numerical variables be used.\n",
        "\n",
        "**Categorical** variables have a finite number of distinct categories (or groups). This means that the value of the variables is described by a finite set of values. In general, categorical variables can be characterised as:\n",
        "\n",
        "*   Ordinal\n",
        "*   Nominal\n",
        "\n",
        "**Ordinal** categorical variables present a specific order. For example, blouse size is represented by a finite set of categories that have an order: XL > L > M > S. \n",
        "\n",
        "On the other hand, **nominal** categorical variables do not imply that there is any particular order. For example, the colour of blouses is represented by distinct categories (e.g., yellow, red and green), but these categories are not orderable (it does not make sense to say yellow > red).\n",
        "\n",
        "Two common techniques used to convert categorical variables into numerical variables are: \n",
        "\n",
        "*   Label encoding.\n",
        "*   One-hot encoding."
      ]
    },
    {
      "cell_type": "markdown",
      "metadata": {
        "id": "ZC6LgjqkHrC-"
      },
      "source": [
        "#### Label encoding\n",
        "\n",
        "Let us create an example to illustrate the type of problem we want to address: "
      ]
    },
    {
      "cell_type": "code",
      "metadata": {
        "colab": {
          "base_uri": "https://localhost:8080/",
          "height": 143
        },
        "id": "xm1kCCoz_vtN",
        "outputId": "32522170-29d7-40d4-fcc2-62ab182815fe"
      },
      "source": [
        "import pandas as pd\n",
        "\n",
        "df = pd.DataFrame({'Colour':['yellow', 'red', 'green'], \n",
        "                   'Size':['S', 'M', 'L'], \n",
        "                   'Price':[12, 15, 22]})\n",
        "df"
      ],
      "execution_count": null,
      "outputs": [
        {
          "output_type": "execute_result",
          "data": {
            "text/html": [
              "<div>\n",
              "<style scoped>\n",
              "    .dataframe tbody tr th:only-of-type {\n",
              "        vertical-align: middle;\n",
              "    }\n",
              "\n",
              "    .dataframe tbody tr th {\n",
              "        vertical-align: top;\n",
              "    }\n",
              "\n",
              "    .dataframe thead th {\n",
              "        text-align: right;\n",
              "    }\n",
              "</style>\n",
              "<table border=\"1\" class=\"dataframe\">\n",
              "  <thead>\n",
              "    <tr style=\"text-align: right;\">\n",
              "      <th></th>\n",
              "      <th>Colour</th>\n",
              "      <th>Size</th>\n",
              "      <th>Price</th>\n",
              "    </tr>\n",
              "  </thead>\n",
              "  <tbody>\n",
              "    <tr>\n",
              "      <th>0</th>\n",
              "      <td>yellow</td>\n",
              "      <td>S</td>\n",
              "      <td>12</td>\n",
              "    </tr>\n",
              "    <tr>\n",
              "      <th>1</th>\n",
              "      <td>red</td>\n",
              "      <td>M</td>\n",
              "      <td>15</td>\n",
              "    </tr>\n",
              "    <tr>\n",
              "      <th>2</th>\n",
              "      <td>green</td>\n",
              "      <td>L</td>\n",
              "      <td>22</td>\n",
              "    </tr>\n",
              "  </tbody>\n",
              "</table>\n",
              "</div>"
            ],
            "text/plain": [
              "   Colour Size  Price\n",
              "0  yellow    S     12\n",
              "1     red    M     15\n",
              "2   green    L     22"
            ]
          },
          "metadata": {},
          "execution_count": 2
        }
      ]
    },
    {
      "cell_type": "markdown",
      "metadata": {
        "id": "PZb3U62TPVxy"
      },
      "source": [
        "In order for the algorithm to be able to read the data correctly, we have to transform categorical variables into numerical variables. Typically, this transformation is done by converting categorical variables into integers.\n",
        "\n",
        "In the example shown, our categorical variables are 'Colour' and 'Size'. Starting with the variable 'Colour', the first thing that stands out is that this variable is nominal and not ordinal. This means that it does not matter what integer we assign to each of the categories and therefore, we can simply start counting the categories from 0. For that, we will use the `LabelEncoder` class from the *scikit-learn* library: "
      ]
    },
    {
      "cell_type": "code",
      "metadata": {
        "colab": {
          "base_uri": "https://localhost:8080/",
          "height": 143
        },
        "id": "nNxKpwcTU6Ps",
        "outputId": "d8d84133-8bc0-4987-8211-4a71682927a8"
      },
      "source": [
        "from sklearn.preprocessing import LabelEncoder\n",
        "\n",
        "encoder = LabelEncoder()\n",
        "encoder = encoder.fit(df['Colour'])\n",
        "encoded = encoder.transform(df['Colour'])\n",
        "\n",
        "df['Colour'] = encoded\n",
        "\n",
        "df"
      ],
      "execution_count": null,
      "outputs": [
        {
          "output_type": "execute_result",
          "data": {
            "text/html": [
              "<div>\n",
              "<style scoped>\n",
              "    .dataframe tbody tr th:only-of-type {\n",
              "        vertical-align: middle;\n",
              "    }\n",
              "\n",
              "    .dataframe tbody tr th {\n",
              "        vertical-align: top;\n",
              "    }\n",
              "\n",
              "    .dataframe thead th {\n",
              "        text-align: right;\n",
              "    }\n",
              "</style>\n",
              "<table border=\"1\" class=\"dataframe\">\n",
              "  <thead>\n",
              "    <tr style=\"text-align: right;\">\n",
              "      <th></th>\n",
              "      <th>Colour</th>\n",
              "      <th>Size</th>\n",
              "      <th>Price</th>\n",
              "    </tr>\n",
              "  </thead>\n",
              "  <tbody>\n",
              "    <tr>\n",
              "      <th>0</th>\n",
              "      <td>2</td>\n",
              "      <td>S</td>\n",
              "      <td>12</td>\n",
              "    </tr>\n",
              "    <tr>\n",
              "      <th>1</th>\n",
              "      <td>1</td>\n",
              "      <td>M</td>\n",
              "      <td>15</td>\n",
              "    </tr>\n",
              "    <tr>\n",
              "      <th>2</th>\n",
              "      <td>0</td>\n",
              "      <td>L</td>\n",
              "      <td>22</td>\n",
              "    </tr>\n",
              "  </tbody>\n",
              "</table>\n",
              "</div>"
            ],
            "text/plain": [
              "   Colour Size  Price\n",
              "0       2    S     12\n",
              "1       1    M     15\n",
              "2       0    L     22"
            ]
          },
          "metadata": {},
          "execution_count": 3
        }
      ]
    },
    {
      "cell_type": "markdown",
      "metadata": {
        "id": "kT6j1DOxVFOK"
      },
      "source": [
        "In the previous instruction:\n",
        "\n",
        "*   `from from sklearn.preprocessing import LabelEncoder` does the typical import from the *scikit-learn* library. \n",
        "  *   `sklearn.preprocessing` refers to the module where you can find the `LabelEncoder` class.\n",
        "  *   `LabelEncoder` refers to the class where the label encoding technique is programmed. \n",
        "*   `encoder = LabelEncoder()` defines the use of the `LabelEncoder` class.\n",
        "*   `encoder = encoder.fit(df['Colour'])` is the step where we pass the data we want to encode to the `encoder` object. In this case, the data in question corresponds to the variable 'Colour'. \n",
        "*   `encoded = encoder.transform(df['Colour'])` stores the data that has recently been encoded (via `encoder.transform(df['Colour'])`) in a new variable, `encoded` variable.  \n",
        "*   `df['Colour'] = pd.Series(encoded)` serves to place the `encoded` variable data in a *Series*. Although our data is initially in a *Series* (`df['Colour']`), using `LabelEncoder` changes this data structure and, therefore, it is essential to apply the *Series* function to once again get back to a *Series*. \n",
        "*   `df` displays the `df` variable with the 'Colour' variable already encoded.\n",
        "\n",
        "As we can see, the encoding left us with the following **correspondence**:\n",
        "\n",
        "*   yellow = 0\n",
        "*   red = 2\n",
        "*   green = 1\n",
        "\n",
        "The 'Size' variable's case is different because this is an ordinal variable. In this case, to ensure that the encoding respects the existing order (`L > M > S`), we have to specifying exactly which values we want for each category:\n",
        "\n",
        "\n",
        "\n"
      ]
    },
    {
      "cell_type": "code",
      "metadata": {
        "colab": {
          "base_uri": "https://localhost:8080/",
          "height": 143
        },
        "id": "UIOpelF2c_fV",
        "outputId": "35b7054b-3518-42a8-c857-bbf91c91b792"
      },
      "source": [
        "map_size = {'L': 2,\n",
        "            'M': 1,\n",
        "            'S': 0}\n",
        "\n",
        "df['Size'] = df['Size'].map(map_size)\n",
        "df"
      ],
      "execution_count": null,
      "outputs": [
        {
          "output_type": "execute_result",
          "data": {
            "text/html": [
              "<div>\n",
              "<style scoped>\n",
              "    .dataframe tbody tr th:only-of-type {\n",
              "        vertical-align: middle;\n",
              "    }\n",
              "\n",
              "    .dataframe tbody tr th {\n",
              "        vertical-align: top;\n",
              "    }\n",
              "\n",
              "    .dataframe thead th {\n",
              "        text-align: right;\n",
              "    }\n",
              "</style>\n",
              "<table border=\"1\" class=\"dataframe\">\n",
              "  <thead>\n",
              "    <tr style=\"text-align: right;\">\n",
              "      <th></th>\n",
              "      <th>Colour</th>\n",
              "      <th>Size</th>\n",
              "      <th>Price</th>\n",
              "    </tr>\n",
              "  </thead>\n",
              "  <tbody>\n",
              "    <tr>\n",
              "      <th>0</th>\n",
              "      <td>2</td>\n",
              "      <td>0</td>\n",
              "      <td>12</td>\n",
              "    </tr>\n",
              "    <tr>\n",
              "      <th>1</th>\n",
              "      <td>1</td>\n",
              "      <td>1</td>\n",
              "      <td>15</td>\n",
              "    </tr>\n",
              "    <tr>\n",
              "      <th>2</th>\n",
              "      <td>0</td>\n",
              "      <td>2</td>\n",
              "      <td>22</td>\n",
              "    </tr>\n",
              "  </tbody>\n",
              "</table>\n",
              "</div>"
            ],
            "text/plain": [
              "   Colour  Size  Price\n",
              "0       2     0     12\n",
              "1       1     1     15\n",
              "2       0     2     22"
            ]
          },
          "metadata": {},
          "execution_count": 4
        }
      ]
    },
    {
      "cell_type": "markdown",
      "metadata": {
        "id": "11nQxPdYdNXR"
      },
      "source": [
        "As you can see, the encoding maintained the correspondence we wanted:\n",
        "\n",
        "*   L = 2\n",
        "*   M = 1\n",
        "*   S = 0\n",
        "\n",
        "This correspondence guarantees that the order `L > M > S` is preserved, since `2 > 1 > 0`. \n",
        "\n",
        "**Challenge:** Encode the categorical variables from the following dataset. "
      ]
    },
    {
      "cell_type": "code",
      "metadata": {
        "colab": {
          "base_uri": "https://localhost:8080/",
          "height": 206
        },
        "id": "j2i5RG_ce5SV",
        "outputId": "2ee4c577-eb6e-4772-a2d6-78ed4a47f439"
      },
      "source": [
        "df = pd.DataFrame({'Car':['Honda', 'Toyota', 'Toyota', 'Peugeot', 'Ford'],\n",
        "                   'Year':['2000', '2010', '2009', '2008', '2013'], \n",
        "                   'Price':[17000, 23000, 22000, 20000, 24000]})\n",
        "df"
      ],
      "execution_count": null,
      "outputs": [
        {
          "output_type": "execute_result",
          "data": {
            "text/html": [
              "<div>\n",
              "<style scoped>\n",
              "    .dataframe tbody tr th:only-of-type {\n",
              "        vertical-align: middle;\n",
              "    }\n",
              "\n",
              "    .dataframe tbody tr th {\n",
              "        vertical-align: top;\n",
              "    }\n",
              "\n",
              "    .dataframe thead th {\n",
              "        text-align: right;\n",
              "    }\n",
              "</style>\n",
              "<table border=\"1\" class=\"dataframe\">\n",
              "  <thead>\n",
              "    <tr style=\"text-align: right;\">\n",
              "      <th></th>\n",
              "      <th>Car</th>\n",
              "      <th>Year</th>\n",
              "      <th>Price</th>\n",
              "    </tr>\n",
              "  </thead>\n",
              "  <tbody>\n",
              "    <tr>\n",
              "      <th>0</th>\n",
              "      <td>Honda</td>\n",
              "      <td>2000</td>\n",
              "      <td>17000</td>\n",
              "    </tr>\n",
              "    <tr>\n",
              "      <th>1</th>\n",
              "      <td>Toyota</td>\n",
              "      <td>2010</td>\n",
              "      <td>23000</td>\n",
              "    </tr>\n",
              "    <tr>\n",
              "      <th>2</th>\n",
              "      <td>Toyota</td>\n",
              "      <td>2009</td>\n",
              "      <td>22000</td>\n",
              "    </tr>\n",
              "    <tr>\n",
              "      <th>3</th>\n",
              "      <td>Peugeot</td>\n",
              "      <td>2008</td>\n",
              "      <td>20000</td>\n",
              "    </tr>\n",
              "    <tr>\n",
              "      <th>4</th>\n",
              "      <td>Ford</td>\n",
              "      <td>2013</td>\n",
              "      <td>24000</td>\n",
              "    </tr>\n",
              "  </tbody>\n",
              "</table>\n",
              "</div>"
            ],
            "text/plain": [
              "       Car  Year  Price\n",
              "0    Honda  2000  17000\n",
              "1   Toyota  2010  23000\n",
              "2   Toyota  2009  22000\n",
              "3  Peugeot  2008  20000\n",
              "4     Ford  2013  24000"
            ]
          },
          "metadata": {},
          "execution_count": 5
        }
      ]
    },
    {
      "cell_type": "code",
      "metadata": {
        "id": "Qulhv27ae-SS"
      },
      "source": [
        "# Solution for the challenge"
      ],
      "execution_count": null,
      "outputs": []
    },
    {
      "cell_type": "markdown",
      "metadata": {
        "id": "Vws6kCngfZOn"
      },
      "source": [
        "#### One-hot encoding\n",
        "\n",
        "In the previous chapter, **after encoding the categorical variables**, we ended up with the following correspondences:\n",
        "\n",
        "*   Variable 'Colour'\n",
        "  *   yellow = 0\n",
        "  *   red = 2\n",
        "  *   green = 1\n",
        "*   Variable 'Size'\n",
        "  *   L = 2\n",
        "  *   M = 1\n",
        "  *   S = 0\n",
        "\n",
        "As we indicated, there is an important difference between these two categorical variables: the variable 'Colour' is nominal and the variable 'Size' is ordinal. With this being the case, our encoding system has a **problem**. Although the variable 'Colour' is not ordinal, the algorithm will assume that `red > green > yellow`, just as it assumes that `L > M > S` (according to the integers that represent each of these categories). This situation means that, under certain circumstances, the algorithms do not work correctly.\n",
        "\n",
        "One way around this problem is to use **one-hot encoding**. One-hot encoding involves creating a variable (column) for each existing category, attributing the value 1 or 0 to the observation in that variable, depending on whether or not the observation belongs to the category in question. For example, if a given observation refers to a yellow blouse, one-hot encoding will make it so that this observation will have the properties `yellow = 1`, `red = 0` and `green = 0`.\n",
        "\n",
        "One-hot encoding is applied through the *scikit-learn* library using the `OneHotEncoder` class, just as described in the [official documentation](https://scikit-learn.org/stable/modules/generated/sklearn.preprocessing.OneHotEncoder.html?highlight=one hot encoder#sklearn.preprocessing.OneHotEncoder).\n",
        "\n",
        "However, because it is simpler, let us illustrate how to do one-hot encoding via an alternative route, using the `get_dummies` function from the *pandas* library:\n",
        "\n",
        "\n"
      ]
    },
    {
      "cell_type": "code",
      "metadata": {
        "colab": {
          "base_uri": "https://localhost:8080/",
          "height": 143
        },
        "id": "8RViaGxEiae8",
        "outputId": "e823b92b-3f8f-4fe1-e753-714fe5853619"
      },
      "source": [
        "df = pd.DataFrame({'Colour':['yellow', 'red', 'green'], \n",
        "                   'Price':[12, 15, 22]})\n",
        "df"
      ],
      "execution_count": null,
      "outputs": [
        {
          "output_type": "execute_result",
          "data": {
            "text/html": [
              "<div>\n",
              "<style scoped>\n",
              "    .dataframe tbody tr th:only-of-type {\n",
              "        vertical-align: middle;\n",
              "    }\n",
              "\n",
              "    .dataframe tbody tr th {\n",
              "        vertical-align: top;\n",
              "    }\n",
              "\n",
              "    .dataframe thead th {\n",
              "        text-align: right;\n",
              "    }\n",
              "</style>\n",
              "<table border=\"1\" class=\"dataframe\">\n",
              "  <thead>\n",
              "    <tr style=\"text-align: right;\">\n",
              "      <th></th>\n",
              "      <th>Colour</th>\n",
              "      <th>Price</th>\n",
              "    </tr>\n",
              "  </thead>\n",
              "  <tbody>\n",
              "    <tr>\n",
              "      <th>0</th>\n",
              "      <td>yellow</td>\n",
              "      <td>12</td>\n",
              "    </tr>\n",
              "    <tr>\n",
              "      <th>1</th>\n",
              "      <td>red</td>\n",
              "      <td>15</td>\n",
              "    </tr>\n",
              "    <tr>\n",
              "      <th>2</th>\n",
              "      <td>green</td>\n",
              "      <td>22</td>\n",
              "    </tr>\n",
              "  </tbody>\n",
              "</table>\n",
              "</div>"
            ],
            "text/plain": [
              "   Colour  Price\n",
              "0  yellow     12\n",
              "1     red     15\n",
              "2   green     22"
            ]
          },
          "metadata": {},
          "execution_count": 6
        }
      ]
    },
    {
      "cell_type": "code",
      "metadata": {
        "colab": {
          "base_uri": "https://localhost:8080/",
          "height": 143
        },
        "id": "VazhL5TLihX7",
        "outputId": "4b3ae1c8-97aa-4e39-fe36-c4ec9d8d9433"
      },
      "source": [
        "pd.get_dummies(df)"
      ],
      "execution_count": null,
      "outputs": [
        {
          "output_type": "execute_result",
          "data": {
            "text/html": [
              "<div>\n",
              "<style scoped>\n",
              "    .dataframe tbody tr th:only-of-type {\n",
              "        vertical-align: middle;\n",
              "    }\n",
              "\n",
              "    .dataframe tbody tr th {\n",
              "        vertical-align: top;\n",
              "    }\n",
              "\n",
              "    .dataframe thead th {\n",
              "        text-align: right;\n",
              "    }\n",
              "</style>\n",
              "<table border=\"1\" class=\"dataframe\">\n",
              "  <thead>\n",
              "    <tr style=\"text-align: right;\">\n",
              "      <th></th>\n",
              "      <th>Price</th>\n",
              "      <th>Colour_green</th>\n",
              "      <th>Colour_red</th>\n",
              "      <th>Colour_yellow</th>\n",
              "    </tr>\n",
              "  </thead>\n",
              "  <tbody>\n",
              "    <tr>\n",
              "      <th>0</th>\n",
              "      <td>12</td>\n",
              "      <td>0</td>\n",
              "      <td>0</td>\n",
              "      <td>1</td>\n",
              "    </tr>\n",
              "    <tr>\n",
              "      <th>1</th>\n",
              "      <td>15</td>\n",
              "      <td>0</td>\n",
              "      <td>1</td>\n",
              "      <td>0</td>\n",
              "    </tr>\n",
              "    <tr>\n",
              "      <th>2</th>\n",
              "      <td>22</td>\n",
              "      <td>1</td>\n",
              "      <td>0</td>\n",
              "      <td>0</td>\n",
              "    </tr>\n",
              "  </tbody>\n",
              "</table>\n",
              "</div>"
            ],
            "text/plain": [
              "   Price  Colour_green  Colour_red  Colour_yellow\n",
              "0     12             0           0              1\n",
              "1     15             0           1              0\n",
              "2     22             1           0              0"
            ]
          },
          "metadata": {},
          "execution_count": 7
        }
      ]
    },
    {
      "cell_type": "markdown",
      "metadata": {
        "id": "4QBx2-UCi4iC"
      },
      "source": [
        "As you can see, a column was created for each of the categories in the variable 'Colour' (the only categorical variable in the example we have presented). Therefore, each observation now has the value 1 in the column associated with its colour and the value 0 in the columns associated with the other colours.\n",
        "\n",
        "If we look closely at the dataset, we see that it has **redundant information**: one of the colour columns could be dropped because if there are three colours, two columns are enough to define an observation. For example, if we did not have the variable 'Colour_yellow', all we would need to know is that the observation 0 has a value of 0 in the 'Colour_green' and 'Colour_red' variables in order to deduce that the observation has the colour yellow.\n",
        "\n",
        "In certain situations, this redundancy can impair the functioning of the algorithms. Therefore, we must avoid this problem. To do this, all we have to do is assign the value `True` to the `drop_first` parameter of the `get_dummies` function: "
      ]
    },
    {
      "cell_type": "code",
      "metadata": {
        "colab": {
          "base_uri": "https://localhost:8080/",
          "height": 143
        },
        "id": "hoHI4enfjXY6",
        "outputId": "6375a140-51c3-4cec-b09c-65634a254a36"
      },
      "source": [
        "pd.get_dummies(df, drop_first=True)"
      ],
      "execution_count": null,
      "outputs": [
        {
          "output_type": "execute_result",
          "data": {
            "text/html": [
              "<div>\n",
              "<style scoped>\n",
              "    .dataframe tbody tr th:only-of-type {\n",
              "        vertical-align: middle;\n",
              "    }\n",
              "\n",
              "    .dataframe tbody tr th {\n",
              "        vertical-align: top;\n",
              "    }\n",
              "\n",
              "    .dataframe thead th {\n",
              "        text-align: right;\n",
              "    }\n",
              "</style>\n",
              "<table border=\"1\" class=\"dataframe\">\n",
              "  <thead>\n",
              "    <tr style=\"text-align: right;\">\n",
              "      <th></th>\n",
              "      <th>Price</th>\n",
              "      <th>Colour_red</th>\n",
              "      <th>Colour_yellow</th>\n",
              "    </tr>\n",
              "  </thead>\n",
              "  <tbody>\n",
              "    <tr>\n",
              "      <th>0</th>\n",
              "      <td>12</td>\n",
              "      <td>0</td>\n",
              "      <td>1</td>\n",
              "    </tr>\n",
              "    <tr>\n",
              "      <th>1</th>\n",
              "      <td>15</td>\n",
              "      <td>1</td>\n",
              "      <td>0</td>\n",
              "    </tr>\n",
              "    <tr>\n",
              "      <th>2</th>\n",
              "      <td>22</td>\n",
              "      <td>0</td>\n",
              "      <td>0</td>\n",
              "    </tr>\n",
              "  </tbody>\n",
              "</table>\n",
              "</div>"
            ],
            "text/plain": [
              "   Price  Colour_red  Colour_yellow\n",
              "0     12           0              1\n",
              "1     15           1              0\n",
              "2     22           0              0"
            ]
          },
          "metadata": {},
          "execution_count": 8
        }
      ]
    },
    {
      "cell_type": "markdown",
      "metadata": {
        "id": "cX9KUF9YmMa0"
      },
      "source": [
        "**Challenge:** Apply one-hot encoding to the following dataset. "
      ]
    },
    {
      "cell_type": "code",
      "metadata": {
        "colab": {
          "base_uri": "https://localhost:8080/",
          "height": 175
        },
        "id": "9iPu7A-XmSor",
        "outputId": "7afadc41-1354-444f-8918-fed82982edf8"
      },
      "source": [
        "df = pd.DataFrame({'Car':['Honda', 'Toyota', 'Toyota', 'Peugeot'],\n",
        "                   'Price':[17000, 23000, 22000, 20000]})\n",
        "df"
      ],
      "execution_count": null,
      "outputs": [
        {
          "output_type": "execute_result",
          "data": {
            "text/html": [
              "<div>\n",
              "<style scoped>\n",
              "    .dataframe tbody tr th:only-of-type {\n",
              "        vertical-align: middle;\n",
              "    }\n",
              "\n",
              "    .dataframe tbody tr th {\n",
              "        vertical-align: top;\n",
              "    }\n",
              "\n",
              "    .dataframe thead th {\n",
              "        text-align: right;\n",
              "    }\n",
              "</style>\n",
              "<table border=\"1\" class=\"dataframe\">\n",
              "  <thead>\n",
              "    <tr style=\"text-align: right;\">\n",
              "      <th></th>\n",
              "      <th>Car</th>\n",
              "      <th>Price</th>\n",
              "    </tr>\n",
              "  </thead>\n",
              "  <tbody>\n",
              "    <tr>\n",
              "      <th>0</th>\n",
              "      <td>Honda</td>\n",
              "      <td>17000</td>\n",
              "    </tr>\n",
              "    <tr>\n",
              "      <th>1</th>\n",
              "      <td>Toyota</td>\n",
              "      <td>23000</td>\n",
              "    </tr>\n",
              "    <tr>\n",
              "      <th>2</th>\n",
              "      <td>Toyota</td>\n",
              "      <td>22000</td>\n",
              "    </tr>\n",
              "    <tr>\n",
              "      <th>3</th>\n",
              "      <td>Peugeot</td>\n",
              "      <td>20000</td>\n",
              "    </tr>\n",
              "  </tbody>\n",
              "</table>\n",
              "</div>"
            ],
            "text/plain": [
              "       Car  Price\n",
              "0    Honda  17000\n",
              "1   Toyota  23000\n",
              "2   Toyota  22000\n",
              "3  Peugeot  20000"
            ]
          },
          "metadata": {},
          "execution_count": 9
        }
      ]
    },
    {
      "cell_type": "code",
      "metadata": {
        "id": "onIePNvMmYHg"
      },
      "source": [
        "# Solution for the challenge"
      ],
      "execution_count": null,
      "outputs": []
    },
    {
      "cell_type": "markdown",
      "metadata": {
        "id": "vTBXv0cf_KeL"
      },
      "source": [
        "### Independent and dependent variables\n",
        "\n",
        "All prediction models have **two types of variables**:\n",
        "\n",
        "1.   Independent variables\n",
        "2.   Dependent variables\n",
        "\n",
        "**Independent variables** are the variables we use to predict the dependent variable. This means that independent variables do not depend on other variables. For example, if we want to predict the species of a plant based on the size of its petals, the petal size is an independent variable. In English machine learning terminology, it is customary to see independent variables referred to as `features`, `inputs` or `independent variables`.\n",
        "\n",
        "**Dependent variables** are the variables we intend to predict. The value of these variables depends on the value of the independent variables, and this explains why they are called dependent variables. For example, if we want to predict the tip amount based on the cost of a meal, the tip amount is the dependent variable and the cost of the meal is the independent variable. In English machine learning terminology, it is customary to see dependent variables referred to as `target`, `outputs` or `dependent variables`.\n",
        "\n",
        "Before **running a learning algorithm**, it is essential to define the independent variables and the dependent variable because the algorithm needs this information to work. These variables are usually defined by:\n",
        "\n",
        "*   Creating an `X` variable where observations and their values are stored in independent variables.\n",
        "*   Creating a `y` variable where observations and their values are stored in the dependent variable.\n",
        "\n",
        "To make it easier to understand, let us look at an example. In this example, we will use the `tips` dataset (which we have already come across) and define the following:\n",
        "\n",
        "*   The dependent variable is the variable that stores the tip amounts given ('tip' variable).\n",
        "*   The independent variables are all the other variables ('total_bill', 'sex', 'smoker', 'day', 'time' and 'size' variables).\n",
        "\n",
        "So, we would do the following:"
      ]
    },
    {
      "cell_type": "code",
      "metadata": {
        "id": "azRczjsQN5sS"
      },
      "source": [
        "import seaborn as sns\n",
        "\n",
        "df = sns.load_dataset('tips')\n",
        "\n",
        "X = df.drop('tip', axis=1)\n",
        "y = df['tip']"
      ],
      "execution_count": null,
      "outputs": []
    },
    {
      "cell_type": "markdown",
      "metadata": {
        "id": "BRkxprzDOAIU"
      },
      "source": [
        "In the previous instruction:\n",
        "\n",
        "*   `import seaborn as sns` imports the *seaborn* library, which contains the dataset we want to use. \n",
        "*   `df = sns.load_dataset('tips')` stores the `tips` dataset in the `df` variable. \n",
        "*   `X = df.drop('tip', axis=1)` defines the independent variables. Since we want all of the variables to be independent variables, except for the dependent variable, the easiest way to define the `X` variable is to consider the entire dataset and eliminate the column from the dependent variable.\n",
        "*   `y = df['tip']` defines the dependent variable which, in this case, is the 'tip' variable.\n",
        "\n",
        "Defining the independent and dependent variables is essential in solving supervised learning problems. As such, except in very specific situations, this pre-processing operation is always used.\n",
        "\n",
        "**Challenge**: Using the dataset below, set the flower species as the dependent variable ('species' variable) and the remaining variables as independent."
      ]
    },
    {
      "cell_type": "code",
      "metadata": {
        "colab": {
          "base_uri": "https://localhost:8080/",
          "height": 424
        },
        "id": "_LXDo8LBnu6s",
        "outputId": "ced95f0e-a64a-488a-cc3d-1f91e75ec1ed"
      },
      "source": [
        "df = sns.load_dataset('iris')\n",
        "df"
      ],
      "execution_count": null,
      "outputs": [
        {
          "output_type": "execute_result",
          "data": {
            "text/html": [
              "<div>\n",
              "<style scoped>\n",
              "    .dataframe tbody tr th:only-of-type {\n",
              "        vertical-align: middle;\n",
              "    }\n",
              "\n",
              "    .dataframe tbody tr th {\n",
              "        vertical-align: top;\n",
              "    }\n",
              "\n",
              "    .dataframe thead th {\n",
              "        text-align: right;\n",
              "    }\n",
              "</style>\n",
              "<table border=\"1\" class=\"dataframe\">\n",
              "  <thead>\n",
              "    <tr style=\"text-align: right;\">\n",
              "      <th></th>\n",
              "      <th>sepal_length</th>\n",
              "      <th>sepal_width</th>\n",
              "      <th>petal_length</th>\n",
              "      <th>petal_width</th>\n",
              "      <th>species</th>\n",
              "    </tr>\n",
              "  </thead>\n",
              "  <tbody>\n",
              "    <tr>\n",
              "      <th>0</th>\n",
              "      <td>5.1</td>\n",
              "      <td>3.5</td>\n",
              "      <td>1.4</td>\n",
              "      <td>0.2</td>\n",
              "      <td>setosa</td>\n",
              "    </tr>\n",
              "    <tr>\n",
              "      <th>1</th>\n",
              "      <td>4.9</td>\n",
              "      <td>3.0</td>\n",
              "      <td>1.4</td>\n",
              "      <td>0.2</td>\n",
              "      <td>setosa</td>\n",
              "    </tr>\n",
              "    <tr>\n",
              "      <th>2</th>\n",
              "      <td>4.7</td>\n",
              "      <td>3.2</td>\n",
              "      <td>1.3</td>\n",
              "      <td>0.2</td>\n",
              "      <td>setosa</td>\n",
              "    </tr>\n",
              "    <tr>\n",
              "      <th>3</th>\n",
              "      <td>4.6</td>\n",
              "      <td>3.1</td>\n",
              "      <td>1.5</td>\n",
              "      <td>0.2</td>\n",
              "      <td>setosa</td>\n",
              "    </tr>\n",
              "    <tr>\n",
              "      <th>4</th>\n",
              "      <td>5.0</td>\n",
              "      <td>3.6</td>\n",
              "      <td>1.4</td>\n",
              "      <td>0.2</td>\n",
              "      <td>setosa</td>\n",
              "    </tr>\n",
              "    <tr>\n",
              "      <th>...</th>\n",
              "      <td>...</td>\n",
              "      <td>...</td>\n",
              "      <td>...</td>\n",
              "      <td>...</td>\n",
              "      <td>...</td>\n",
              "    </tr>\n",
              "    <tr>\n",
              "      <th>145</th>\n",
              "      <td>6.7</td>\n",
              "      <td>3.0</td>\n",
              "      <td>5.2</td>\n",
              "      <td>2.3</td>\n",
              "      <td>virginica</td>\n",
              "    </tr>\n",
              "    <tr>\n",
              "      <th>146</th>\n",
              "      <td>6.3</td>\n",
              "      <td>2.5</td>\n",
              "      <td>5.0</td>\n",
              "      <td>1.9</td>\n",
              "      <td>virginica</td>\n",
              "    </tr>\n",
              "    <tr>\n",
              "      <th>147</th>\n",
              "      <td>6.5</td>\n",
              "      <td>3.0</td>\n",
              "      <td>5.2</td>\n",
              "      <td>2.0</td>\n",
              "      <td>virginica</td>\n",
              "    </tr>\n",
              "    <tr>\n",
              "      <th>148</th>\n",
              "      <td>6.2</td>\n",
              "      <td>3.4</td>\n",
              "      <td>5.4</td>\n",
              "      <td>2.3</td>\n",
              "      <td>virginica</td>\n",
              "    </tr>\n",
              "    <tr>\n",
              "      <th>149</th>\n",
              "      <td>5.9</td>\n",
              "      <td>3.0</td>\n",
              "      <td>5.1</td>\n",
              "      <td>1.8</td>\n",
              "      <td>virginica</td>\n",
              "    </tr>\n",
              "  </tbody>\n",
              "</table>\n",
              "<p>150 rows × 5 columns</p>\n",
              "</div>"
            ],
            "text/plain": [
              "     sepal_length  sepal_width  petal_length  petal_width    species\n",
              "0             5.1          3.5           1.4          0.2     setosa\n",
              "1             4.9          3.0           1.4          0.2     setosa\n",
              "2             4.7          3.2           1.3          0.2     setosa\n",
              "3             4.6          3.1           1.5          0.2     setosa\n",
              "4             5.0          3.6           1.4          0.2     setosa\n",
              "..            ...          ...           ...          ...        ...\n",
              "145           6.7          3.0           5.2          2.3  virginica\n",
              "146           6.3          2.5           5.0          1.9  virginica\n",
              "147           6.5          3.0           5.2          2.0  virginica\n",
              "148           6.2          3.4           5.4          2.3  virginica\n",
              "149           5.9          3.0           5.1          1.8  virginica\n",
              "\n",
              "[150 rows x 5 columns]"
            ]
          },
          "metadata": {},
          "execution_count": 11
        }
      ]
    },
    {
      "cell_type": "code",
      "metadata": {
        "id": "wRHt1r17nwSl"
      },
      "source": [
        "# Solution for the challenge"
      ],
      "execution_count": null,
      "outputs": []
    },
    {
      "cell_type": "markdown",
      "metadata": {
        "id": "RM5zGmcan2N7"
      },
      "source": [
        "### Training and Test Datasets\n",
        "\n",
        "When using machine learning to build a prediction model, the aim is for the computer to be able to learn to make predictions based on past observations. This learning process, based on past observations, is commonly called **'model training'**.\n",
        "\n",
        "It is during the training process that we seek to extract the patterns that allow us to make **generalisations** and apply prediction models to new situations (different from those described in past observations). This point is particularly important because prediction models are only useful if their application in new contexts is possible and successful.\n",
        "\n",
        "That said, there are two aspects that need to be guaranteed when training models: \n",
        "\n",
        "*   **Training.** Ensure that we use past observations to train the prediction model. \n",
        "*   **Test.** Ensure that we test the application of the model in new situations.\n",
        "\n",
        "To guarantee these aspects, the dataset is typically split and we end up working with:\n",
        "\n",
        "*   **Training dataset.** A subdivision of the original dataset that will be used to train the model. \n",
        "*   **Test dataset.** A subdivision of the original dataset that will be used to test the model (evaluate its performance in new situations).\n",
        "\n",
        "The *scikit-learn* library allows us to do this division using the `train_test_split()` function: "
      ]
    },
    {
      "cell_type": "code",
      "metadata": {
        "id": "poD09ljdtS9E"
      },
      "source": [
        "from sklearn.model_selection import train_test_split\n",
        "\n",
        "X_train, X_test, y_train, y_test = train_test_split(X, y, random_state=42)"
      ],
      "execution_count": null,
      "outputs": []
    },
    {
      "cell_type": "markdown",
      "metadata": {
        "id": "4Xm_MQf6tfSq"
      },
      "source": [
        "In the previous instruction:\n",
        "\n",
        "*   `from sklearn.model_selection import train_test_split` performs the typical import from the *scikit-learn* library.\n",
        "  *   `sklearn.model_selection` refers to the module where the `train_test_split()` function is located.\n",
        "  *   `train_test_split` refers to the function of the `sklearn.model_selection` module we want to use.\n",
        "*   `X_train, X_test, y_train, y_test = train_test_split(X, y, random_state=42)` creates four variables `(X_train, X_test, y_train and y_test)` from the original dataset (`X` and `y`).\n",
        "  *   `X_train` and `X_test` contain the independent variables' training and test data, respectively.\n",
        "  *   `y_train` and `y_test` contain the dependent variable's training and test data, respectively. \n",
        "  *   `train_test_split()` is the function that splits the original dataset into test and training datasets. \n",
        "  *   `X` and `y` represent the original dataset, previously divided into independent and dependent variables.\n",
        "  *   `random_state=42` ensures that the division of the dataset, although random, is always done in the same way (different numbers generate different random divisions). The number 42 was used, but any other number could have been used.\n",
        "\n",
        "Once we have the original dataset divided into training and test datasets, we can then move on to applying machine learning algorithms. \n",
        "\n",
        "**Challenge:** Divide the dataset [found here](https://raw.githubusercontent.com/pmarcelino/datasets/master/titanic.csv) into training and test datasets. Assume that the variable 'Survived' is the dependent variable and that all other variables are independent variables.\n",
        "\n",
        "\n"
      ]
    },
    {
      "cell_type": "code",
      "metadata": {
        "id": "m2fir2sA1Fe2"
      },
      "source": [
        "# Solution for the challenge"
      ],
      "execution_count": null,
      "outputs": []
    },
    {
      "cell_type": "markdown",
      "metadata": {
        "id": "25DErk2d1LZh"
      },
      "source": [
        "## Model training with machine learning\n",
        "\n",
        "After performing the pre-processing operations, we are able to **apply the machine learning algorithms** to build our prediction model.\n",
        "\n",
        "There are **several machine learning algorithms** that can be used. Most of these algorithms are available in the *scikit-learn* library, as can be seen in the [official documentation](https://scikit-learn.org/stable/supervised_learning.html#supervised-learning). Discussion of the different types of algorithms is beyond the scope of this course.\n",
        "\n",
        "At this point, what is important to remember regarding the application of machine learning algorithms to train models is that: \n",
        "\n",
        "*   Regardless of the algorithm used, the **way it is applied is identical** in most cases. \n",
        "*   In general, there is a **version** of the algorithm for **classification** problems and another version for **regression** problems. "
      ]
    },
    {
      "cell_type": "markdown",
      "metadata": {
        "id": "_nuiRqtdIH_D"
      },
      "source": [
        "### Algorithm application\n",
        "\n",
        "The application of algorithms is almost always done in the same way, regardless of which algorithm we are using. Let us therefore analyse an example to identify this structure, starting with importing and pre-processing the `iris` dataset:"
      ]
    },
    {
      "cell_type": "code",
      "metadata": {
        "id": "P_fA7FDwDymP"
      },
      "source": [
        "from sklearn.model_selection import train_test_split\n",
        "\n",
        "df = sns.load_dataset('iris')\n",
        "\n",
        "X = df.drop('species', axis=1)\n",
        "y = df['species']\n",
        "\n",
        "X_train, X_test, y_train, y_test = train_test_split(X, y, random_state=42)"
      ],
      "execution_count": null,
      "outputs": []
    },
    {
      "cell_type": "markdown",
      "metadata": {
        "id": "WREWN0f1Fkju"
      },
      "source": [
        "In the previous instruction:\n",
        "\n",
        "*   `df = sns.load_dataset('iris')` stores the `iris` dataset in the `df` variable. This dataset characterises flower species according to their physical characteristics.\n",
        "*   `X = df.drop('species', axis=1)` store the observations in the `X` variable and their values in the independent variables. In this case, all the variables are considered to be independent, with the exception of the `species` variable.  \n",
        "*   `y = df['species']` stores the dependent variable in the `y` variable. In this case, the `species` variable is considered to be the dependent variable, which identifies the flower species.\n",
        "*   `X_train, X_test, y_train, y_test = train_test_split(X, y, random_state=42)` separates the dataset into training and test datasets. The `X_train`, `X_test`, `y_train` and `y_test` variables store this information. \n",
        "\n",
        "Note that since we are already familiar with this dataset, we know that it is not necessary to perform any more preprocessing operations. However, in any other case, it would be necessary to analyse the dataset to determine the need for any more pre-processing operations.\n",
        "\n",
        "Applying the algorithm now:\n"
      ]
    },
    {
      "cell_type": "code",
      "metadata": {
        "colab": {
          "base_uri": "https://localhost:8080/"
        },
        "id": "YD_PSXUMN0rp",
        "outputId": "7c21f266-4f5e-4aea-8d87-5c5dab0936ac"
      },
      "source": [
        "from sklearn.ensemble import RandomForestClassifier\n",
        "\n",
        "model = RandomForestClassifier(random_state=42)\n",
        "model.fit(X_train, y_train)"
      ],
      "execution_count": null,
      "outputs": [
        {
          "output_type": "execute_result",
          "data": {
            "text/plain": [
              "RandomForestClassifier(bootstrap=True, ccp_alpha=0.0, class_weight=None,\n",
              "                       criterion='gini', max_depth=None, max_features='auto',\n",
              "                       max_leaf_nodes=None, max_samples=None,\n",
              "                       min_impurity_decrease=0.0, min_impurity_split=None,\n",
              "                       min_samples_leaf=1, min_samples_split=2,\n",
              "                       min_weight_fraction_leaf=0.0, n_estimators=100,\n",
              "                       n_jobs=None, oob_score=False, random_state=42, verbose=0,\n",
              "                       warm_start=False)"
            ]
          },
          "metadata": {},
          "execution_count": 14
        }
      ]
    },
    {
      "cell_type": "markdown",
      "metadata": {
        "id": "95cpv76dOQ53"
      },
      "source": [
        "In the previous instruction:\n",
        "\n",
        "*   `from sklearn.ensemble import RandomForestClassifier` imports the algorithm we are going to use in this example (*Random Forest* algorithm).\n",
        "  *   `sklearn.ensemble` is the module where the `RandomForestClassifier` class is located.\n",
        "  *   `RandomForestClassifier` is the class where the *Random Forest* algorithm is programmed.\n",
        "*   `model = RandomForestClassifier(random_state=42)` creates the model using the `RandomForestClassifier` class.\n",
        "  *   `random_state=42` ensures that the algorithm is always applied in the same way and produces the same results (the *Random Forest* algorithm has a random part, so we have to define the `random_state` parameter if we want the results to be reproducible). The number 42 was used, but any other number could have been used. \n",
        "*   `model.fit(X_train, y_train)` trains the model using the data from the training set (defined by `X_train` and `y_train`). \n",
        "\n",
        "Once the algorithm is imported, its application for the purpose of model training is done using the lines of code `model = RandomForestClassifier()` and `model.fit(X_train, y_train)`. This procedure is valid for most algorithms used, the only thing that changes is the algorithm itself. This means that if we want to use another algorithm, we have to replace the `RandomForestClassifier` (which refers to the *Random Forest* algorithm) with whatever corresponds to the algorithm we want to use. \n",
        "\n",
        "To conclude, it is important to highlight one particular aspect when using a dataset such as the `iris` dataset. In this case, when we look at the dependent variable, we see that it is categorical (it can have the value `setosa`, `versicolor`, or `virginica`). As such, the question arises: is it necessary to encode the variable 'species'?\n",
        "\n",
        "The answer is 'no' because *scikit-learn* allows you to use categorical variables as dependent variables (ie, there is no need to transform the dependent variable into a numerical one). However, if we were to encode the 'species' variable in pre-processing, it would not be a problem either. \n",
        "\n",
        "**Challenge**: Use the following dataset to train a model using the *Random Forest* algorithm. The dependent variable is the 'kind' variable and all the others are independent variables. During your solution, you should consider the need for a training dataset and a test dataset."
      ]
    },
    {
      "cell_type": "code",
      "metadata": {
        "colab": {
          "base_uri": "https://localhost:8080/",
          "height": 424
        },
        "id": "rnSLAVYiT8k_",
        "outputId": "c65742d3-df9a-4797-e70e-94b44f22a5eb"
      },
      "source": [
        "df = sns.load_dataset('geyser')\n",
        "df"
      ],
      "execution_count": null,
      "outputs": [
        {
          "output_type": "execute_result",
          "data": {
            "text/html": [
              "<div>\n",
              "<style scoped>\n",
              "    .dataframe tbody tr th:only-of-type {\n",
              "        vertical-align: middle;\n",
              "    }\n",
              "\n",
              "    .dataframe tbody tr th {\n",
              "        vertical-align: top;\n",
              "    }\n",
              "\n",
              "    .dataframe thead th {\n",
              "        text-align: right;\n",
              "    }\n",
              "</style>\n",
              "<table border=\"1\" class=\"dataframe\">\n",
              "  <thead>\n",
              "    <tr style=\"text-align: right;\">\n",
              "      <th></th>\n",
              "      <th>duration</th>\n",
              "      <th>waiting</th>\n",
              "      <th>kind</th>\n",
              "    </tr>\n",
              "  </thead>\n",
              "  <tbody>\n",
              "    <tr>\n",
              "      <th>0</th>\n",
              "      <td>3.600</td>\n",
              "      <td>79</td>\n",
              "      <td>long</td>\n",
              "    </tr>\n",
              "    <tr>\n",
              "      <th>1</th>\n",
              "      <td>1.800</td>\n",
              "      <td>54</td>\n",
              "      <td>short</td>\n",
              "    </tr>\n",
              "    <tr>\n",
              "      <th>2</th>\n",
              "      <td>3.333</td>\n",
              "      <td>74</td>\n",
              "      <td>long</td>\n",
              "    </tr>\n",
              "    <tr>\n",
              "      <th>3</th>\n",
              "      <td>2.283</td>\n",
              "      <td>62</td>\n",
              "      <td>short</td>\n",
              "    </tr>\n",
              "    <tr>\n",
              "      <th>4</th>\n",
              "      <td>4.533</td>\n",
              "      <td>85</td>\n",
              "      <td>long</td>\n",
              "    </tr>\n",
              "    <tr>\n",
              "      <th>...</th>\n",
              "      <td>...</td>\n",
              "      <td>...</td>\n",
              "      <td>...</td>\n",
              "    </tr>\n",
              "    <tr>\n",
              "      <th>267</th>\n",
              "      <td>4.117</td>\n",
              "      <td>81</td>\n",
              "      <td>long</td>\n",
              "    </tr>\n",
              "    <tr>\n",
              "      <th>268</th>\n",
              "      <td>2.150</td>\n",
              "      <td>46</td>\n",
              "      <td>short</td>\n",
              "    </tr>\n",
              "    <tr>\n",
              "      <th>269</th>\n",
              "      <td>4.417</td>\n",
              "      <td>90</td>\n",
              "      <td>long</td>\n",
              "    </tr>\n",
              "    <tr>\n",
              "      <th>270</th>\n",
              "      <td>1.817</td>\n",
              "      <td>46</td>\n",
              "      <td>short</td>\n",
              "    </tr>\n",
              "    <tr>\n",
              "      <th>271</th>\n",
              "      <td>4.467</td>\n",
              "      <td>74</td>\n",
              "      <td>long</td>\n",
              "    </tr>\n",
              "  </tbody>\n",
              "</table>\n",
              "<p>272 rows × 3 columns</p>\n",
              "</div>"
            ],
            "text/plain": [
              "     duration  waiting   kind\n",
              "0       3.600       79   long\n",
              "1       1.800       54  short\n",
              "2       3.333       74   long\n",
              "3       2.283       62  short\n",
              "4       4.533       85   long\n",
              "..        ...      ...    ...\n",
              "267     4.117       81   long\n",
              "268     2.150       46  short\n",
              "269     4.417       90   long\n",
              "270     1.817       46  short\n",
              "271     4.467       74   long\n",
              "\n",
              "[272 rows x 3 columns]"
            ]
          },
          "metadata": {},
          "execution_count": 15
        }
      ]
    },
    {
      "cell_type": "code",
      "metadata": {
        "id": "g8r2LY5Zxn2d"
      },
      "source": [
        "# Solution for the challenge"
      ],
      "execution_count": null,
      "outputs": []
    },
    {
      "cell_type": "markdown",
      "metadata": {
        "id": "CTAzNeN6yKvU"
      },
      "source": [
        "### Classification and regression problems\n",
        "\n",
        "Algorithms can be applied to **classification problems** and **regression problems**.\n",
        "\n",
        "**Classification problems** are problems where the dependent variable is a categorical variable. For example, if we want to predict which species a penguin belongs to, based on its physical characteristics, we are faced with a classification problem.\n",
        "\n",
        "In turn, **regression problems** are problems where the dependent variable is a numerical variable. For example, if we want to predict the size of a penguin's flippers, based on a specific information, we are faced with a regression problem. \n",
        "\n",
        "In the *scikit-learn* library, the **application of algorithms for classification and regression problems is identical**. The only difference is in the name of the class that will be used. For example, the version of the *Random Forest* algorithm for classification problems is programmed in the `RandomForestClassifier` class of the *scikit-learn* library. In turn, the version of the *Random Forest* algorithm for regression problems is programmed in the `RandomForestRegressor` class of the *scikit-learn* library.\n",
        "\n",
        "Two examples are presented (one for classification and one for regression) that show how the entire process is identical, with the exception of the classes used:"
      ]
    },
    {
      "cell_type": "code",
      "metadata": {
        "colab": {
          "base_uri": "https://localhost:8080/"
        },
        "id": "YAjdFr-IOJnx",
        "outputId": "8fc85b19-27a6-4f7d-8134-7b4ed9f276c5"
      },
      "source": [
        "# Classification problem\n",
        "import seaborn as sns\n",
        "from sklearn.model_selection import train_test_split\n",
        "from sklearn.ensemble import RandomForestClassifier\n",
        "\n",
        "df = sns.load_dataset('iris')\n",
        "\n",
        "X = df[['sepal_length', 'sepal_width','petal_length','petal_width']]\n",
        "y = df['species']\n",
        "\n",
        "X_train, X_test, y_train, y_test = train_test_split(X, y, random_state=42)\n",
        "\n",
        "model = RandomForestClassifier(random_state=42)\n",
        "model.fit(X_train, y_train)"
      ],
      "execution_count": null,
      "outputs": [
        {
          "output_type": "execute_result",
          "data": {
            "text/plain": [
              "RandomForestClassifier(bootstrap=True, ccp_alpha=0.0, class_weight=None,\n",
              "                       criterion='gini', max_depth=None, max_features='auto',\n",
              "                       max_leaf_nodes=None, max_samples=None,\n",
              "                       min_impurity_decrease=0.0, min_impurity_split=None,\n",
              "                       min_samples_leaf=1, min_samples_split=2,\n",
              "                       min_weight_fraction_leaf=0.0, n_estimators=100,\n",
              "                       n_jobs=None, oob_score=False, random_state=42, verbose=0,\n",
              "                       warm_start=False)"
            ]
          },
          "metadata": {},
          "execution_count": 16
        }
      ]
    },
    {
      "cell_type": "code",
      "metadata": {
        "colab": {
          "base_uri": "https://localhost:8080/"
        },
        "id": "34k4CbzhOPmd",
        "outputId": "c74f6efd-4d1d-4c18-ad3a-cddcc15a0c65"
      },
      "source": [
        "# Regression problem\n",
        "import seaborn as sns\n",
        "from sklearn.model_selection import train_test_split\n",
        "from sklearn.ensemble import RandomForestRegressor\n",
        "\n",
        "df = sns.load_dataset('tips')\n",
        "\n",
        "X = df[['total_bill', 'size']]\n",
        "y = df['tip']\n",
        "\n",
        "X_train, X_test, y_train, y_test = train_test_split(X, y, random_state=42)\n",
        "\n",
        "model = RandomForestRegressor(random_state=42)\n",
        "model.fit(X_train, y_train)"
      ],
      "execution_count": null,
      "outputs": [
        {
          "output_type": "execute_result",
          "data": {
            "text/plain": [
              "RandomForestRegressor(bootstrap=True, ccp_alpha=0.0, criterion='mse',\n",
              "                      max_depth=None, max_features='auto', max_leaf_nodes=None,\n",
              "                      max_samples=None, min_impurity_decrease=0.0,\n",
              "                      min_impurity_split=None, min_samples_leaf=1,\n",
              "                      min_samples_split=2, min_weight_fraction_leaf=0.0,\n",
              "                      n_estimators=100, n_jobs=None, oob_score=False,\n",
              "                      random_state=42, verbose=0, warm_start=False)"
            ]
          },
          "metadata": {},
          "execution_count": 17
        }
      ]
    },
    {
      "cell_type": "markdown",
      "metadata": {
        "id": "wOf-06NXOZf6"
      },
      "source": [
        "As we can see, the entire structure of the solution is identical, except that in the classification problem we use `RandomForestClassifier` and in the regression problem we use `RandomForestRegressor`. \n",
        "\n",
        "Furthermore, it is also worth noting that we chose to define the independent variables one by one (instead of using the `drop` function). This is an alternative way of defining the `X` variable and it is particularly useful when we want to be specific in defining the independent variables we want to include in our prediction model.\n",
        "\n",
        "**Challenge**: Use the following dataset to train a model with the *Random Forest* algorithm. The dependent variable is the `price` variable and let us assume that the independent variables are only `depth`, `table`, `x`, `y` and `z`. During your solution, you should consider the need for a training dataset and a test dataset. Finally, be aware that this problem is a regression problem. "
      ]
    },
    {
      "cell_type": "code",
      "metadata": {
        "colab": {
          "base_uri": "https://localhost:8080/",
          "height": 424
        },
        "id": "j6vMUSoWQMu_",
        "outputId": "1cfcd6e8-d65b-47d8-b711-e6e260831693"
      },
      "source": [
        "df = sns.load_dataset('diamonds')\n",
        "df"
      ],
      "execution_count": null,
      "outputs": [
        {
          "output_type": "execute_result",
          "data": {
            "text/html": [
              "<div>\n",
              "<style scoped>\n",
              "    .dataframe tbody tr th:only-of-type {\n",
              "        vertical-align: middle;\n",
              "    }\n",
              "\n",
              "    .dataframe tbody tr th {\n",
              "        vertical-align: top;\n",
              "    }\n",
              "\n",
              "    .dataframe thead th {\n",
              "        text-align: right;\n",
              "    }\n",
              "</style>\n",
              "<table border=\"1\" class=\"dataframe\">\n",
              "  <thead>\n",
              "    <tr style=\"text-align: right;\">\n",
              "      <th></th>\n",
              "      <th>carat</th>\n",
              "      <th>cut</th>\n",
              "      <th>color</th>\n",
              "      <th>clarity</th>\n",
              "      <th>depth</th>\n",
              "      <th>table</th>\n",
              "      <th>price</th>\n",
              "      <th>x</th>\n",
              "      <th>y</th>\n",
              "      <th>z</th>\n",
              "    </tr>\n",
              "  </thead>\n",
              "  <tbody>\n",
              "    <tr>\n",
              "      <th>0</th>\n",
              "      <td>0.23</td>\n",
              "      <td>Ideal</td>\n",
              "      <td>E</td>\n",
              "      <td>SI2</td>\n",
              "      <td>61.5</td>\n",
              "      <td>55.0</td>\n",
              "      <td>326</td>\n",
              "      <td>3.95</td>\n",
              "      <td>3.98</td>\n",
              "      <td>2.43</td>\n",
              "    </tr>\n",
              "    <tr>\n",
              "      <th>1</th>\n",
              "      <td>0.21</td>\n",
              "      <td>Premium</td>\n",
              "      <td>E</td>\n",
              "      <td>SI1</td>\n",
              "      <td>59.8</td>\n",
              "      <td>61.0</td>\n",
              "      <td>326</td>\n",
              "      <td>3.89</td>\n",
              "      <td>3.84</td>\n",
              "      <td>2.31</td>\n",
              "    </tr>\n",
              "    <tr>\n",
              "      <th>2</th>\n",
              "      <td>0.23</td>\n",
              "      <td>Good</td>\n",
              "      <td>E</td>\n",
              "      <td>VS1</td>\n",
              "      <td>56.9</td>\n",
              "      <td>65.0</td>\n",
              "      <td>327</td>\n",
              "      <td>4.05</td>\n",
              "      <td>4.07</td>\n",
              "      <td>2.31</td>\n",
              "    </tr>\n",
              "    <tr>\n",
              "      <th>3</th>\n",
              "      <td>0.29</td>\n",
              "      <td>Premium</td>\n",
              "      <td>I</td>\n",
              "      <td>VS2</td>\n",
              "      <td>62.4</td>\n",
              "      <td>58.0</td>\n",
              "      <td>334</td>\n",
              "      <td>4.20</td>\n",
              "      <td>4.23</td>\n",
              "      <td>2.63</td>\n",
              "    </tr>\n",
              "    <tr>\n",
              "      <th>4</th>\n",
              "      <td>0.31</td>\n",
              "      <td>Good</td>\n",
              "      <td>J</td>\n",
              "      <td>SI2</td>\n",
              "      <td>63.3</td>\n",
              "      <td>58.0</td>\n",
              "      <td>335</td>\n",
              "      <td>4.34</td>\n",
              "      <td>4.35</td>\n",
              "      <td>2.75</td>\n",
              "    </tr>\n",
              "    <tr>\n",
              "      <th>...</th>\n",
              "      <td>...</td>\n",
              "      <td>...</td>\n",
              "      <td>...</td>\n",
              "      <td>...</td>\n",
              "      <td>...</td>\n",
              "      <td>...</td>\n",
              "      <td>...</td>\n",
              "      <td>...</td>\n",
              "      <td>...</td>\n",
              "      <td>...</td>\n",
              "    </tr>\n",
              "    <tr>\n",
              "      <th>53935</th>\n",
              "      <td>0.72</td>\n",
              "      <td>Ideal</td>\n",
              "      <td>D</td>\n",
              "      <td>SI1</td>\n",
              "      <td>60.8</td>\n",
              "      <td>57.0</td>\n",
              "      <td>2757</td>\n",
              "      <td>5.75</td>\n",
              "      <td>5.76</td>\n",
              "      <td>3.50</td>\n",
              "    </tr>\n",
              "    <tr>\n",
              "      <th>53936</th>\n",
              "      <td>0.72</td>\n",
              "      <td>Good</td>\n",
              "      <td>D</td>\n",
              "      <td>SI1</td>\n",
              "      <td>63.1</td>\n",
              "      <td>55.0</td>\n",
              "      <td>2757</td>\n",
              "      <td>5.69</td>\n",
              "      <td>5.75</td>\n",
              "      <td>3.61</td>\n",
              "    </tr>\n",
              "    <tr>\n",
              "      <th>53937</th>\n",
              "      <td>0.70</td>\n",
              "      <td>Very Good</td>\n",
              "      <td>D</td>\n",
              "      <td>SI1</td>\n",
              "      <td>62.8</td>\n",
              "      <td>60.0</td>\n",
              "      <td>2757</td>\n",
              "      <td>5.66</td>\n",
              "      <td>5.68</td>\n",
              "      <td>3.56</td>\n",
              "    </tr>\n",
              "    <tr>\n",
              "      <th>53938</th>\n",
              "      <td>0.86</td>\n",
              "      <td>Premium</td>\n",
              "      <td>H</td>\n",
              "      <td>SI2</td>\n",
              "      <td>61.0</td>\n",
              "      <td>58.0</td>\n",
              "      <td>2757</td>\n",
              "      <td>6.15</td>\n",
              "      <td>6.12</td>\n",
              "      <td>3.74</td>\n",
              "    </tr>\n",
              "    <tr>\n",
              "      <th>53939</th>\n",
              "      <td>0.75</td>\n",
              "      <td>Ideal</td>\n",
              "      <td>D</td>\n",
              "      <td>SI2</td>\n",
              "      <td>62.2</td>\n",
              "      <td>55.0</td>\n",
              "      <td>2757</td>\n",
              "      <td>5.83</td>\n",
              "      <td>5.87</td>\n",
              "      <td>3.64</td>\n",
              "    </tr>\n",
              "  </tbody>\n",
              "</table>\n",
              "<p>53940 rows × 10 columns</p>\n",
              "</div>"
            ],
            "text/plain": [
              "       carat        cut color clarity  depth  table  price     x     y     z\n",
              "0       0.23      Ideal     E     SI2   61.5   55.0    326  3.95  3.98  2.43\n",
              "1       0.21    Premium     E     SI1   59.8   61.0    326  3.89  3.84  2.31\n",
              "2       0.23       Good     E     VS1   56.9   65.0    327  4.05  4.07  2.31\n",
              "3       0.29    Premium     I     VS2   62.4   58.0    334  4.20  4.23  2.63\n",
              "4       0.31       Good     J     SI2   63.3   58.0    335  4.34  4.35  2.75\n",
              "...      ...        ...   ...     ...    ...    ...    ...   ...   ...   ...\n",
              "53935   0.72      Ideal     D     SI1   60.8   57.0   2757  5.75  5.76  3.50\n",
              "53936   0.72       Good     D     SI1   63.1   55.0   2757  5.69  5.75  3.61\n",
              "53937   0.70  Very Good     D     SI1   62.8   60.0   2757  5.66  5.68  3.56\n",
              "53938   0.86    Premium     H     SI2   61.0   58.0   2757  6.15  6.12  3.74\n",
              "53939   0.75      Ideal     D     SI2   62.2   55.0   2757  5.83  5.87  3.64\n",
              "\n",
              "[53940 rows x 10 columns]"
            ]
          },
          "metadata": {},
          "execution_count": 18
        }
      ]
    },
    {
      "cell_type": "code",
      "metadata": {
        "id": "OaeH9mHaQTtM"
      },
      "source": [
        "# Solution for the challenge"
      ],
      "execution_count": null,
      "outputs": []
    },
    {
      "cell_type": "markdown",
      "metadata": {
        "id": "khjjcHjFRgF-"
      },
      "source": [
        "## Summary\n",
        "\n",
        "In this tutorial, we saw:\n",
        "\n",
        "*   ***Scikit-learn* library**. The *scikit-learn* library has a set of features related to the application of machine learning algorithms. \n",
        "*   **Pre-processing**. Before using learning algorithms, it is necessary to ensure that the data is prepared for their application. Therefore, it is common to perform pre-processing operations such as encoding categorical variables, defining independent and dependent variables, and separating the dataset into a training dataset and a test dataset. \n",
        "*   **Model training with machine learning**. Model training follows a standard structure. The aspects that differ are related to the definition of the algorithm we want to use (in this course, we always use the *Random Forest* algorithm) and whether we intend to use the version for classification problems (in the case of *Random Forest* this would mean using the `RandomForestClassifier` class) or for regression problems (in the case of *Random Forest* this would mean using the `RandomForestRegressor` class).\n",
        "\n",
        "This tutorial presented various instructions and you are not expected to know them by heart. Above all, the purpose of this tutorial is to illustrate the **potential of the *scikit-learn* library** and to **serve as a document for future reference**. Later, with practice, you will begin to retain the instructions that you use most often and the logic behind each instruction will become more intuitive. "
      ]
    }
  ]
}