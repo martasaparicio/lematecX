{
  "nbformat": 4,
  "nbformat_minor": 0,
  "metadata": {
    "colab": {
      "name": "Data_Exploration_Cookbook.ipynb",
      "provenance": [],
      "collapsed_sections": [],
      "toc_visible": true,
      "include_colab_link": true
    },
    "kernelspec": {
      "name": "python3",
      "display_name": "Python 3"
    }
  },
  "cells": [
    {
      "cell_type": "markdown",
      "metadata": {
        "id": "view-in-github",
        "colab_type": "text"
      },
      "source": [
        "<a href=\"https://colab.research.google.com/github/martasaparicio/lematecX/blob/main/2.3-Data_Exploration_Cookbook.ipynb\" target=\"_parent\"><img src=\"https://colab.research.google.com/assets/colab-badge.svg\" alt=\"Open In Colab\"/></a>"
      ]
    },
    {
      "cell_type": "markdown",
      "metadata": {
        "id": "Ac03UHailbhB"
      },
      "source": [
        "# Cookbook\n",
        "\n",
        "## Data exploration\n",
        "\n",
        "Data exploration is used in machine learning to help us understand the data and problem at hand so that we can model it. As such, data exploration is an important step in the application of machine learning algorithms.\n",
        "\n",
        "In this cookbook, we'll look at a set of common data exploration techniques. Most of the illustrated techniques use the [seaborn](http://seaborn.pydata.org/) library."
      ]
    },
    {
      "cell_type": "markdown",
      "metadata": {
        "id": "Rkkn0ri98H12"
      },
      "source": [
        "## Preamble"
      ]
    },
    {
      "cell_type": "markdown",
      "metadata": {
        "id": "zCZQfmVEYpj3"
      },
      "source": [
        "To visualize data, you have to... have data. To do this, let's create an artificial dataset that can be used in the various problems in this cookbook."
      ]
    },
    {
      "cell_type": "code",
      "metadata": {
        "id": "vqJEr3Sx8GIk"
      },
      "source": [
        "# Import libraries\n",
        "import matplotlib.pyplot as plt\n",
        "import seaborn as sns\n",
        "import pandas as pd\n",
        "import numpy as np\n",
        "import random"
      ],
      "execution_count": null,
      "outputs": []
    },
    {
      "cell_type": "code",
      "metadata": {
        "id": "_dfgpkBKCC_A",
        "colab": {
          "base_uri": "https://localhost:8080/",
          "height": 614
        },
        "outputId": "1e9e8d2e-fa1f-49b6-af08-8286c9ba5c21"
      },
      "source": [
        "# Create Data\n",
        "df = pd.DataFrame()\n",
        "\n",
        "df['x'] = np.linspace(0,500,18)\n",
        "df['y'] = random.sample(range(1000, 5000), 18)\n",
        "df['z'] = [1,0,0,1,1,1,1,0,1,1,0,0,0,1,1,1,1,1]\n",
        "df['k'] = ['a','b','c','d','e',\n",
        "           'f','g','h','i','j',\n",
        "           'k','l','m','n','o','p',\n",
        "           'q','r']\n",
        "df['q'] = df['y'] * random.random()*2\n",
        "\n",
        "df"
      ],
      "execution_count": null,
      "outputs": [
        {
          "output_type": "execute_result",
          "data": {
            "text/html": [
              "<div>\n",
              "<style scoped>\n",
              "    .dataframe tbody tr th:only-of-type {\n",
              "        vertical-align: middle;\n",
              "    }\n",
              "\n",
              "    .dataframe tbody tr th {\n",
              "        vertical-align: top;\n",
              "    }\n",
              "\n",
              "    .dataframe thead th {\n",
              "        text-align: right;\n",
              "    }\n",
              "</style>\n",
              "<table border=\"1\" class=\"dataframe\">\n",
              "  <thead>\n",
              "    <tr style=\"text-align: right;\">\n",
              "      <th></th>\n",
              "      <th>x</th>\n",
              "      <th>y</th>\n",
              "      <th>z</th>\n",
              "      <th>k</th>\n",
              "      <th>q</th>\n",
              "    </tr>\n",
              "  </thead>\n",
              "  <tbody>\n",
              "    <tr>\n",
              "      <th>0</th>\n",
              "      <td>0.000000</td>\n",
              "      <td>4436</td>\n",
              "      <td>1</td>\n",
              "      <td>a</td>\n",
              "      <td>1324.127483</td>\n",
              "    </tr>\n",
              "    <tr>\n",
              "      <th>1</th>\n",
              "      <td>29.411765</td>\n",
              "      <td>2807</td>\n",
              "      <td>0</td>\n",
              "      <td>b</td>\n",
              "      <td>837.877783</td>\n",
              "    </tr>\n",
              "    <tr>\n",
              "      <th>2</th>\n",
              "      <td>58.823529</td>\n",
              "      <td>1394</td>\n",
              "      <td>0</td>\n",
              "      <td>c</td>\n",
              "      <td>416.103181</td>\n",
              "    </tr>\n",
              "    <tr>\n",
              "      <th>3</th>\n",
              "      <td>88.235294</td>\n",
              "      <td>1416</td>\n",
              "      <td>1</td>\n",
              "      <td>d</td>\n",
              "      <td>422.670089</td>\n",
              "    </tr>\n",
              "    <tr>\n",
              "      <th>4</th>\n",
              "      <td>117.647059</td>\n",
              "      <td>4202</td>\n",
              "      <td>1</td>\n",
              "      <td>e</td>\n",
              "      <td>1254.279460</td>\n",
              "    </tr>\n",
              "    <tr>\n",
              "      <th>5</th>\n",
              "      <td>147.058824</td>\n",
              "      <td>1808</td>\n",
              "      <td>1</td>\n",
              "      <td>f</td>\n",
              "      <td>539.680453</td>\n",
              "    </tr>\n",
              "    <tr>\n",
              "      <th>6</th>\n",
              "      <td>176.470588</td>\n",
              "      <td>4468</td>\n",
              "      <td>1</td>\n",
              "      <td>g</td>\n",
              "      <td>1333.679349</td>\n",
              "    </tr>\n",
              "    <tr>\n",
              "      <th>7</th>\n",
              "      <td>205.882353</td>\n",
              "      <td>1525</td>\n",
              "      <td>0</td>\n",
              "      <td>h</td>\n",
              "      <td>455.206134</td>\n",
              "    </tr>\n",
              "    <tr>\n",
              "      <th>8</th>\n",
              "      <td>235.294118</td>\n",
              "      <td>1842</td>\n",
              "      <td>1</td>\n",
              "      <td>i</td>\n",
              "      <td>549.829311</td>\n",
              "    </tr>\n",
              "    <tr>\n",
              "      <th>9</th>\n",
              "      <td>264.705882</td>\n",
              "      <td>1668</td>\n",
              "      <td>1</td>\n",
              "      <td>j</td>\n",
              "      <td>497.891037</td>\n",
              "    </tr>\n",
              "    <tr>\n",
              "      <th>10</th>\n",
              "      <td>294.117647</td>\n",
              "      <td>4364</td>\n",
              "      <td>0</td>\n",
              "      <td>k</td>\n",
              "      <td>1302.635783</td>\n",
              "    </tr>\n",
              "    <tr>\n",
              "      <th>11</th>\n",
              "      <td>323.529412</td>\n",
              "      <td>4726</td>\n",
              "      <td>0</td>\n",
              "      <td>l</td>\n",
              "      <td>1410.691272</td>\n",
              "    </tr>\n",
              "    <tr>\n",
              "      <th>12</th>\n",
              "      <td>352.941176</td>\n",
              "      <td>4744</td>\n",
              "      <td>0</td>\n",
              "      <td>m</td>\n",
              "      <td>1416.064197</td>\n",
              "    </tr>\n",
              "    <tr>\n",
              "      <th>13</th>\n",
              "      <td>382.352941</td>\n",
              "      <td>3585</td>\n",
              "      <td>1</td>\n",
              "      <td>n</td>\n",
              "      <td>1070.107535</td>\n",
              "    </tr>\n",
              "    <tr>\n",
              "      <th>14</th>\n",
              "      <td>411.764706</td>\n",
              "      <td>4858</td>\n",
              "      <td>1</td>\n",
              "      <td>o</td>\n",
              "      <td>1450.092721</td>\n",
              "    </tr>\n",
              "    <tr>\n",
              "      <th>15</th>\n",
              "      <td>441.176471</td>\n",
              "      <td>1298</td>\n",
              "      <td>1</td>\n",
              "      <td>p</td>\n",
              "      <td>387.447582</td>\n",
              "    </tr>\n",
              "    <tr>\n",
              "      <th>16</th>\n",
              "      <td>470.588235</td>\n",
              "      <td>3811</td>\n",
              "      <td>1</td>\n",
              "      <td>q</td>\n",
              "      <td>1137.567592</td>\n",
              "    </tr>\n",
              "    <tr>\n",
              "      <th>17</th>\n",
              "      <td>500.000000</td>\n",
              "      <td>4395</td>\n",
              "      <td>1</td>\n",
              "      <td>r</td>\n",
              "      <td>1311.889154</td>\n",
              "    </tr>\n",
              "  </tbody>\n",
              "</table>\n",
              "</div>"
            ],
            "text/plain": [
              "             x     y  z  k            q\n",
              "0     0.000000  4436  1  a  1324.127483\n",
              "1    29.411765  2807  0  b   837.877783\n",
              "2    58.823529  1394  0  c   416.103181\n",
              "3    88.235294  1416  1  d   422.670089\n",
              "4   117.647059  4202  1  e  1254.279460\n",
              "5   147.058824  1808  1  f   539.680453\n",
              "6   176.470588  4468  1  g  1333.679349\n",
              "7   205.882353  1525  0  h   455.206134\n",
              "8   235.294118  1842  1  i   549.829311\n",
              "9   264.705882  1668  1  j   497.891037\n",
              "10  294.117647  4364  0  k  1302.635783\n",
              "11  323.529412  4726  0  l  1410.691272\n",
              "12  352.941176  4744  0  m  1416.064197\n",
              "13  382.352941  3585  1  n  1070.107535\n",
              "14  411.764706  4858  1  o  1450.092721\n",
              "15  441.176471  1298  1  p   387.447582\n",
              "16  470.588235  3811  1  q  1137.567592\n",
              "17  500.000000  4395  1  r  1311.889154"
            ]
          },
          "metadata": {},
          "execution_count": 2
        }
      ]
    },
    {
      "cell_type": "markdown",
      "metadata": {
        "id": "zA2b9Vte7cd5"
      },
      "source": [
        "## Problem 1\n",
        "\n",
        "Plot a line graph that relates the variable `x` to the variable `y`."
      ]
    },
    {
      "cell_type": "markdown",
      "metadata": {
        "id": "nK4OYUEsdFrY"
      },
      "source": [
        "### Solution"
      ]
    },
    {
      "cell_type": "code",
      "metadata": {
        "id": "qUtzKNHWFZ0L",
        "colab": {
          "base_uri": "https://localhost:8080/",
          "height": 299
        },
        "outputId": "601bf837-49b3-4483-89e7-d577c953dda0"
      },
      "source": [
        "# Create line graph\n",
        "sns.lineplot(x='x', y='y', data=df)"
      ],
      "execution_count": null,
      "outputs": [
        {
          "output_type": "execute_result",
          "data": {
            "text/plain": [
              "<matplotlib.axes._subplots.AxesSubplot at 0x7f8401c272d0>"
            ]
          },
          "metadata": {},
          "execution_count": 3
        },
        {
          "output_type": "display_data",
          "data": {
            "image/png": "[encoded data removed]",
            "text/plain": [
              "<Figure size 432x288 with 1 Axes>"
            ]
          },
          "metadata": {
            "needs_background": "light"
          }
        }
      ]
    },
    {
      "cell_type": "markdown",
      "metadata": {
        "id": "SHIq3I7ObgYx"
      },
      "source": [
        "## Problem 2\n",
        "\n",
        "Plot a bar graph that has the variable `k` on the x-axis and the variable `y` on the y-axis."
      ]
    },
    {
      "cell_type": "markdown",
      "metadata": {
        "id": "q7CPozDydRX3"
      },
      "source": [
        "### Solution"
      ]
    },
    {
      "cell_type": "code",
      "metadata": {
        "id": "UOLoPiyBIAbu",
        "colab": {
          "base_uri": "https://localhost:8080/",
          "height": 297
        },
        "outputId": "aeafdeee-40e4-4471-bfa2-b2afc61e624e"
      },
      "source": [
        "# Plot bar graph\n",
        "sns.barplot(x='k', y='y', data=df)"
      ],
      "execution_count": null,
      "outputs": [
        {
          "output_type": "execute_result",
          "data": {
            "text/plain": [
              "<matplotlib.axes._subplots.AxesSubplot at 0x7f8401275710>"
            ]
          },
          "metadata": {},
          "execution_count": 6
        },
        {
          "output_type": "display_data",
          "data": {
            "image/png": "[encoded data removed]",
            "text/plain": [
              "<Figure size 432x288 with 1 Axes>"
            ]
          },
          "metadata": {
            "needs_background": "light"
          }
        }
      ]
    },
    {
      "cell_type": "markdown",
      "metadata": {
        "id": "nS69r-gIJNk0"
      },
      "source": [
        "## Problem 3\n",
        "\n",
        "Plot the histogram of variable `q`."
      ]
    },
    {
      "cell_type": "markdown",
      "metadata": {
        "id": "sIT0YiuFdazx"
      },
      "source": [
        "### Solution"
      ]
    },
    {
      "cell_type": "code",
      "metadata": {
        "id": "kvnCCVnhJeT9",
        "colab": {
          "base_uri": "https://localhost:8080/",
          "height": 354
        },
        "outputId": "51e37110-bb9d-41e2-ae97-6299844fc9ab"
      },
      "source": [
        "# Plot histogram\n",
        "sns.distplot(df['q'], kde=False)"
      ],
      "execution_count": null,
      "outputs": [
        {
          "output_type": "stream",
          "name": "stderr",
          "text": [
            "/usr/local/lib/python3.7/dist-packages/seaborn/distributions.py:2619: FutureWarning: `distplot` is a deprecated function and will be removed in a future version. Please adapt your code to use either `displot` (a figure-level function with similar flexibility) or `histplot` (an axes-level function for histograms).\n",
            "  warnings.warn(msg, FutureWarning)\n"
          ]
        },
        {
          "output_type": "execute_result",
          "data": {
            "text/plain": [
              "<matplotlib.axes._subplots.AxesSubplot at 0x7f840115cf50>"
            ]
          },
          "metadata": {},
          "execution_count": 7
        },
        {
          "output_type": "display_data",
          "data": {
            "image/png": "[encoded data removed]",
            "text/plain": [
              "<Figure size 432x288 with 1 Axes>"
            ]
          },
          "metadata": {
            "needs_background": "light"
          }
        }
      ]
    },
    {
      "cell_type": "markdown",
      "metadata": {
        "id": "HMOruYzQQmXN"
      },
      "source": [
        "## Problem 4\n",
        "\n",
        "Draw a boxplot of the `y` variable."
      ]
    },
    {
      "cell_type": "markdown",
      "metadata": {
        "id": "F7yPflxMddyW"
      },
      "source": [
        "### Solution"
      ]
    },
    {
      "cell_type": "code",
      "metadata": {
        "id": "EHc1YgtRJluY",
        "colab": {
          "base_uri": "https://localhost:8080/",
          "height": 354
        },
        "outputId": "74344083-9d1f-4266-8cfd-8c806061217f"
      },
      "source": [
        "# Draw boxplot\n",
        "sns.boxplot(df['y'])"
      ],
      "execution_count": null,
      "outputs": [
        {
          "output_type": "stream",
          "name": "stderr",
          "text": [
            "/usr/local/lib/python3.7/dist-packages/seaborn/_decorators.py:43: FutureWarning: Pass the following variable as a keyword arg: x. From version 0.12, the only valid positional argument will be `data`, and passing other arguments without an explicit keyword will result in an error or misinterpretation.\n",
            "  FutureWarning\n"
          ]
        },
        {
          "output_type": "execute_result",
          "data": {
            "text/plain": [
              "<matplotlib.axes._subplots.AxesSubplot at 0x7f84010ca0d0>"
            ]
          },
          "metadata": {},
          "execution_count": 8
        },
        {
          "output_type": "display_data",
          "data": {
            "image/png": "[encoded data removed]",
            "text/plain": [
              "<Figure size 432x288 with 1 Axes>"
            ]
          },
          "metadata": {
            "needs_background": "light"
          }
        }
      ]
    },
    {
      "cell_type": "markdown",
      "metadata": {
        "id": "GQvG0Lc2Sa_T"
      },
      "source": [
        "## Problem 5\n",
        "\n",
        "Plot a scatter plot that relates the variable `x` and the variable `y`."
      ]
    },
    {
      "cell_type": "markdown",
      "metadata": {
        "id": "6AOvLR7wdgxV"
      },
      "source": [
        "### Solution"
      ]
    },
    {
      "cell_type": "code",
      "metadata": {
        "id": "GdeacBmGSnHd",
        "colab": {
          "base_uri": "https://localhost:8080/",
          "height": 299
        },
        "outputId": "553c0f39-9ce0-43c8-d786-894c41ced5c7"
      },
      "source": [
        "# Plot scatter plot\n",
        "sns.scatterplot(x='x', y='y', data=df)"
      ],
      "execution_count": null,
      "outputs": [
        {
          "output_type": "execute_result",
          "data": {
            "text/plain": [
              "<matplotlib.axes._subplots.AxesSubplot at 0x7f840103db10>"
            ]
          },
          "metadata": {},
          "execution_count": 11
        },
        {
          "output_type": "display_data",
          "data": {
            "image/png": "[encoded data removed]",
            "text/plain": [
              "<Figure size 432x288 with 1 Axes>"
            ]
          },
          "metadata": {
            "needs_background": "light"
          }
        }
      ]
    },
    {
      "cell_type": "markdown",
      "metadata": {
        "id": "ZOKvXNibS23Z"
      },
      "source": [
        "## Problem 6\n",
        "\n",
        "Plot a set of scatter plots that relate all variables to each other."
      ]
    },
    {
      "cell_type": "markdown",
      "metadata": {
        "id": "_4lfT0ridlNG"
      },
      "source": [
        "### Solution"
      ]
    },
    {
      "cell_type": "code",
      "metadata": {
        "id": "_TKBuKc5TxQL",
        "colab": {
          "base_uri": "https://localhost:8080/",
          "height": 744
        },
        "outputId": "e7921410-67b9-4637-affc-16a5125fe578"
      },
      "source": [
        "# Plot a set of scatter plots\n",
        "sns.pairplot(df)"
      ],
      "execution_count": null,
      "outputs": [
        {
          "output_type": "execute_result",
          "data": {
            "text/plain": [
              "<seaborn.axisgrid.PairGrid at 0x7f8400f268d0>"
            ]
          },
          "metadata": {},
          "execution_count": 12
        },
        {
          "output_type": "display_data",
          "data": {
            "image/png": "[encoded data removed]",
            "text/plain": [
              "<Figure size 720x720 with 20 Axes>"
            ]
          },
          "metadata": {
            "needs_background": "light"
          }
        }
      ]
    },
    {
      "cell_type": "markdown",
      "metadata": {
        "id": "ErJyGdSyUdhw"
      },
      "source": [
        "## Problem 7\n",
        "\n",
        "Draw a heat map of correlations."
      ]
    },
    {
      "cell_type": "markdown",
      "metadata": {
        "id": "2RdL00bXdn-q"
      },
      "source": [
        "### Solution"
      ]
    },
    {
      "cell_type": "code",
      "metadata": {
        "id": "xlLK8Nf8UkbK",
        "colab": {
          "base_uri": "https://localhost:8080/",
          "height": 287
        },
        "outputId": "5c5af157-af29-4b69-fecc-661c17dc799e"
      },
      "source": [
        "# Solution with the Seaborn library\n",
        "sns.heatmap(df.corr(), vmin=-1, vmax=1)"
      ],
      "execution_count": null,
      "outputs": [
        {
          "output_type": "execute_result",
          "data": {
            "text/plain": [
              "<matplotlib.axes._subplots.AxesSubplot at 0x7f83f80101d0>"
            ]
          },
          "metadata": {},
          "execution_count": 13
        },
        {
          "output_type": "display_data",
          "data": {
            "image/png": "[encoded data removed]",
            "text/plain": [
              "<Figure size 432x288 with 2 Axes>"
            ]
          },
          "metadata": {
            "needs_background": "light"
          }
        }
      ]
    },
    {
      "cell_type": "markdown",
      "metadata": {
        "id": "DyQ7T57LdqAm"
      },
      "source": [
        "## Problem 8\n",
        "\n",
        "Detect errors and anomalies."
      ]
    },
    {
      "cell_type": "markdown",
      "metadata": {
        "id": "Y5Z_FYGvfAsB"
      },
      "source": [
        "### Solution"
      ]
    },
    {
      "cell_type": "code",
      "metadata": {
        "id": "mjn3oLW8dr7s",
        "colab": {
          "base_uri": "https://localhost:8080/",
          "height": 300
        },
        "outputId": "34699b55-fbb1-442b-833a-f23e85223c4c"
      },
      "source": [
        "# Import new data\n",
        "url = 'https://raw.githubusercontent.com/pmarcelino/datasets/master/prog-book.csv'\n",
        "df = pd.read_csv(url)\n",
        "\n",
        "# Summarize the statistical dataset\n",
        "df.describe()"
      ],
      "execution_count": null,
      "outputs": [
        {
          "output_type": "execute_result",
          "data": {
            "text/html": [
              "<div>\n",
              "<style scoped>\n",
              "    .dataframe tbody tr th:only-of-type {\n",
              "        vertical-align: middle;\n",
              "    }\n",
              "\n",
              "    .dataframe tbody tr th {\n",
              "        vertical-align: top;\n",
              "    }\n",
              "\n",
              "    .dataframe thead th {\n",
              "        text-align: right;\n",
              "    }\n",
              "</style>\n",
              "<table border=\"1\" class=\"dataframe\">\n",
              "  <thead>\n",
              "    <tr style=\"text-align: right;\">\n",
              "      <th></th>\n",
              "      <th>Rating</th>\n",
              "      <th>Reviews</th>\n",
              "      <th>Number_Of_Pages</th>\n",
              "      <th>Price</th>\n",
              "    </tr>\n",
              "  </thead>\n",
              "  <tbody>\n",
              "    <tr>\n",
              "      <th>count</th>\n",
              "      <td>271.000000</td>\n",
              "      <td>271.000000</td>\n",
              "      <td>271.000000</td>\n",
              "      <td>2.710000e+02</td>\n",
              "    </tr>\n",
              "    <tr>\n",
              "      <th>mean</th>\n",
              "      <td>4.067417</td>\n",
              "      <td>184.376384</td>\n",
              "      <td>475.077491</td>\n",
              "      <td>4.105491e+04</td>\n",
              "    </tr>\n",
              "    <tr>\n",
              "      <th>std</th>\n",
              "      <td>0.290749</td>\n",
              "      <td>552.519159</td>\n",
              "      <td>306.147492</td>\n",
              "      <td>6.749490e+05</td>\n",
              "    </tr>\n",
              "    <tr>\n",
              "      <th>min</th>\n",
              "      <td>3.000000</td>\n",
              "      <td>-160.000000</td>\n",
              "      <td>50.000000</td>\n",
              "      <td>9.323529e+00</td>\n",
              "    </tr>\n",
              "    <tr>\n",
              "      <th>25%</th>\n",
              "      <td>3.915000</td>\n",
              "      <td>5.000000</td>\n",
              "      <td>289.000000</td>\n",
              "      <td>3.101618e+01</td>\n",
              "    </tr>\n",
              "    <tr>\n",
              "      <th>50%</th>\n",
              "      <td>4.100000</td>\n",
              "      <td>34.000000</td>\n",
              "      <td>384.000000</td>\n",
              "      <td>4.631765e+01</td>\n",
              "    </tr>\n",
              "    <tr>\n",
              "      <th>75%</th>\n",
              "      <td>4.250000</td>\n",
              "      <td>116.000000</td>\n",
              "      <td>572.500000</td>\n",
              "      <td>6.859559e+01</td>\n",
              "    </tr>\n",
              "    <tr>\n",
              "      <th>max</th>\n",
              "      <td>5.000000</td>\n",
              "      <td>5938.000000</td>\n",
              "      <td>3168.000000</td>\n",
              "      <td>1.111112e+07</td>\n",
              "    </tr>\n",
              "  </tbody>\n",
              "</table>\n",
              "</div>"
            ],
            "text/plain": [
              "           Rating      Reviews  Number_Of_Pages         Price\n",
              "count  271.000000   271.000000       271.000000  2.710000e+02\n",
              "mean     4.067417   184.376384       475.077491  4.105491e+04\n",
              "std      0.290749   552.519159       306.147492  6.749490e+05\n",
              "min      3.000000  -160.000000        50.000000  9.323529e+00\n",
              "25%      3.915000     5.000000       289.000000  3.101618e+01\n",
              "50%      4.100000    34.000000       384.000000  4.631765e+01\n",
              "75%      4.250000   116.000000       572.500000  6.859559e+01\n",
              "max      5.000000  5938.000000      3168.000000  1.111112e+07"
            ]
          },
          "metadata": {},
          "execution_count": 14
        }
      ]
    },
    {
      "cell_type": "markdown",
      "metadata": {
        "id": "sthqq4_Plilz"
      },
      "source": [
        "### Comments\n",
        "\n",
        "The dataset presented above has information regarding programming books for sale on a generic website. The data indicates the score, number of revisions, the number of pages of the book and its price.\n",
        "\n",
        "As we can see, there are two values that do not make sense:\n",
        "\n",
        "* **'Reviews'**. It has -160 as a minimum value, which doesn't make sense because we can't have a negative number of reviews.\n",
        "* **'Price'**. It has a max price of 1.111112e+07 dollars - which is approximately 11 million dollars - as a max value. It's hard to believe that a programming book, for sale on a generic website, could be so expensive."
      ]
    },
    {
      "cell_type": "markdown",
      "metadata": {
        "id": "I27-0LiefLT7"
      },
      "source": [
        "## Problem 9\n",
        "\n",
        "Fix errors and anomalies. "
      ]
    },
    {
      "cell_type": "markdown",
      "metadata": {
        "id": "cJa9lF29fOXR"
      },
      "source": [
        "### Solution"
      ]
    },
    {
      "cell_type": "code",
      "metadata": {
        "id": "5rWFdn3VfDPj"
      },
      "source": [
        "df.drop(df[df['Reviews']==-160].index, inplace=True)\n",
        "df.drop(df[df['Price']==df['Price'].max()].index, inplace=True)"
      ],
      "execution_count": null,
      "outputs": []
    },
    {
      "cell_type": "markdown",
      "metadata": {
        "id": "jP6QUBL0nQ4Z"
      },
      "source": [
        "### Comments\n",
        "\n",
        "To resolve the detected errors, just delete the observations in question. In the case of 'Reviews', the number was easy to write so we put the number directly. However, for 'Price' the number was more difficult to write, which led us to use the `max()` method. In general, it is recommended to use `min()` and `max()` because these ensure that we are not mistaken in defining the observation to be deleted.\n",
        "\n",
        "Since we are only seeing extreme values (minimum and maximum), in practice it would be necessary to recheck the statistical summary of the dataset to ensure that there are no more obvious errors or anomalies."
      ]
    }
  ]
}