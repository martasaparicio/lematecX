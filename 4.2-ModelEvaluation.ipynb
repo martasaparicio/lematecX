{
  "nbformat": 4,
  "nbformat_minor": 0,
  "metadata": {
    "colab": {
      "name": "ModelEvaluation.ipynb",
      "provenance": [],
      "collapsed_sections": [],
      "toc_visible": true,
      "include_colab_link": true
    },
    "kernelspec": {
      "name": "python3",
      "display_name": "Python 3"
    },
    "language_info": {
      "name": "python"
    }
  },
  "cells": [
    {
      "cell_type": "markdown",
      "metadata": {
        "id": "view-in-github",
        "colab_type": "text"
      },
      "source": [
        "<a href=\"https://colab.research.google.com/github/martasaparicio/lematecX/blob/main/4.2-ModelEvaluation.ipynb\" target=\"_parent\"><img src=\"https://colab.research.google.com/assets/colab-badge.svg\" alt=\"Open In Colab\"/></a>"
      ]
    },
    {
      "cell_type": "markdown",
      "metadata": {
        "id": "9na_WXkJerk2"
      },
      "source": [
        "#Model Evaluation"
      ]
    },
    {
      "cell_type": "markdown",
      "metadata": {
        "id": "7y5YyGBLu4Qb"
      },
      "source": [
        "## Introduction\n",
        "\n",
        "Many of the applications of supervised learning are geared towards making **predictions**. These predictions may be different in nature but, in general, they seek to anticipate what will happen through pattern recognition.\n",
        "\n",
        "Therefore, the fourth step in solving problems with machine learning is to understand how good the prediction models are. For this, it is necessary to **evaluate the performance of the models**, to determine whether they have any practical use.\n",
        "\n",
        "We can draw an **analogy** between evaluating the performance of models and what we do when studying for a test. When we are studying for a test, we try to solve exercises similar to those that will appear on the test in order to understand whether or not we are prepared. In machine learning it is the same: before we can say that a model is good, we have to test and evaluate it. \n",
        "\n",
        "In this tutorial, we will introduce you to some aspects of model evaluation:\n",
        "\n",
        "*   **Evaluation metrics**. There are several metrics that can be used to assess machine learning models. \n",
        "*   **Cross-validation**. These techniques allow us to get a better estimate of the predictive capacity of the models.\n",
        "\n",
        "The tutorial has several **examples** that demonstrate how code is applied and its effects. In addition, during the tutorial you will encounter various challenges to check whether you understand the material. At the end, all of the content presented will be summarised. \n",
        "\n",
        "Note that this is an **introductory-level** tutorial and for this reason, several important aspects are not covered. For more information, we recommend that you consult the [scikit-learn library official documentation](https://scikit-learn.org/stable/) and read the books used as references for this chapter: \n",
        "\n",
        "*   Müller, A.C. e Guido, S., 2016. *Introduction to Machine Learning with Python: A Guide for Data Scientists*. O'Reilly Media, Inc.\n",
        "*   Raschka, S. e Mirjalili, V., 2019. *Python Machine Learning: Machine Learning and Deep Learning with Python, scikit-learn, and TensorFlow*. Packt Publishing Ltd."
      ]
    },
    {
      "cell_type": "markdown",
      "metadata": {
        "id": "ycTaKtX39a5p"
      },
      "source": [
        "##Evaluation metrics\n",
        "\n",
        "In previous tutorials and solved exercises, we evaluated the performance of machine learning models using two metrics:\n",
        "\n",
        "*   **Success rate**, whenever we were faced with classification problems.\n",
        "*   **Coefficient of determination**, whenever we were faced with regression problems.\n",
        "\n",
        "However, there are **other metrics** to assess the performance of models.\n",
        "\n",
        "Choosing an evaluation metric to determine a model's performance **depends on the problem we are solving**. For example, if we are developing a model to detect serious illnesses, it is preferable to identify all patients with a serious illness, even if this means making some incorrect predictions (and thereby reducing the success rate). Any other solution could lead to a person who is ill not receiving the necessary treatment (which could have serious consequences). Therefore, we can see that there are situations where, given the nature of the problem, the success rate is not the best evaluation metric for performance.\n",
        "\n",
        "In this chapter, we will present some alternative performance evaluation metrics for **classification** and **regression** problems. "
      ]
    },
    {
      "cell_type": "markdown",
      "metadata": {
        "id": "FZl0YBbx9uHK"
      },
      "source": [
        "### Classification\n",
        "\n",
        "To make the concepts easier to understand, we will analyse performance evaluation metrics by considering **two-class classification problems** (binary classification). In this type of problem, it is common to use the terms ‘positive’ and ‘negative’ to describe the two existing classes. For example, if the problem is to predict which students will pass at the end of the year, we say that a student is classified as 'positive' if the model predicts that they will pass. Conversely, a student is classified as 'negative' if the model predicts that they will fail at the end of year. \n",
        "\n",
        "When we address two-class classification problems, there are **four possible scenarios**:\n",
        "\n",
        "*   **True positives (TP)**. The model says something is positive and its prediction is correct.\n",
        "*   **True negatives (TN)**. The model says something is negative and its prediction is correct.\n",
        "*   **False positives (FP)**. The model says something is positive and its prediction is incorrect.\n",
        "*   **False negatives (FN)**. The model says something is negative and its prediction is incorrect.\n",
        "\n",
        "The following table describes each of these scenarios, applying them to the case of students who will pass the year."
      ]
    },
    {
      "cell_type": "code",
      "metadata": {
        "colab": {
          "base_uri": "https://localhost:8080/",
          "height": 175
        },
        "id": "AfnHfpvzBZO3",
        "outputId": "43378ea6-da31-4030-f2f6-5fa362ebc756"
      },
      "source": [
        "# Generate the table\n",
        "import pandas as pd\n",
        "\n",
        "scenarios = pd.DataFrame({'Name': ['True positives (TP)',\n",
        "                                   'True negatives (TN)',\n",
        "                                   'False positives (FP)',\n",
        "                                   'False negatives (FN)'],\n",
        "                        'Description': ['The model says something is positive and its prediction is correct.',\n",
        "                                      'The model says something is negative and its prediction is correct.',\n",
        "                                      'The model says something is positive and its prediction is incorrect.',\n",
        "                                      'The model says something is negative and its prediction is incorrect.'],\n",
        "                        'Example': ['The model predicts that the student will pass and they pass.',\n",
        "                                    'The model predicts that the student will fail and they fail.',\n",
        "                                    'The model predicts that the student will pass but they fail.',\n",
        "                                    'The model predicts that the student will fail but they pass.']})\n",
        "scenarios"
      ],
      "execution_count": null,
      "outputs": [
        {
          "output_type": "execute_result",
          "data": {
            "text/html": [
              "<div>\n",
              "<style scoped>\n",
              "    .dataframe tbody tr th:only-of-type {\n",
              "        vertical-align: middle;\n",
              "    }\n",
              "\n",
              "    .dataframe tbody tr th {\n",
              "        vertical-align: top;\n",
              "    }\n",
              "\n",
              "    .dataframe thead th {\n",
              "        text-align: right;\n",
              "    }\n",
              "</style>\n",
              "<table border=\"1\" class=\"dataframe\">\n",
              "  <thead>\n",
              "    <tr style=\"text-align: right;\">\n",
              "      <th></th>\n",
              "      <th>Name</th>\n",
              "      <th>Description</th>\n",
              "      <th>Example</th>\n",
              "    </tr>\n",
              "  </thead>\n",
              "  <tbody>\n",
              "    <tr>\n",
              "      <th>0</th>\n",
              "      <td>True positives (TP)</td>\n",
              "      <td>The model says something is positive and its p...</td>\n",
              "      <td>The model predicts that the student will pass ...</td>\n",
              "    </tr>\n",
              "    <tr>\n",
              "      <th>1</th>\n",
              "      <td>True negatives (TN)</td>\n",
              "      <td>The model says something is negative and its p...</td>\n",
              "      <td>The model predicts that the student will fail ...</td>\n",
              "    </tr>\n",
              "    <tr>\n",
              "      <th>2</th>\n",
              "      <td>False positives (FP)</td>\n",
              "      <td>The model says something is positive and its p...</td>\n",
              "      <td>The model predicts that the student will pass ...</td>\n",
              "    </tr>\n",
              "    <tr>\n",
              "      <th>3</th>\n",
              "      <td>False negatives (FN)</td>\n",
              "      <td>The model says something is negative and its p...</td>\n",
              "      <td>The model predicts that the student will fail ...</td>\n",
              "    </tr>\n",
              "  </tbody>\n",
              "</table>\n",
              "</div>"
            ],
            "text/plain": [
              "                   Name  ...                                            Example\n",
              "0   True positives (TP)  ...  The model predicts that the student will pass ...\n",
              "1   True negatives (TN)  ...  The model predicts that the student will fail ...\n",
              "2  False positives (FP)  ...  The model predicts that the student will pass ...\n",
              "3  False negatives (FN)  ...  The model predicts that the student will fail ...\n",
              "\n",
              "[4 rows x 3 columns]"
            ]
          },
          "metadata": {},
          "execution_count": 14
        }
      ]
    },
    {
      "cell_type": "markdown",
      "metadata": {
        "id": "_hZl0-ioDvl_"
      },
      "source": [
        "It is common to represent these scenarios in a matrix which we call a **confusion matrix**. A generic confusion matrix is presented in the next figure:\n",
        "\n",
        "<center><img src=\"https://github.com/pmarcelino/images/blob/master/mat-confusao-generica.png?raw=true\" width=\"300\">\n",
        "\n",
        "This matrix must be filled with the number of observations that exist in each scenario. For example, let us imagine a situation where we have: \n",
        "\n",
        "*   10 observations TN.\n",
        "*   20 observations FP.\n",
        "*   15 observations FN.\n",
        "*   12 observations TP. \n",
        "\n",
        "In this case, the confusion matrix would look like the following:\n",
        "\n",
        "<center><img src=\"https://github.com/pmarcelino/images/blob/master/mat-confusao-numerica.png?raw=true\" width=\"300\">\n",
        "\n",
        "In this matrix, the **main diagonal** (TN and TP) tells us how many times the model made correct predictions, while the **remaining cells** (FP and FN) tell us how many times the model made incorrect predictions.\n",
        "\n",
        "To **illustrate how a confusion matrix is created** in *scikit-learn*, we will use the `diabetes` dataset. The problem we intend to solve using this dataset, which contains patient clinical information (e.g., blood pressure), is to predict whether or not a patient has diabetes. The example follows the standard process for building machine learning models and at the end shows how a confusion matrix is created. "
      ]
    },
    {
      "cell_type": "code",
      "metadata": {
        "id": "FcOviNR1Ii3E"
      },
      "source": [
        "# Import libraries\n",
        "import pandas as pd\n",
        "\n",
        "from sklearn.model_selection import train_test_split\n",
        "from sklearn.ensemble import RandomForestClassifier\n",
        "from sklearn.metrics import confusion_matrix"
      ],
      "execution_count": null,
      "outputs": []
    },
    {
      "cell_type": "code",
      "metadata": {
        "id": "qyaapBqKInAQ"
      },
      "source": [
        "# Import data\n",
        "url = 'https://raw.githubusercontent.com/pmarcelino/datasets/master/diabetes.csv'\n",
        "df = pd.read_csv(url)"
      ],
      "execution_count": null,
      "outputs": []
    },
    {
      "cell_type": "code",
      "metadata": {
        "id": "81qhsLcfIrxO"
      },
      "source": [
        "# Define independent and dependent variables\n",
        "X = df.drop('Outcome', axis=1)\n",
        "y = df['Outcome']"
      ],
      "execution_count": null,
      "outputs": []
    },
    {
      "cell_type": "code",
      "metadata": {
        "id": "gZpzYbgwIxFp"
      },
      "source": [
        "# Split the data into training and test datasets\n",
        "X_train, X_test, y_train, y_test = train_test_split(X, y, random_state=42)"
      ],
      "execution_count": null,
      "outputs": []
    },
    {
      "cell_type": "code",
      "metadata": {
        "id": "qMyPGVz3JCD4"
      },
      "source": [
        "# Define the algorithm of the model\n",
        "model = RandomForestClassifier(random_state=42)"
      ],
      "execution_count": null,
      "outputs": []
    },
    {
      "cell_type": "code",
      "metadata": {
        "colab": {
          "base_uri": "https://localhost:8080/"
        },
        "id": "y-gHnQCGJH62",
        "outputId": "ca78bf88-0422-42e8-ada3-f9a8c922f9b4"
      },
      "source": [
        "# Train the model\n",
        "model.fit(X_train, y_train)"
      ],
      "execution_count": null,
      "outputs": [
        {
          "output_type": "execute_result",
          "data": {
            "text/plain": [
              "RandomForestClassifier(bootstrap=True, ccp_alpha=0.0, class_weight=None,\n",
              "                       criterion='gini', max_depth=None, max_features='auto',\n",
              "                       max_leaf_nodes=None, max_samples=None,\n",
              "                       min_impurity_decrease=0.0, min_impurity_split=None,\n",
              "                       min_samples_leaf=1, min_samples_split=2,\n",
              "                       min_weight_fraction_leaf=0.0, n_estimators=100,\n",
              "                       n_jobs=None, oob_score=False, random_state=42, verbose=0,\n",
              "                       warm_start=False)"
            ]
          },
          "metadata": {},
          "execution_count": 20
        }
      ]
    },
    {
      "cell_type": "code",
      "metadata": {
        "id": "cM88SymNJMlP"
      },
      "source": [
        "# Make predictions\n",
        "y_pred = model.predict(X_test)"
      ],
      "execution_count": null,
      "outputs": []
    },
    {
      "cell_type": "code",
      "metadata": {
        "colab": {
          "base_uri": "https://localhost:8080/"
        },
        "id": "KHmBe8uiJQB2",
        "outputId": "a4280531-b3a5-4c91-8d09-f79c4d366479"
      },
      "source": [
        "# Create a confusion matrix\n",
        "confusion = confusion_matrix(y_test, y_pred)\n",
        "confusion"
      ],
      "execution_count": null,
      "outputs": [
        {
          "output_type": "execute_result",
          "data": {
            "text/plain": [
              "array([[96, 27],\n",
              "       [24, 45]])"
            ]
          },
          "metadata": {},
          "execution_count": 22
        }
      ]
    },
    {
      "cell_type": "markdown",
      "metadata": {
        "id": "eR-7P8-4JYrV"
      },
      "source": [
        "In the previous instructions:\n",
        "\n",
        "*   We have the various instructions for the standard process for building machine learning models.\n",
        "*   `confusion` is the variable where we store our confusion matrix.\n",
        "*   `confusion_matrix()` is the function that creates the confusion matrix.\n",
        "  *   `y_test` is the first argument of the `confusion_matrix()` function and defines the real values (whether or not a patient has diabetes).\n",
        "  *   `y_pred` is the second argument of the `confusion_matrix()` function and defines the estimated values (our prediction about whether or not a patient has diabetes).\n",
        "\n",
        "Upon executing these instructions, we get a confusion matrix with:\n",
        "\n",
        "*   96 observations classified as TN.\n",
        "*   27 observations classified as FP.\n",
        "*   24 observations classified as FN.\n",
        "*   45 observations classified as TP. \n",
        "\n",
        "A confusion matrix is important because we can obtain **several performance metrics** for classification models. In particular, we can get: \n",
        "\n",
        "*   Success rate.\n",
        "*   Precision.\n",
        "*   Sensitivity.\n",
        "*   F-score.\n",
        "         \n",
        "          "
      ]
    },
    {
      "cell_type": "markdown",
      "metadata": {
        "id": "SInJUGJt-Bz9"
      },
      "source": [
        "#### Success Rate"
      ]
    },
    {
      "cell_type": "markdown",
      "metadata": {
        "id": "OLum03AU9_P0"
      },
      "source": [
        "As we know, the success rate is calculated by **dividing the number of observations the model predicts correctly by the total number of existing observations**. Therefore, we can express the success rate as a function of the following confusion matrix values:\n",
        "\n",
        "<br>\n",
        "<center>$\\text{Taxa de acerto} = \\frac{VP + VN}{VP+VN+FP+FN}$ </center>\n",
        "\n",
        "\n",
        "To evaluate the success rate using *scikit-learn* we follow the same process as seen before:   "
      ]
    },
    {
      "cell_type": "code",
      "metadata": {
        "id": "ZfC6L_i7PYDs",
        "colab": {
          "base_uri": "https://localhost:8080/"
        },
        "outputId": "b57b11f2-1c2d-4146-cde9-5e94e09dbb5d"
      },
      "source": [
        "from sklearn.metrics import accuracy_score\n",
        "\n",
        "accuracy_score(y_test, y_pred)"
      ],
      "execution_count": null,
      "outputs": [
        {
          "output_type": "execute_result",
          "data": {
            "text/plain": [
              "0.734375"
            ]
          },
          "metadata": {},
          "execution_count": 23
        }
      ]
    },
    {
      "cell_type": "markdown",
      "metadata": {
        "id": "DlXbbbfr-POB"
      },
      "source": [
        "#### Precision"
      ]
    },
    {
      "cell_type": "markdown",
      "metadata": {
        "id": "YbMXPvcEObl_"
      },
      "source": [
        "Precision evaluates **how many observations classified as positive were actually positive**. In other words, accuracy allows us to assess how accurate our model is in predicting positive cases. Mathematically, and depending on the values of the confusion matrix, the precision is given by:\n",
        "\n",
        "<br>\n",
        "<center>$\\text{Precisão} = \\frac{VP}{VP+FP}$</center>\n",
        "\n",
        "Typically, precision is used when our **goal is to limit the number of false positives**. For example, if we are working for a pharmaceutical company and they want a model that predicts how many times a particular drug can cure a certain disease, we will want to use precision as the evaluation metric. Since the development of new drugs is expensive, pharmaceutical companies will want to guarantee that the drugs work before advancing to large-scale production. Therefore, it is advantageous to have a model that gives few false positives (cases where we say that the drug cures the disease but, in reality, it does not).\n",
        "\n",
        "Precision can be evaluated using *scikit-learn* in the following way:\n"
      ]
    },
    {
      "cell_type": "code",
      "metadata": {
        "colab": {
          "base_uri": "https://localhost:8080/"
        },
        "id": "ar3xmxuiQ0ee",
        "outputId": "1c9ae60d-b635-453f-c65b-956bbf382c9d"
      },
      "source": [
        "from sklearn.metrics import precision_score\n",
        "\n",
        "precision_score(y_test, y_pred)"
      ],
      "execution_count": null,
      "outputs": [
        {
          "output_type": "execute_result",
          "data": {
            "text/plain": [
              "0.625"
            ]
          },
          "metadata": {},
          "execution_count": 24
        }
      ]
    },
    {
      "cell_type": "markdown",
      "metadata": {
        "id": "Wi2E_y85-aRV"
      },
      "source": [
        "#### Sensitivity"
      ]
    },
    {
      "cell_type": "markdown",
      "metadata": {
        "id": "dXlgKLzFQ38-"
      },
      "source": [
        "Sensitivity evaluates the **percentage of positive cases identified** by the model. In other words, it allows us to assess the model's ability to find all the positive cases. This metric can be obtained through the following expression:\n",
        "\n",
        "<br>\n",
        "<center>$\\text{Sensibilidade} = \\frac{VP}{VP+FN}$</center>\n",
        "\n",
        "Sensitivity is commonly used in cases where **we want to minimise the number of positive cases not identified by our model**. For example, if we are creating a model to detect a serious illness, we will want our model to identify as many positive cases as possible (even if this means increasing the number of FP). The inherent risk of not identifying a serious illness can be fatal for the patient and, therefore, we want to avoid this risk.\n",
        "\n",
        "To determine the sensitivity using *scikit-learn*, we do the following: "
      ]
    },
    {
      "cell_type": "code",
      "metadata": {
        "colab": {
          "base_uri": "https://localhost:8080/"
        },
        "id": "R1CVcqbcR49f",
        "outputId": "be0312dd-5b5d-4c2f-8d05-5c47ccfd2c8a"
      },
      "source": [
        "from sklearn.metrics import recall_score\n",
        "\n",
        "recall_score(y_test, y_pred)"
      ],
      "execution_count": null,
      "outputs": [
        {
          "output_type": "execute_result",
          "data": {
            "text/plain": [
              "0.6521739130434783"
            ]
          },
          "metadata": {},
          "execution_count": 25
        }
      ]
    },
    {
      "cell_type": "markdown",
      "metadata": {
        "id": "haKmfafQR_-0"
      },
      "source": [
        "It is important to know how to **distinguish sensitivity from precision** because when one improves, the other normally worsens:\n",
        "\n",
        "*   **Prioritising sensitivity** means that if we are in doubt as to whether a case is positive or negative, we will say that the case is positive. This can lead to a reduction in model accuracy because we were not very selective when classifying a given case as positive.\n",
        "*   By contrast, **prioritising precision** means that if we are in doubt as to whether a case is positive or negative, we will say that the case is negative. This can lead to a reduction in sensitivity because we were very selective when classifying a given case as positive."
      ]
    },
    {
      "cell_type": "markdown",
      "metadata": {
        "id": "sHk2su6S-mqJ"
      },
      "source": [
        "#### F-score"
      ]
    },
    {
      "cell_type": "markdown",
      "metadata": {
        "id": "VoQTYg3W-kYK"
      },
      "source": [
        "The F1-score is intended to **take into account accuracy and sensitivity**. Since this metric considers both precision and sensitivity, it is especially suitable for situations where we intend to generally evaluate the model's performance. The F1-score can be obtained through the following expression:\n",
        "\n",
        "<br>\n",
        "<center>$\\text{F1} = 2 \\times \\frac{\\text{precisão} \\times \\text{sensibilidade}}{\\text{precisão} + \\text{sensibilidade}}$</center>\n",
        "\n",
        "Its calculation in *scikit-learn* is done as follows: "
      ]
    },
    {
      "cell_type": "code",
      "metadata": {
        "colab": {
          "base_uri": "https://localhost:8080/"
        },
        "id": "hmvUzvpBVks4",
        "outputId": "26acbee9-0ced-4baf-ae9a-02be7964373c"
      },
      "source": [
        "from sklearn.metrics import f1_score\n",
        "\n",
        "f1_score(y_test, y_pred)"
      ],
      "execution_count": null,
      "outputs": [
        {
          "output_type": "execute_result",
          "data": {
            "text/plain": [
              "0.6382978723404256"
            ]
          },
          "metadata": {},
          "execution_count": 26
        }
      ]
    },
    {
      "cell_type": "markdown",
      "metadata": {
        "id": "tJMLWnqRXp24"
      },
      "source": [
        "###Regression\n",
        "\n",
        "As with classification problems, there are also **various evaluation metrics** that can be used in regression problems.\n",
        "\n",
        "The main **evaluation metric** is the coefficient of determination. However, for referencing purposes, two other evaluation metrics (the mean absolute error and the mean squared error) are also mentioned in the following chapters."
      ]
    },
    {
      "cell_type": "markdown",
      "metadata": {
        "id": "p1He1IeM-7y0"
      },
      "source": [
        "#### Coefficient of determination"
      ]
    },
    {
      "cell_type": "markdown",
      "metadata": {
        "id": "Vi7b_1YNZt-H"
      },
      "source": [
        "In practice, the **coefficient of determination (R2) is used quite often** in regression problems. Mathematically, R2 is calculated using the following formula: \n",
        "\n",
        "<br>\n",
        "<center>\n",
        "$R^2(y, \\hat{y}) = 1 - \\frac{\\sum_{i=1}^{n} (y_i - \\hat{y}_i)^2}{\\sum_{i=1}^{n} (y_i - \\bar{y})^2}$</center>\n",
        "\n",
        "where $y$ and $\\hat{y}$ are the real and estimated values, respectively.\n",
        "\n",
        "In practical terms, the most important thing is to know that:\n",
        "\n",
        "*   The maximum value of R2 is 1.\n",
        "*   The closer the the R2 value is to 1, the better the model is.   \n",
        "\n",
        "In *scikit-learn*, R2 can be calculated as demonstrated in the following **example**. This example solves a problem using the `boston-housing` dataset, which contains information about the housing market. The goal is to use this information to predict house prices. "
      ]
    },
    {
      "cell_type": "code",
      "metadata": {
        "id": "-DKOK6x0bExj"
      },
      "source": [
        "# Import libraries\n",
        "import pandas as pd \n",
        "\n",
        "import seaborn as sns\n",
        "\n",
        "from sklearn.model_selection import train_test_split\n",
        "from sklearn.ensemble import RandomForestRegressor\n",
        "\n",
        "from sklearn.metrics import r2_score"
      ],
      "execution_count": null,
      "outputs": []
    },
    {
      "cell_type": "code",
      "metadata": {
        "id": "JLdnb0BIbPOb"
      },
      "source": [
        "# Import data\n",
        "url = 'https://raw.githubusercontent.com/pmarcelino/datasets/master/boston-housing.csv'\n",
        "df = pd.read_csv(url)"
      ],
      "execution_count": null,
      "outputs": []
    },
    {
      "cell_type": "code",
      "metadata": {
        "id": "Ugzw8gpVbR4U"
      },
      "source": [
        "# Define independent and dependent variables\n",
        "X = df.drop('medv', axis=1)\n",
        "y = df['medv']"
      ],
      "execution_count": null,
      "outputs": []
    },
    {
      "cell_type": "code",
      "metadata": {
        "id": "5Few54OfbWcz"
      },
      "source": [
        "# Split the data into training and test datasets\n",
        "X_train, X_test, y_train, y_test = train_test_split(X, y, random_state=0)"
      ],
      "execution_count": null,
      "outputs": []
    },
    {
      "cell_type": "code",
      "metadata": {
        "id": "p7mPejSRbiQA"
      },
      "source": [
        "# Define the algorithm of the model\n",
        "model = RandomForestRegressor(random_state=42)"
      ],
      "execution_count": null,
      "outputs": []
    },
    {
      "cell_type": "code",
      "metadata": {
        "colab": {
          "base_uri": "https://localhost:8080/"
        },
        "id": "Ki6X1wsZbn_b",
        "outputId": "3f72d73c-241d-4a8b-b209-5ef5de1cecc0"
      },
      "source": [
        "# Train the model\n",
        "model.fit(X_train, y_train)"
      ],
      "execution_count": null,
      "outputs": [
        {
          "output_type": "execute_result",
          "data": {
            "text/plain": [
              "RandomForestRegressor(bootstrap=True, ccp_alpha=0.0, criterion='mse',\n",
              "                      max_depth=None, max_features='auto', max_leaf_nodes=None,\n",
              "                      max_samples=None, min_impurity_decrease=0.0,\n",
              "                      min_impurity_split=None, min_samples_leaf=1,\n",
              "                      min_samples_split=2, min_weight_fraction_leaf=0.0,\n",
              "                      n_estimators=100, n_jobs=None, oob_score=False,\n",
              "                      random_state=42, verbose=0, warm_start=False)"
            ]
          },
          "metadata": {},
          "execution_count": 32
        }
      ]
    },
    {
      "cell_type": "code",
      "metadata": {
        "id": "ufSm8qrSbqfx"
      },
      "source": [
        "# Make predictions\n",
        "y_pred = model.predict(X_test)"
      ],
      "execution_count": null,
      "outputs": []
    },
    {
      "cell_type": "code",
      "metadata": {
        "colab": {
          "base_uri": "https://localhost:8080/"
        },
        "id": "Hp9cHhljbt3P",
        "outputId": "33913bd6-8f15-4441-d88e-64780424a4f3"
      },
      "source": [
        "# Evaluate the model using the coefficient of determination as the metric\n",
        "r2_score(y_test, y_pred)"
      ],
      "execution_count": null,
      "outputs": [
        {
          "output_type": "execute_result",
          "data": {
            "text/plain": [
              "0.7842593634216501"
            ]
          },
          "metadata": {},
          "execution_count": 34
        }
      ]
    },
    {
      "cell_type": "markdown",
      "metadata": {
        "id": "1Esv4y-8_CMR"
      },
      "source": [
        "#### Mean absolute error"
      ]
    },
    {
      "cell_type": "markdown",
      "metadata": {
        "id": "zefyqZVzb32x"
      },
      "source": [
        "The mean absolute error (MAE) is given by the expression:\n",
        "\n",
        "<br>\n",
        "<center>\n",
        "$\\text{EMA}(y, \\hat{y}) = \\frac{1}{n_{\\text{observações}}} \\sum_{i=0}^{n_{\\text{observações}}-1} \\left| y_i - \\hat{y}_i \\right|.$</center>\n",
        "\n",
        "where $y$ and $\\hat{y}$ are the real and estimated values, respectively.\n",
        "\n",
        "To calculate the MAE in *scikit-learn*, you do the following: "
      ]
    },
    {
      "cell_type": "code",
      "metadata": {
        "colab": {
          "base_uri": "https://localhost:8080/"
        },
        "id": "W8ulKidZceh9",
        "outputId": "b7446529-7dae-4b05-db13-831d94b199f9"
      },
      "source": [
        "# Evaluate the model using the mean absolute error as the metric\n",
        "from sklearn.metrics import mean_absolute_error\n",
        "\n",
        "mean_absolute_error(y_test, y_pred)"
      ],
      "execution_count": null,
      "outputs": [
        {
          "output_type": "execute_result",
          "data": {
            "text/plain": [
              "2.597393700787403"
            ]
          },
          "metadata": {},
          "execution_count": 35
        }
      ]
    },
    {
      "cell_type": "markdown",
      "metadata": {
        "id": "HNSt8RM1_Sa3"
      },
      "source": [
        "When applying the MAE, we want its value to be as low as possible."
      ]
    },
    {
      "cell_type": "markdown",
      "metadata": {
        "id": "zz4PG6aw_NZW"
      },
      "source": [
        "#### Mean squared error"
      ]
    },
    {
      "cell_type": "markdown",
      "metadata": {
        "id": "UZ488YlYcpRy"
      },
      "source": [
        "The mean squared error is given by the expression:\n",
        "\n",
        "<br>\n",
        "<center>\n",
        "$\\text{EQM}(y, \\hat{y}) = \\frac{1}{n_\\text{observações}} \\sum_{i=0}^{n_\\text{observações} - 1} (y_i - \\hat{y}_i)^2.$</center>\n",
        "\n",
        "where $y$ and $\\hat{y}$ are the real and estimated values, respectively.\n",
        "\n",
        "To calculate the MSE in *scikit-learn*, you do the following:  "
      ]
    },
    {
      "cell_type": "code",
      "metadata": {
        "colab": {
          "base_uri": "https://localhost:8080/"
        },
        "id": "B8TbvMEidFpf",
        "outputId": "dd3b6282-806f-4a42-903f-fe0094796a00"
      },
      "source": [
        "# Evaluate the model using the mean squared error as the metric\n",
        "from sklearn.metrics import mean_squared_error\n",
        "\n",
        "mean_squared_error(y_test, y_pred)"
      ],
      "execution_count": null,
      "outputs": [
        {
          "output_type": "execute_result",
          "data": {
            "text/plain": [
              "17.62579759842521"
            ]
          },
          "metadata": {},
          "execution_count": 36
        }
      ]
    },
    {
      "cell_type": "markdown",
      "metadata": {
        "id": "jzsSz6S6dOWQ"
      },
      "source": [
        "When applying the MSE, we want its value to be as low as possible."
      ]
    },
    {
      "cell_type": "markdown",
      "metadata": {
        "id": "ppZmCxESdUsI"
      },
      "source": [
        "##Cross-validation\n",
        "\n",
        "**Evaluating the performance of models** is an essential phases in the process of building machine learning models. In our context, the greater a model's ability to predict what will happen in new situations (situations that are different from those seen during the training process), the better the model. Guessing what is going to happen is what we expect a predictive model to do.\n",
        "\n",
        "In the previous chapters, we looked at the **different ways we can evaluate** predictive models. Although each method was different, they all followed the same structure. Namely, the dataset was divided into training and test datasets, where the first was used to train the model and the second to test the model, as illustrated in the following example: "
      ]
    },
    {
      "cell_type": "code",
      "metadata": {
        "id": "Vsn5ssVOx2tO"
      },
      "source": [
        "# Import libraries\n",
        "import pandas as pd \n",
        "\n",
        "import seaborn as sns\n",
        "\n",
        "from sklearn.model_selection import train_test_split\n",
        "from sklearn.ensemble import RandomForestClassifier\n",
        "\n",
        "from sklearn.metrics import accuracy_score"
      ],
      "execution_count": null,
      "outputs": []
    },
    {
      "cell_type": "code",
      "metadata": {
        "colab": {
          "base_uri": "https://localhost:8080/",
          "height": 206
        },
        "id": "ehoXb-UCx9ry",
        "outputId": "cf8f8663-8aa6-4f73-c65c-2669d7b758a4"
      },
      "source": [
        "# Import data\n",
        "url = 'https://raw.githubusercontent.com/pmarcelino/datasets/master/iris.csv'\n",
        "df = pd.read_csv(url)\n",
        "df.head()"
      ],
      "execution_count": null,
      "outputs": [
        {
          "output_type": "execute_result",
          "data": {
            "text/html": [
              "<div>\n",
              "<style scoped>\n",
              "    .dataframe tbody tr th:only-of-type {\n",
              "        vertical-align: middle;\n",
              "    }\n",
              "\n",
              "    .dataframe tbody tr th {\n",
              "        vertical-align: top;\n",
              "    }\n",
              "\n",
              "    .dataframe thead th {\n",
              "        text-align: right;\n",
              "    }\n",
              "</style>\n",
              "<table border=\"1\" class=\"dataframe\">\n",
              "  <thead>\n",
              "    <tr style=\"text-align: right;\">\n",
              "      <th></th>\n",
              "      <th>sepal_length</th>\n",
              "      <th>sepal_width</th>\n",
              "      <th>petal_length</th>\n",
              "      <th>petal_width</th>\n",
              "      <th>species</th>\n",
              "    </tr>\n",
              "  </thead>\n",
              "  <tbody>\n",
              "    <tr>\n",
              "      <th>0</th>\n",
              "      <td>5.1</td>\n",
              "      <td>3.5</td>\n",
              "      <td>1.4</td>\n",
              "      <td>0.2</td>\n",
              "      <td>setosa</td>\n",
              "    </tr>\n",
              "    <tr>\n",
              "      <th>1</th>\n",
              "      <td>4.9</td>\n",
              "      <td>3.0</td>\n",
              "      <td>1.4</td>\n",
              "      <td>0.2</td>\n",
              "      <td>setosa</td>\n",
              "    </tr>\n",
              "    <tr>\n",
              "      <th>2</th>\n",
              "      <td>4.7</td>\n",
              "      <td>3.2</td>\n",
              "      <td>1.3</td>\n",
              "      <td>0.2</td>\n",
              "      <td>setosa</td>\n",
              "    </tr>\n",
              "    <tr>\n",
              "      <th>3</th>\n",
              "      <td>4.6</td>\n",
              "      <td>3.1</td>\n",
              "      <td>1.5</td>\n",
              "      <td>0.2</td>\n",
              "      <td>setosa</td>\n",
              "    </tr>\n",
              "    <tr>\n",
              "      <th>4</th>\n",
              "      <td>5.0</td>\n",
              "      <td>3.6</td>\n",
              "      <td>1.4</td>\n",
              "      <td>0.2</td>\n",
              "      <td>setosa</td>\n",
              "    </tr>\n",
              "  </tbody>\n",
              "</table>\n",
              "</div>"
            ],
            "text/plain": [
              "   sepal_length  sepal_width  petal_length  petal_width species\n",
              "0           5.1          3.5           1.4          0.2  setosa\n",
              "1           4.9          3.0           1.4          0.2  setosa\n",
              "2           4.7          3.2           1.3          0.2  setosa\n",
              "3           4.6          3.1           1.5          0.2  setosa\n",
              "4           5.0          3.6           1.4          0.2  setosa"
            ]
          },
          "metadata": {},
          "execution_count": 38
        }
      ]
    },
    {
      "cell_type": "code",
      "metadata": {
        "id": "KCDDgFUJyCWg"
      },
      "source": [
        "# Define the independent and dependent variables\n",
        "X = df.drop('species', axis=1)\n",
        "y = df['species']"
      ],
      "execution_count": null,
      "outputs": []
    },
    {
      "cell_type": "code",
      "metadata": {
        "id": "JIy1UdD1yJaz"
      },
      "source": [
        "# Split the data into training and test datasets\n",
        "X_train, X_test, y_train, y_test = train_test_split(X, y, random_state=0)"
      ],
      "execution_count": null,
      "outputs": []
    },
    {
      "cell_type": "code",
      "metadata": {
        "id": "7wdSt6YGyRhH"
      },
      "source": [
        "# Define the algorithm of the model\n",
        "model = RandomForestClassifier(random_state=0)"
      ],
      "execution_count": null,
      "outputs": []
    },
    {
      "cell_type": "code",
      "metadata": {
        "colab": {
          "base_uri": "https://localhost:8080/"
        },
        "id": "CIhgIq_LyUpj",
        "outputId": "96a5da4d-cbc5-470f-c07d-6901443ddc92"
      },
      "source": [
        "# Train the model\n",
        "model.fit(X_train, y_train)"
      ],
      "execution_count": null,
      "outputs": [
        {
          "output_type": "execute_result",
          "data": {
            "text/plain": [
              "RandomForestClassifier(bootstrap=True, ccp_alpha=0.0, class_weight=None,\n",
              "                       criterion='gini', max_depth=None, max_features='auto',\n",
              "                       max_leaf_nodes=None, max_samples=None,\n",
              "                       min_impurity_decrease=0.0, min_impurity_split=None,\n",
              "                       min_samples_leaf=1, min_samples_split=2,\n",
              "                       min_weight_fraction_leaf=0.0, n_estimators=100,\n",
              "                       n_jobs=None, oob_score=False, random_state=0, verbose=0,\n",
              "                       warm_start=False)"
            ]
          },
          "metadata": {},
          "execution_count": 42
        }
      ]
    },
    {
      "cell_type": "code",
      "metadata": {
        "id": "yGBmQJZUyW2y"
      },
      "source": [
        "# Make predictions\n",
        "y_pred = model.predict(X_test)"
      ],
      "execution_count": null,
      "outputs": []
    },
    {
      "cell_type": "code",
      "metadata": {
        "colab": {
          "base_uri": "https://localhost:8080/"
        },
        "id": "qQphrMbUyZSW",
        "outputId": "c47e66fa-8138-4c05-be96-8d52d52a79cb"
      },
      "source": [
        "# Evaluate the model using the success rate as the metric\n",
        "accuracy_score(y_test, y_pred)"
      ],
      "execution_count": null,
      "outputs": [
        {
          "output_type": "execute_result",
          "data": {
            "text/plain": [
              "0.9736842105263158"
            ]
          },
          "metadata": {},
          "execution_count": 44
        }
      ]
    },
    {
      "cell_type": "markdown",
      "metadata": {
        "id": "YcIpPfcmzAnE"
      },
      "source": [
        "In the previous example, we started by separating the original dataset into a training dataset and a test dataset. We then trained the model using the training dataset and evaluated the model by seeing how well it worked when applied to the test dataset. By doing this, we were able to **simulate how the model would behave when faced with a new situation** (a situation where the observations were different from those seen during the training process).\n",
        "\n",
        "While this approach makes sense, it has **limitations**. Suppose that upon (randomly) separating the original dataset into a training dataset and a test dataset, **all the 'hard-to-learn' examples remain in the training dataset**. We would be very lucky in this case because this would mean that all the 'easy' examples would be in the test dataset. Therefore, when we apply the model to the test dataset, the model would easily be able to make predictions and we would conclude that the model had a high performance.\n",
        "\n",
        "The opposite could also happen. If by chance, **all the 'easy-to-learn' examples were in the training dataset** and all the difficult examples were in the test dataset, we would conclude that our model had a lot of difficulty making predictions. As such, we would conclude that the model had low performance.\n",
        "\n",
        "A **similar situation happens to us at school**:\n",
        "\n",
        "*   When studying for a test, if we only do difficult exercises and therefore we are constantly making mistakes, our confidence in our ability to get a good mark on the test will be low (when in fact, we may actually be well prepared).\n",
        "*   Conversely, if we only do easy exercises, we may overestimate what we know and become overly confident in our ability to get a good mark on the test (when in fact, we may actually be poorly prepared).\n",
        "\n",
        "In both cases, we have a problem because there is a **discrepancy between the reality during training and the reality during testing**. \n",
        "\n",
        "To solve this problem, we can use **cross-validation**. This is a statistical technique that helps us to obtain more reliable estimates of the predictive capacity of models, which, in essence, involves evaluating their ability to make correct predictions when applied to new situations.\n",
        "\n",
        "There are **several ways to apply** cross-validation. In this chapter, we will look at two of the main methods:\n",
        "\n",
        "*   *K*-fold cross-validation.\n",
        "*   Stratified cross-validation."
      ]
    },
    {
      "cell_type": "markdown",
      "metadata": {
        "id": "6xNEncKS_lXr"
      },
      "source": [
        "### K-fold cross-validation"
      ]
    },
    {
      "cell_type": "markdown",
      "metadata": {
        "id": "7PqMO2nB_zIg"
      },
      "source": [
        "**K-fold cross-validation** is one of the most commonly used forms of cross-validation. In general, this is the form of cross-validation that we will want to apply to **regression** problems.\n",
        "\n",
        "The following steps describe how *k*-fold cross-validation is applied:\n",
        "\n",
        "1.   We start by **defining a value for *k*** (hence the *k iterations*). Typically, the values 5 (when we have a large dataset) or 10 (when we have a small dataset) are used. For illustrative purposes, let us assume that `k=5`.\n",
        "1.   The next step is to **divide the dataset into *k* equal parts**. Since we said `k=5`, we need to divide the dataset into five equal parts (1, 2, 3, 4 and 5). \n",
        "1.   Next, we take **four of these parts** (2, 3, 4, and 5) and we will consider that our training dataset comprises the data contained within these four parts. The **test dataset** will be what corresponds to the **remaining part** (1). \n",
        "1.   Now, we will follow the **usual procedure**. We will use the training dataset to train the model and the test dataset to evaluate the model. Thus, we get an estimate of the model's performance.\n",
        "2.   With this done, we return to step 3 and repeat the process. However, now we have to **change the parts**. For example, we use the data from parts 1, 3, 4 and 5 to train the model and the data from part 2 to test the model. After that, we carry out the instruction outlined in point 4, thereby obtaining a new estimate of the model's performance. \n",
        "2.   We proceed as described in point 5 until **all five parts have been used**, once only, as a **test dataset**. \n",
        "2.   At the end, we evaluate the performance of our model as being the **average of the performance estimates** obtained during the process described above. In this case, it would be the average of the five estimates calculated over the five iterations.\n",
        "\n",
        "Visually, what we are saying is:\n",
        "\n",
        "![k-fold cross-validation.png](data:image/png;base64,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)\n",
        "\n",
        "The application of *k*-fold cross-validation through the *scikit-learn* library is done using the `cross_val_score()` function, as indicated below:"
      ]
    },
    {
      "cell_type": "code",
      "metadata": {
        "id": "lJ8Ski4RAoh_",
        "colab": {
          "base_uri": "https://localhost:8080/"
        },
        "outputId": "80b7a72f-9c4c-4e2f-f035-b2ba3cfb6b93"
      },
      "source": [
        "from sklearn.model_selection import cross_val_score\n",
        "from sklearn.ensemble import RandomForestClassifier\n",
        "\n",
        "model = RandomForestClassifier()\n",
        "\n",
        "scores = cross_val_score(model, X, y)\n",
        "scores"
      ],
      "execution_count": null,
      "outputs": [
        {
          "output_type": "execute_result",
          "data": {
            "text/plain": [
              "array([0.96666667, 0.96666667, 0.93333333, 0.93333333, 1.        ])"
            ]
          },
          "metadata": {},
          "execution_count": 45
        }
      ]
    },
    {
      "cell_type": "markdown",
      "metadata": {
        "id": "GiOymK6X6AZc"
      },
      "source": [
        "In the previous instruction:\n",
        "\n",
        "*   `from sklearn.model_selection import cross_val_score` allows us to import the *scikit-learn* library module where the `cross_val_score()` function is located. \n",
        "*   `from.sklearn.ensemble import RandomForestClassifier` and `model = RandomForestClassifier()` are instructions that we are already familiar with and that are related to the construction of the model using the Random Forest algorithm. \n",
        "*   `scores` is the variable where we will store the estimates of the model's performance.\n",
        "*   `cross_val_score(model, X, y)` is the function that performs cross-validation.\n",
        "  *   The first parameter (`model`) indicates the algorithm that we will use in each of the iterations to build the predictive model.\n",
        "  *   The second parameter (`X`) refers to the independent variables.\n",
        "  *   The third parameter (`y`) refers to the dependent variable.\n",
        "\n",
        "So, as we can see, one of the main differences here is that when using the `cross_val_score()` function, we no longer need to explicitly split the original dataset into a training dataset (`X_train`) and test dataset (`X_test`). This process is done automatically by the `cross_val_score()` function.\n",
        "\n",
        "One of the benefits of using *k*-fold cross-validation is that we get **more reliable estimates** of the performance of our models. *K*-fold cross-validation runs various simulations where it applies the model to different datasets, thereby giving us a more complete insight into the model's behaviour. Therefore our confidence in the model's performance is greater.\n",
        "\n",
        "Going back to the **test analogy**, below we can see the difference between the performance evaluation methodology that was previously applied and the methodology based on the use of *k*-fold cross-validation:\n",
        "\n",
        "*   **Previously applied methodology**. This methodology corresponds to studying for a test and, during our studying, doing **a test** from previous years whose result we can use as an estimate of the mark we will get on the test for which we are studying.\n",
        "*   ***K*-fold cross-validation**. This methodology corresponds to studying for a test and, during our studying, doing **various tests** from previous years and then using the average of the tests' results as an estimate of the mark we will get on the test for which we are studying.\n",
        "\n",
        "Because it has a greater number of simulations, the methodology based on *k*-fold cross-validation is more robust and we are more confident in the estimate of the mark we will get.\n",
        "\n",
        "In addition to increasing the confidence of the estimates of models' performance, using *k*-fold cross-validation also provides us with **information about how sensitive the model is** to changes in the training and test datasets.\n",
        "\n",
        "As an **example**, we will use two classification models whose success rate estimates were obtained using cross-validation with k=5 iterations, as described in the following table:\n",
        "\n"
      ]
    },
    {
      "cell_type": "code",
      "metadata": {
        "colab": {
          "base_uri": "https://localhost:8080/",
          "height": 112
        },
        "id": "A9pyzDCRcrqW",
        "outputId": "33615ce4-b313-4b2b-88b0-ffbabace8298"
      },
      "source": [
        "# Generate table\n",
        "scores_example = pd.DataFrame({'Estimate 1': ['70%','95%'],\n",
        "                               'Estimate 3': ['75%','70%'],\n",
        "                               'Estimate 4': ['80%','80%'],\n",
        "                               'Estimate 5': ['75%','55%'],\n",
        "                               'Final Estimate': ['75%','75%']})\n",
        "scores_example"
      ],
      "execution_count": null,
      "outputs": [
        {
          "output_type": "execute_result",
          "data": {
            "text/html": [
              "<div>\n",
              "<style scoped>\n",
              "    .dataframe tbody tr th:only-of-type {\n",
              "        vertical-align: middle;\n",
              "    }\n",
              "\n",
              "    .dataframe tbody tr th {\n",
              "        vertical-align: top;\n",
              "    }\n",
              "\n",
              "    .dataframe thead th {\n",
              "        text-align: right;\n",
              "    }\n",
              "</style>\n",
              "<table border=\"1\" class=\"dataframe\">\n",
              "  <thead>\n",
              "    <tr style=\"text-align: right;\">\n",
              "      <th></th>\n",
              "      <th>Estimate 1</th>\n",
              "      <th>Estimate 3</th>\n",
              "      <th>Estimate 4</th>\n",
              "      <th>Estimate 5</th>\n",
              "      <th>Final Estimate</th>\n",
              "    </tr>\n",
              "  </thead>\n",
              "  <tbody>\n",
              "    <tr>\n",
              "      <th>0</th>\n",
              "      <td>70%</td>\n",
              "      <td>75%</td>\n",
              "      <td>80%</td>\n",
              "      <td>75%</td>\n",
              "      <td>75%</td>\n",
              "    </tr>\n",
              "    <tr>\n",
              "      <th>1</th>\n",
              "      <td>95%</td>\n",
              "      <td>70%</td>\n",
              "      <td>80%</td>\n",
              "      <td>55%</td>\n",
              "      <td>75%</td>\n",
              "    </tr>\n",
              "  </tbody>\n",
              "</table>\n",
              "</div>"
            ],
            "text/plain": [
              "  Estimate 1 Estimate 3 Estimate 4 Estimate 5 Final Estimate\n",
              "0        70%        75%        80%        75%            75%\n",
              "1        95%        70%        80%        55%            75%"
            ]
          },
          "metadata": {},
          "execution_count": 46
        }
      ]
    },
    {
      "cell_type": "markdown",
      "metadata": {
        "id": "srQi7PhTc50F"
      },
      "source": [
        "This example illustrates the sensitivity of models to changes in the training and test datasets. Although both models have the same final estimate of success (75%), the truth is that **Model A is more stable than Model B** because its predictive capacity has smaller fluctuations (the values are always between 70% and 80%) than the predictive capacity of Model B (the values range between 55% and 95%). \n",
        "\n",
        "This means that **Model A is has low sensitivity to changes** in the training and test datasets (regardless of the dataset, its performance is always similar), whereas **Model B is sensitive to these changes** (its performance is different for the training and test datasets). Therefore by applying *k*-fold cross-validation, we are able to conclude that **Model A is preferable**.\n",
        "\n",
        "Finally, it should be noted that the biggest **disadvantage of *k*-fold cross-validation** is its computational cost, which increases as the *k* value increases. By using *k*-fold cross-validation, we are training *k* models instead of one model (as we did before). Consequently, the code takes approximately *k* times longer to execute and its computational cost increases."
      ]
    },
    {
      "cell_type": "markdown",
      "metadata": {
        "id": "kwAIlnE__7_R"
      },
      "source": [
        "###Stratified cross-validation"
      ]
    },
    {
      "cell_type": "markdown",
      "metadata": {
        "id": "9sp-EAEc_8yE"
      },
      "source": [
        "While *k*-fold cross-validation is a more reliable way to assess the performance of prediction models, there are cases where it does not work as well. Evaluating the performance of **classification** models, for example, is one such case.\n",
        "\n",
        "So let us look at the following situation: "
      ]
    },
    {
      "cell_type": "code",
      "metadata": {
        "colab": {
          "base_uri": "https://localhost:8080/"
        },
        "id": "Hm1fj3bM1kyK",
        "outputId": "987030e9-d095-41ad-a87e-99c05dbd15e8"
      },
      "source": [
        "with pd.option_context('display.max_rows', None):  # To forcingly print all cases\n",
        "    print(y)"
      ],
      "execution_count": null,
      "outputs": [
        {
          "output_type": "stream",
          "name": "stdout",
          "text": [
            "0          setosa\n",
            "1          setosa\n",
            "2          setosa\n",
            "3          setosa\n",
            "4          setosa\n",
            "5          setosa\n",
            "6          setosa\n",
            "7          setosa\n",
            "8          setosa\n",
            "9          setosa\n",
            "10         setosa\n",
            "11         setosa\n",
            "12         setosa\n",
            "13         setosa\n",
            "14         setosa\n",
            "15         setosa\n",
            "16         setosa\n",
            "17         setosa\n",
            "18         setosa\n",
            "19         setosa\n",
            "20         setosa\n",
            "21         setosa\n",
            "22         setosa\n",
            "23         setosa\n",
            "24         setosa\n",
            "25         setosa\n",
            "26         setosa\n",
            "27         setosa\n",
            "28         setosa\n",
            "29         setosa\n",
            "30         setosa\n",
            "31         setosa\n",
            "32         setosa\n",
            "33         setosa\n",
            "34         setosa\n",
            "35         setosa\n",
            "36         setosa\n",
            "37         setosa\n",
            "38         setosa\n",
            "39         setosa\n",
            "40         setosa\n",
            "41         setosa\n",
            "42         setosa\n",
            "43         setosa\n",
            "44         setosa\n",
            "45         setosa\n",
            "46         setosa\n",
            "47         setosa\n",
            "48         setosa\n",
            "49         setosa\n",
            "50     versicolor\n",
            "51     versicolor\n",
            "52     versicolor\n",
            "53     versicolor\n",
            "54     versicolor\n",
            "55     versicolor\n",
            "56     versicolor\n",
            "57     versicolor\n",
            "58     versicolor\n",
            "59     versicolor\n",
            "60     versicolor\n",
            "61     versicolor\n",
            "62     versicolor\n",
            "63     versicolor\n",
            "64     versicolor\n",
            "65     versicolor\n",
            "66     versicolor\n",
            "67     versicolor\n",
            "68     versicolor\n",
            "69     versicolor\n",
            "70     versicolor\n",
            "71     versicolor\n",
            "72     versicolor\n",
            "73     versicolor\n",
            "74     versicolor\n",
            "75     versicolor\n",
            "76     versicolor\n",
            "77     versicolor\n",
            "78     versicolor\n",
            "79     versicolor\n",
            "80     versicolor\n",
            "81     versicolor\n",
            "82     versicolor\n",
            "83     versicolor\n",
            "84     versicolor\n",
            "85     versicolor\n",
            "86     versicolor\n",
            "87     versicolor\n",
            "88     versicolor\n",
            "89     versicolor\n",
            "90     versicolor\n",
            "91     versicolor\n",
            "92     versicolor\n",
            "93     versicolor\n",
            "94     versicolor\n",
            "95     versicolor\n",
            "96     versicolor\n",
            "97     versicolor\n",
            "98     versicolor\n",
            "99     versicolor\n",
            "100     virginica\n",
            "101     virginica\n",
            "102     virginica\n",
            "103     virginica\n",
            "104     virginica\n",
            "105     virginica\n",
            "106     virginica\n",
            "107     virginica\n",
            "108     virginica\n",
            "109     virginica\n",
            "110     virginica\n",
            "111     virginica\n",
            "112     virginica\n",
            "113     virginica\n",
            "114     virginica\n",
            "115     virginica\n",
            "116     virginica\n",
            "117     virginica\n",
            "118     virginica\n",
            "119     virginica\n",
            "120     virginica\n",
            "121     virginica\n",
            "122     virginica\n",
            "123     virginica\n",
            "124     virginica\n",
            "125     virginica\n",
            "126     virginica\n",
            "127     virginica\n",
            "128     virginica\n",
            "129     virginica\n",
            "130     virginica\n",
            "131     virginica\n",
            "132     virginica\n",
            "133     virginica\n",
            "134     virginica\n",
            "135     virginica\n",
            "136     virginica\n",
            "137     virginica\n",
            "138     virginica\n",
            "139     virginica\n",
            "140     virginica\n",
            "141     virginica\n",
            "142     virginica\n",
            "143     virginica\n",
            "144     virginica\n",
            "145     virginica\n",
            "146     virginica\n",
            "147     virginica\n",
            "148     virginica\n",
            "149     virginica\n",
            "Name: species, dtype: object\n"
          ]
        }
      ]
    },
    {
      "cell_type": "markdown",
      "metadata": {
        "id": "Nl77Jctt1zi9"
      },
      "source": [
        "As we can see, the **data is grouped by class**:\n",
        "\n",
        "*   First we have the data for the 'setosa' class.\n",
        "*   Then we have the data for the 'versicolor' class.\n",
        "*   And finally, we have the data for the 'virginica' class.\n",
        "\n",
        "If we applied cross-validation with `k=3` iterations to this dataset, what would happen? \n",
        "\n",
        "Assuming that, on the first iteration, part 1 and 2 gave us the training dataset and part 3 gave us the test dataset, we would then have a model **unable to make accurate predictions** because, during training, it would never see observations from the 'virginica' class (the number of observations of each species is equal and ordered, meaning that each of the three parts only contains one species' observations). This means that the model would have no way of knowing the characteristics of an observation from the 'virginica' class and, therefore, it would have no way of predicting a new observation as belonging to the 'viginica' class. This situation would also occur for the remaining iterations, which would make us believe that it would be impossible to create a prediction model to solve the problem. Something that **is not true**.\n",
        "\n",
        "The way to solve this problem is to use a technique called **stratified cross-validation**. In this technique, we separate the training and test datasets in a similar way to how it is done in *k*-fold cross-validation, but with one difference: the division is done in such a way as to ensure that the proportion of observations in each part is similar to the proportion of observations in each class. For example, if 70% of our observations are from the 'versicolor' class and 30% are from the 'virginica' class, then stratified cross-validation ensures that each of the *k* parts has 70% of its observations from the 'versicolor' class and 30% from the 'virginica' class.\n",
        "\n",
        "Visually, we can show it in the following way:\n",
        "\n",
        "![k-fold cross-validation_2.png](data:image/png;base64,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)"
      ]
    },
    {
      "cell_type": "markdown",
      "metadata": {
        "id": "8AttrOcc_R0b"
      },
      "source": [
        "It is recommended to use the stratified cross-validation method instead of *k*-fold cross-validation when solving **classification** problems. However for regression problems it is customary to use *k*-fold cross-validation because the issue of differences in the proportion of observations does not factor into these problems.\n",
        "\n",
        "By default, *scikit-learn* applies stratified cross-validation to classification problems and applies *k*-fold cross-validation when we are dealing with a regression problem. As such, **we do not have to worry about this issue when we are programming**, all we have to do is apply the `cross_val_score()` function."
      ]
    },
    {
      "cell_type": "markdown",
      "metadata": {
        "id": "hPipEubsAET0"
      },
      "source": [
        "## Summary\n",
        "\n",
        "In this tutorial we looked at:\n",
        "\n",
        "*   **Evaluation metrics**. There are several metrics to assess the performance of classification models. The use of these metrics depends on the problem we want to solve. Likewise, there are also several metrics to assess the performance of regression models. Here, however, the coefficient of determination (R2) is predominantly used as the evaluation metric for performance.\n",
        "*   **Cross-validation**. We covered two types of cross-validation, *k*-fold cross-validation and stratified cross-validation. The first applies to regression problems and the second to classification problems.\n",
        "\n",
        "Now that we have covered these concepts, we have concluded our presentation of the different phases of the standard process for building machine learning models and we are ready to solve any kind of prediction problem."
      ]
    }
  ]
}